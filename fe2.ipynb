{
 "cells": [
  {
   "cell_type": "code",
   "execution_count": 113,
   "metadata": {},
   "outputs": [],
   "source": [
    "%matplotlib inline\n",
    "import pandas as pd\n",
    "import numpy as np\n",
    "import matplotlib.pyplot as plt\n",
    "import seaborn as sns\n",
    "import pickle\n",
    "from sklearn.metrics import accuracy_score, recall_score, precision_score, \\\n",
    "f1_score, roc_curve, auc, roc_auc_score, precision_recall_curve\n",
    "from sklearn.linear_model import LogisticRegression\n",
    "from collections import OrderedDict, Counter\n",
    "from sklearn.model_selection import KFold, train_test_split\n",
    "from sklearn.preprocessing import StandardScaler, PolynomialFeatures\n",
    "from sklearn.neighbors import KNeighborsClassifier\n",
    "from sklearn.naive_bayes import GaussianNB\n",
    "from sklearn.ensemble import RandomForestClassifier\n",
    "\n",
    "import xgboost as xgb\n",
    "\n",
    "sns.set(font_scale=1.2, style='white')"
   ]
  },
  {
   "cell_type": "markdown",
   "metadata": {},
   "source": [
    "### Load subset data"
   ]
  },
  {
   "cell_type": "code",
   "execution_count": 2,
   "metadata": {},
   "outputs": [],
   "source": [
    "with open('../data/larger_subset.pkl', 'rb') as f:\n",
    "    order_sub, prior_sub, recent_sub = pickle.load(f)"
   ]
  },
  {
   "cell_type": "code",
   "execution_count": 3,
   "metadata": {},
   "outputs": [
    {
     "data": {
      "text/plain": [
       "((83003, 7), (812517, 4), (33952, 4))"
      ]
     },
     "execution_count": 3,
     "metadata": {},
     "output_type": "execute_result"
    }
   ],
   "source": [
    "order_sub.shape, prior_sub.shape, recent_sub.shape"
   ]
  },
  {
   "cell_type": "code",
   "execution_count": 4,
   "metadata": {},
   "outputs": [
    {
     "data": {
      "text/plain": [
       "3175"
      ]
     },
     "execution_count": 4,
     "metadata": {},
     "output_type": "execute_result"
    }
   ],
   "source": [
    "recent_sub.order_id.nunique()"
   ]
  },
  {
   "cell_type": "code",
   "execution_count": null,
   "metadata": {},
   "outputs": [],
   "source": [
    "# #Take a 475 orders (~15%) holdout set by order_id in the recent order set and add order information to it\n",
    "\n",
    "# holdout_order_id = np.random.choice(recent_sub.order_id.unique(), 475, replace=False)\n",
    "\n",
    "# test_order = order_sub[order_sub.order_id.isin(holdout_order_id)]\n",
    "# test_order.shape\n",
    "\n",
    "# train_order = order_sub[(~order_sub.order_id.isin(holdout_order_id)) & (order_sub.eval_set=='train')]\n",
    "# train_order.shape\n",
    "\n",
    "# #save train, test set\n",
    "# with open('data/larger_train_test_df.pkl', 'wb') as f:\n",
    "#     pickle.dump((train_order, test_order),f)"
   ]
  },
  {
   "cell_type": "code",
   "execution_count": 13,
   "metadata": {},
   "outputs": [],
   "source": [
    "train_order = order_sub[order_sub.eval_set=='train']"
   ]
  },
  {
   "cell_type": "markdown",
   "metadata": {},
   "source": [
    "**Add user_id to recent_order to make it easier to search for the prior orders from the proior orders.**"
   ]
  },
  {
   "cell_type": "code",
   "execution_count": 5,
   "metadata": {},
   "outputs": [],
   "source": [
    "recent_sub1= pd.merge(recent_sub, order_sub[['order_id', 'user_id']], on='order_id', how = 'left')"
   ]
  },
  {
   "cell_type": "code",
   "execution_count": 6,
   "metadata": {},
   "outputs": [],
   "source": [
    "recent_order_train = recent_sub1"
   ]
  },
  {
   "cell_type": "markdown",
   "metadata": {},
   "source": [
    "### Baseline model with one feature: how many times the user reordered the order in the past."
   ]
  },
  {
   "cell_type": "code",
   "execution_count": 7,
   "metadata": {},
   "outputs": [],
   "source": [
    "prior_details = pd.merge(prior_sub, order_sub[order_sub.eval_set=='prior'], on='order_id', how='right')\n",
    "prior_summary= prior_details.groupby(['user_id','product_id'], as_index=False).reordered.sum()\n",
    "prior_summary.rename({'reordered':'user_product_reordered_past'}, axis=1, inplace=True)"
   ]
  },
  {
   "cell_type": "code",
   "execution_count": 8,
   "metadata": {},
   "outputs": [
    {
     "data": {
      "text/html": [
       "<div>\n",
       "<style scoped>\n",
       "    .dataframe tbody tr th:only-of-type {\n",
       "        vertical-align: middle;\n",
       "    }\n",
       "\n",
       "    .dataframe tbody tr th {\n",
       "        vertical-align: top;\n",
       "    }\n",
       "\n",
       "    .dataframe thead th {\n",
       "        text-align: right;\n",
       "    }\n",
       "</style>\n",
       "<table border=\"1\" class=\"dataframe\">\n",
       "  <thead>\n",
       "    <tr style=\"text-align: right;\">\n",
       "      <th></th>\n",
       "      <th>user_id</th>\n",
       "      <th>product_id</th>\n",
       "      <th>user_product_reordered_past</th>\n",
       "    </tr>\n",
       "  </thead>\n",
       "  <tbody>\n",
       "    <tr>\n",
       "      <th>0</th>\n",
       "      <td>33</td>\n",
       "      <td>455</td>\n",
       "      <td>0</td>\n",
       "    </tr>\n",
       "    <tr>\n",
       "      <th>1</th>\n",
       "      <td>33</td>\n",
       "      <td>2408</td>\n",
       "      <td>0</td>\n",
       "    </tr>\n",
       "    <tr>\n",
       "      <th>2</th>\n",
       "      <td>33</td>\n",
       "      <td>2514</td>\n",
       "      <td>0</td>\n",
       "    </tr>\n",
       "    <tr>\n",
       "      <th>3</th>\n",
       "      <td>33</td>\n",
       "      <td>2516</td>\n",
       "      <td>0</td>\n",
       "    </tr>\n",
       "    <tr>\n",
       "      <th>4</th>\n",
       "      <td>33</td>\n",
       "      <td>7039</td>\n",
       "      <td>1</td>\n",
       "    </tr>\n",
       "  </tbody>\n",
       "</table>\n",
       "</div>"
      ],
      "text/plain": [
       "   user_id  product_id  user_product_reordered_past\n",
       "0       33         455                            0\n",
       "1       33        2408                            0\n",
       "2       33        2514                            0\n",
       "3       33        2516                            0\n",
       "4       33        7039                            1"
      ]
     },
     "execution_count": 8,
     "metadata": {},
     "output_type": "execute_result"
    }
   ],
   "source": [
    "prior_summary.head()"
   ]
  },
  {
   "cell_type": "code",
   "execution_count": 284,
   "metadata": {},
   "outputs": [],
   "source": [
    "with open('data/prior_orders.pkl', 'wb') as f:\n",
    "    pickle.dump((prior_details, prior_summary), f)"
   ]
  },
  {
   "cell_type": "code",
   "execution_count": 9,
   "metadata": {},
   "outputs": [
    {
     "data": {
      "text/html": [
       "<div>\n",
       "<style scoped>\n",
       "    .dataframe tbody tr th:only-of-type {\n",
       "        vertical-align: middle;\n",
       "    }\n",
       "\n",
       "    .dataframe tbody tr th {\n",
       "        vertical-align: top;\n",
       "    }\n",
       "\n",
       "    .dataframe thead th {\n",
       "        text-align: right;\n",
       "    }\n",
       "</style>\n",
       "<table border=\"1\" class=\"dataframe\">\n",
       "  <thead>\n",
       "    <tr style=\"text-align: right;\">\n",
       "      <th></th>\n",
       "      <th>order_id</th>\n",
       "      <th>product_id</th>\n",
       "      <th>add_to_cart_order</th>\n",
       "      <th>reordered</th>\n",
       "      <th>user_id</th>\n",
       "    </tr>\n",
       "  </thead>\n",
       "  <tbody>\n",
       "    <tr>\n",
       "      <th>0</th>\n",
       "      <td>393</td>\n",
       "      <td>12078</td>\n",
       "      <td>1</td>\n",
       "      <td>1</td>\n",
       "      <td>111860</td>\n",
       "    </tr>\n",
       "    <tr>\n",
       "      <th>1</th>\n",
       "      <td>393</td>\n",
       "      <td>6184</td>\n",
       "      <td>2</td>\n",
       "      <td>1</td>\n",
       "      <td>111860</td>\n",
       "    </tr>\n",
       "    <tr>\n",
       "      <th>2</th>\n",
       "      <td>393</td>\n",
       "      <td>32403</td>\n",
       "      <td>3</td>\n",
       "      <td>1</td>\n",
       "      <td>111860</td>\n",
       "    </tr>\n",
       "  </tbody>\n",
       "</table>\n",
       "</div>"
      ],
      "text/plain": [
       "   order_id  product_id  add_to_cart_order  reordered  user_id\n",
       "0       393       12078                  1          1   111860\n",
       "1       393        6184                  2          1   111860\n",
       "2       393       32403                  3          1   111860"
      ]
     },
     "execution_count": 9,
     "metadata": {},
     "output_type": "execute_result"
    }
   ],
   "source": [
    "recent_order_train.head(3)"
   ]
  },
  {
   "cell_type": "code",
   "execution_count": 10,
   "metadata": {},
   "outputs": [
    {
     "data": {
      "text/plain": [
       "(33952, 5)"
      ]
     },
     "execution_count": 10,
     "metadata": {},
     "output_type": "execute_result"
    }
   ],
   "source": [
    "recent_order_train.shape"
   ]
  },
  {
   "cell_type": "markdown",
   "metadata": {},
   "source": [
    "Get all the product the user ordered in the past and predict if he will reorder in his recent order. Assign the reordered information (0 or 1) to the prior order (groupby user and product id)"
   ]
  },
  {
   "cell_type": "code",
   "execution_count": 14,
   "metadata": {},
   "outputs": [],
   "source": [
    "X = prior_summary[prior_summary.user_id.isin(train_order.user_id)]"
   ]
  },
  {
   "cell_type": "code",
   "execution_count": 15,
   "metadata": {},
   "outputs": [],
   "source": [
    "df = pd.merge(X, recent_order_train[['user_id', 'product_id', 'reordered']], on=['user_id', 'product_id'], how='left')"
   ]
  },
  {
   "cell_type": "code",
   "execution_count": 16,
   "metadata": {},
   "outputs": [],
   "source": [
    "df['reordered'].fillna(0,inplace=True)"
   ]
  },
  {
   "cell_type": "code",
   "execution_count": 17,
   "metadata": {},
   "outputs": [
    {
     "data": {
      "text/plain": [
       "(211101, 4)"
      ]
     },
     "execution_count": 17,
     "metadata": {},
     "output_type": "execute_result"
    }
   ],
   "source": [
    "df.shape"
   ]
  },
  {
   "cell_type": "code",
   "execution_count": 18,
   "metadata": {},
   "outputs": [
    {
     "data": {
      "text/html": [
       "<div>\n",
       "<style scoped>\n",
       "    .dataframe tbody tr th:only-of-type {\n",
       "        vertical-align: middle;\n",
       "    }\n",
       "\n",
       "    .dataframe tbody tr th {\n",
       "        vertical-align: top;\n",
       "    }\n",
       "\n",
       "    .dataframe thead th {\n",
       "        text-align: right;\n",
       "    }\n",
       "</style>\n",
       "<table border=\"1\" class=\"dataframe\">\n",
       "  <thead>\n",
       "    <tr style=\"text-align: right;\">\n",
       "      <th></th>\n",
       "      <th>user_id</th>\n",
       "      <th>product_id</th>\n",
       "      <th>user_product_reordered_past</th>\n",
       "      <th>reordered</th>\n",
       "    </tr>\n",
       "  </thead>\n",
       "  <tbody>\n",
       "    <tr>\n",
       "      <th>0</th>\n",
       "      <td>41</td>\n",
       "      <td>226</td>\n",
       "      <td>0</td>\n",
       "      <td>0.0</td>\n",
       "    </tr>\n",
       "    <tr>\n",
       "      <th>1</th>\n",
       "      <td>41</td>\n",
       "      <td>1987</td>\n",
       "      <td>1</td>\n",
       "      <td>0.0</td>\n",
       "    </tr>\n",
       "    <tr>\n",
       "      <th>2</th>\n",
       "      <td>41</td>\n",
       "      <td>2295</td>\n",
       "      <td>0</td>\n",
       "      <td>0.0</td>\n",
       "    </tr>\n",
       "  </tbody>\n",
       "</table>\n",
       "</div>"
      ],
      "text/plain": [
       "   user_id  product_id  user_product_reordered_past  reordered\n",
       "0       41         226                            0        0.0\n",
       "1       41        1987                            1        0.0\n",
       "2       41        2295                            0        0.0"
      ]
     },
     "execution_count": 18,
     "metadata": {},
     "output_type": "execute_result"
    }
   ],
   "source": [
    "df.head(3)"
   ]
  },
  {
   "cell_type": "markdown",
   "metadata": {},
   "source": [
    "Define a cross validation function to try different features and models. "
   ]
  },
  {
   "cell_type": "code",
   "execution_count": 19,
   "metadata": {},
   "outputs": [],
   "source": [
    "def cv_model4(estimator, df, cv=5, scale=False, v=False):\n",
    "    acc_list=[]\n",
    "    rec_list=[]\n",
    "    prec_list=[]\n",
    "    f1_list=[]\n",
    "    auc_list=[]\n",
    "    f1_train=[]  #check train score if see if the model overfits\n",
    "    i=0\n",
    "    highest_f1=[]\n",
    "    if v:\n",
    "        fig, ax = plt.subplots(1,3, figsize=(15,5))\n",
    "    \n",
    "    kf = KFold(n_splits=cv, shuffle=True)\n",
    "    for user_train_ind, user_val_ind in kf.split(df.user_id.unique()):\n",
    "    #print(user_train.shape, user_val.shape)\n",
    "        user_train=df.user_id.unique()[user_train_ind]\n",
    "        user_val=df.user_id.unique()[user_val_ind]\n",
    "        df1 = df[df.user_id.isin(user_train)]\n",
    "        y_train = df1['reordered']\n",
    "        X_train = df1.drop(columns=['reordered', 'user_id', 'product_id'])\n",
    "        feature_names=X_train.columns\n",
    "        df2 = df[df.user_id.isin(user_val)]\n",
    "        y_val = df2['reordered']\n",
    "        X_val = df2.drop(columns=['reordered', 'user_id', 'product_id'])    \n",
    "        #print(user_train.shape, user_val.shape, X_train.shape, X_val.shape, y_train.shape, y_val.shape)\n",
    "        if scale == True:\n",
    "            scaler = StandardScaler()\n",
    "            X_train = scaler.fit_transform(X_train)\n",
    "            X_val = scaler.transform(X_val)\n",
    "        lm = estimator\n",
    "        lm.fit(X_train, y_train)\n",
    "        y_pred = lm.predict(X_val)\n",
    "        y_pred_train = lm.predict(X_train)\n",
    "    \n",
    "        acc_list.append(accuracy_score(y_val, y_pred))\n",
    "        rec_list.append(recall_score(y_val, y_pred))\n",
    "        prec_list.append(precision_score(y_val, y_pred))\n",
    "        f1_list.append(f1_score(y_val, y_pred))\n",
    "        f1_train.append(f1_score(y_train, y_pred_train))\n",
    "        \n",
    "        y_pred_prob = lm.predict_proba(X_val)[:,1]\n",
    "        fpr, tpr, _ = roc_curve(y_val, y_pred_prob, pos_label=1)\n",
    "        auc_list.append(auc(fpr, tpr))\n",
    "        if v:\n",
    "            i += 1\n",
    "            ax[0].plot(fpr, tpr, label='ROC Fold %d' % i)\n",
    "        rec, prec, thres = precision_recall_curve(y_val, y_pred_prob, pos_label=1)\n",
    "        if v:\n",
    "            ax[1].plot(rec, prec, label ='Fold %d' %i)\n",
    "        f1s = []\n",
    "        for r, p, t in zip(rec, prec, thres):\n",
    "            if r and p:\n",
    "                f1s.append((2*r*p/(r+p), t, r, p))\n",
    "        if v:\n",
    "            print('Fold %d highest F1: %.3f at threshold p= %.3f. Recall is %.3f, precision is %.3f' \n",
    "                  % (i, *sorted(f1s, reverse=True)[0]))\n",
    "        highest_f1.append(sorted(f1s, reverse=True)[0][0])\n",
    "        if v:\n",
    "            ax[2].plot(list(zip(*f1s))[1], list(zip(*f1s))[0], label='Fold %d' %i)\n",
    "    if v:        \n",
    "        plt.legend()\n",
    "        ax[0].set_xlabel('FPR')\n",
    "        ax[0].set_ylabel('TPR')\n",
    "        ax[0].set_title('ROC Curve')\n",
    "        ax[1].set_xlabel('Recall')\n",
    "        ax[1].set_ylabel('Precision')\n",
    "        ax[1].set_title('Precision-Recall Curve')\n",
    "        ax[2].set_xlabel('P threshold')\n",
    "        ax[2].set_ylabel('F1 score')\n",
    "        ax[2].set_title('F1 Score vs. Positive Class Decision Probability Threshold')\n",
    "\n",
    "    if v:\n",
    "        mean_acc = np.mean(acc_list)\n",
    "        std_acc = np.std(acc_list)\n",
    "        mean_rec = np.mean(rec_list)\n",
    "        std_rec = np.std(rec_list)\n",
    "        mean_prec = np.mean(prec_list)\n",
    "        std_prec = np.std(prec_list) \n",
    "        print('mean accuracy: %.3f, std accuracy: %.3f' % (mean_acc, std_acc))\n",
    "        print('mean recall: %.3f, std recall: %.3f' % (mean_rec, std_rec))  \n",
    "        print('mean precision: %.3f, std accuracy: %.3f' % (mean_prec, std_prec))\n",
    "    \n",
    "    mean_f1 = np.mean(f1_list)\n",
    "    std_f1 = np.std(f1_list)\n",
    "    mean_auc = np.mean(auc_list)\n",
    "    std_auc = np.std(auc_list)\n",
    "    mean_f1_train = np.mean(f1_train)\n",
    "    std_f1_train = np.std(f1_train)\n",
    "    mean_highest_f1 = np.mean(highest_f1)\n",
    "    std_highest_f1 = np.std(highest_f1)\n",
    "    print('mean highest_f1: %.3f, std highest_f1: %.3f' % (mean_highest_f1, std_highest_f1))\n",
    "    print('mean F1: %.3f, std AUC: %.3f' % (mean_f1, std_f1))\n",
    "    print('mean AUC: %.3f, std AUC: %.3f' % (mean_auc, std_auc))\n",
    "    print('mean train F1: %.3f, std train F1: %.3f' % (mean_f1_train, std_f1_train))\n",
    "    return lm, feature_names, mean_highest_f1"
   ]
  },
  {
   "cell_type": "code",
   "execution_count": 20,
   "metadata": {},
   "outputs": [
    {
     "name": "stdout",
     "output_type": "stream",
     "text": [
      "Fold 1 highest F1: 0.316 at threshold p= 0.095. Recall is 0.226, precision is 0.525\n",
      "Fold 2 highest F1: 0.315 at threshold p= 0.108. Recall is 0.250, precision is 0.425\n",
      "Fold 3 highest F1: 0.312 at threshold p= 0.095. Recall is 0.223, precision is 0.520\n",
      "Fold 4 highest F1: 0.317 at threshold p= 0.095. Recall is 0.224, precision is 0.538\n",
      "Fold 5 highest F1: 0.301 at threshold p= 0.109. Recall is 0.237, precision is 0.413\n",
      "mean accuracy: 0.903, std accuracy: 0.002\n",
      "mean recall: 0.041, std recall: 0.005\n",
      "mean precision: 0.466, std accuracy: 0.048\n",
      "mean highest_f1: 0.312, std highest_f1: 0.006\n",
      "mean F1: 0.075, std AUC: 0.009\n",
      "mean AUC: 0.710, std AUC: 0.002\n",
      "mean train F1: 0.075, std train F1: 0.005\n"
     ]
    },
    {
     "data": {
      "image/png": "[encoded data removed]",
      "text/plain": [
       "<matplotlib.figure.Figure at 0x1a1285c198>"
      ]
     },
     "metadata": {},
     "output_type": "display_data"
    }
   ],
   "source": [
    "cv_model4(LogisticRegression(), df=df, scale=True, v=True);"
   ]
  },
  {
   "cell_type": "markdown",
   "metadata": {},
   "source": [
    "**The baseline model has an average F1 score at 0.31. **"
   ]
  },
  {
   "cell_type": "markdown",
   "metadata": {},
   "source": [
    "### Add features"
   ]
  },
  {
   "cell_type": "markdown",
   "metadata": {},
   "source": [
    "#### Add user-features.\n",
    "**1. total_order **  \n",
    "**2. total_product **  \n",
    "**2. ave_cart_size **    \n",
    "**3. how likely the customer shops at weekend vs during the week(convert weekend to 1, weekdays 1, and take average) - user_likely_dow**  \n",
    "**5. ave_days_since_prior_order(tried median, doesnt work as well as mean)**    \n",
    "**6. total unique product - user_total_uniq_product**  \n",
    "**7. percentage of total product that purchased only once - total_uniq_over_total_product**"
   ]
  },
  {
   "cell_type": "code",
   "execution_count": 21,
   "metadata": {},
   "outputs": [],
   "source": [
    "#convert dow to weekend 1(0,1), weekday 0(2-6), then take average\n",
    "prior_details_feature = prior_details.copy()\n",
    "prior_details_feature['dow_binary'] = (prior_details_feature.order_dow < 2 ).astype(int)"
   ]
  },
  {
   "cell_type": "code",
   "execution_count": 22,
   "metadata": {},
   "outputs": [],
   "source": [
    "user_feature_temp = (prior_details_feature.groupby(['user_id', 'order_id'], as_index=False)\n",
    "                .agg(OrderedDict([('product_id', 'count'), ('days_since_prior_order', 'first'), \n",
    "                                  ('dow_binary', 'first')])))"
   ]
  },
  {
   "cell_type": "code",
   "execution_count": 23,
   "metadata": {},
   "outputs": [],
   "source": [
    "user_feature_temp.rename(columns={'product_id': 'total_product'}, inplace=True)"
   ]
  },
  {
   "cell_type": "code",
   "execution_count": 24,
   "metadata": {},
   "outputs": [],
   "source": [
    "user_feature = (user_feature_temp.groupby(['user_id'], as_index=False)\n",
    "                .agg(OrderedDict([('order_id','count'), ('total_product', ['mean', 'sum']), ('days_since_prior_order', 'mean'), \n",
    "                                 ('dow_binary', 'mean')])))"
   ]
  },
  {
   "cell_type": "code",
   "execution_count": 25,
   "metadata": {},
   "outputs": [],
   "source": [
    "user_feature_colname = ['user_id', 'user_total_order', 'user_cart_size', 'user_total_product','user_ave_days_since_last_order', \n",
    "                        'user_likely_dow']\n",
    "user_feature.columns = user_feature_colname"
   ]
  },
  {
   "cell_type": "code",
   "execution_count": 26,
   "metadata": {},
   "outputs": [
    {
     "data": {
      "text/html": [
       "<div>\n",
       "<style scoped>\n",
       "    .dataframe tbody tr th:only-of-type {\n",
       "        vertical-align: middle;\n",
       "    }\n",
       "\n",
       "    .dataframe tbody tr th {\n",
       "        vertical-align: top;\n",
       "    }\n",
       "\n",
       "    .dataframe thead th {\n",
       "        text-align: right;\n",
       "    }\n",
       "</style>\n",
       "<table border=\"1\" class=\"dataframe\">\n",
       "  <thead>\n",
       "    <tr style=\"text-align: right;\">\n",
       "      <th></th>\n",
       "      <th>user_id</th>\n",
       "      <th>user_total_order</th>\n",
       "      <th>user_cart_size</th>\n",
       "      <th>user_total_product</th>\n",
       "      <th>user_ave_days_since_last_order</th>\n",
       "      <th>user_likely_dow</th>\n",
       "    </tr>\n",
       "  </thead>\n",
       "  <tbody>\n",
       "    <tr>\n",
       "      <th>0</th>\n",
       "      <td>33</td>\n",
       "      <td>3</td>\n",
       "      <td>17.666667</td>\n",
       "      <td>53</td>\n",
       "      <td>28.500000</td>\n",
       "      <td>0.333333</td>\n",
       "    </tr>\n",
       "    <tr>\n",
       "      <th>1</th>\n",
       "      <td>41</td>\n",
       "      <td>5</td>\n",
       "      <td>13.000000</td>\n",
       "      <td>65</td>\n",
       "      <td>25.750000</td>\n",
       "      <td>0.600000</td>\n",
       "    </tr>\n",
       "    <tr>\n",
       "      <th>2</th>\n",
       "      <td>70</td>\n",
       "      <td>13</td>\n",
       "      <td>8.000000</td>\n",
       "      <td>104</td>\n",
       "      <td>19.083333</td>\n",
       "      <td>0.153846</td>\n",
       "    </tr>\n",
       "    <tr>\n",
       "      <th>3</th>\n",
       "      <td>160</td>\n",
       "      <td>12</td>\n",
       "      <td>22.083333</td>\n",
       "      <td>265</td>\n",
       "      <td>14.636364</td>\n",
       "      <td>0.583333</td>\n",
       "    </tr>\n",
       "    <tr>\n",
       "      <th>4</th>\n",
       "      <td>207</td>\n",
       "      <td>3</td>\n",
       "      <td>7.333333</td>\n",
       "      <td>22</td>\n",
       "      <td>22.000000</td>\n",
       "      <td>0.333333</td>\n",
       "    </tr>\n",
       "  </tbody>\n",
       "</table>\n",
       "</div>"
      ],
      "text/plain": [
       "   user_id  user_total_order  user_cart_size  user_total_product  \\\n",
       "0       33                 3       17.666667                  53   \n",
       "1       41                 5       13.000000                  65   \n",
       "2       70                13        8.000000                 104   \n",
       "3      160                12       22.083333                 265   \n",
       "4      207                 3        7.333333                  22   \n",
       "\n",
       "   user_ave_days_since_last_order  user_likely_dow  \n",
       "0                       28.500000         0.333333  \n",
       "1                       25.750000         0.600000  \n",
       "2                       19.083333         0.153846  \n",
       "3                       14.636364         0.583333  \n",
       "4                       22.000000         0.333333  "
      ]
     },
     "execution_count": 26,
     "metadata": {},
     "output_type": "execute_result"
    }
   ],
   "source": [
    "user_feature.head()"
   ]
  },
  {
   "cell_type": "code",
   "execution_count": 27,
   "metadata": {},
   "outputs": [],
   "source": [
    "user_uniq_product = prior_details.groupby('user_id')['product_id'].nunique()\n",
    "user_feature = pd.merge(user_feature, user_uniq_product.to_frame(), left_on ='user_id', \n",
    "                        right_index=True, how='left')\n",
    "user_feature.rename(columns={'product_id': 'user_total_uniq_product'}, inplace=True)"
   ]
  },
  {
   "cell_type": "code",
   "execution_count": 28,
   "metadata": {},
   "outputs": [],
   "source": [
    "user_feature['user_uniq_prod_over_total_prod'] = \\\n",
    "user_feature['user_total_uniq_product']/user_feature['user_total_product']"
   ]
  },
  {
   "cell_type": "code",
   "execution_count": 29,
   "metadata": {},
   "outputs": [
    {
     "data": {
      "text/html": [
       "<div>\n",
       "<style scoped>\n",
       "    .dataframe tbody tr th:only-of-type {\n",
       "        vertical-align: middle;\n",
       "    }\n",
       "\n",
       "    .dataframe tbody tr th {\n",
       "        vertical-align: top;\n",
       "    }\n",
       "\n",
       "    .dataframe thead th {\n",
       "        text-align: right;\n",
       "    }\n",
       "</style>\n",
       "<table border=\"1\" class=\"dataframe\">\n",
       "  <thead>\n",
       "    <tr style=\"text-align: right;\">\n",
       "      <th></th>\n",
       "      <th>user_id</th>\n",
       "      <th>user_total_order</th>\n",
       "      <th>user_cart_size</th>\n",
       "      <th>user_total_product</th>\n",
       "      <th>user_ave_days_since_last_order</th>\n",
       "      <th>user_likely_dow</th>\n",
       "      <th>user_total_uniq_product</th>\n",
       "      <th>user_uniq_prod_over_total_prod</th>\n",
       "    </tr>\n",
       "  </thead>\n",
       "  <tbody>\n",
       "    <tr>\n",
       "      <th>0</th>\n",
       "      <td>33</td>\n",
       "      <td>3</td>\n",
       "      <td>17.666667</td>\n",
       "      <td>53</td>\n",
       "      <td>28.500000</td>\n",
       "      <td>0.333333</td>\n",
       "      <td>34</td>\n",
       "      <td>0.641509</td>\n",
       "    </tr>\n",
       "    <tr>\n",
       "      <th>1</th>\n",
       "      <td>41</td>\n",
       "      <td>5</td>\n",
       "      <td>13.000000</td>\n",
       "      <td>65</td>\n",
       "      <td>25.750000</td>\n",
       "      <td>0.600000</td>\n",
       "      <td>47</td>\n",
       "      <td>0.723077</td>\n",
       "    </tr>\n",
       "    <tr>\n",
       "      <th>2</th>\n",
       "      <td>70</td>\n",
       "      <td>13</td>\n",
       "      <td>8.000000</td>\n",
       "      <td>104</td>\n",
       "      <td>19.083333</td>\n",
       "      <td>0.153846</td>\n",
       "      <td>71</td>\n",
       "      <td>0.682692</td>\n",
       "    </tr>\n",
       "  </tbody>\n",
       "</table>\n",
       "</div>"
      ],
      "text/plain": [
       "   user_id  user_total_order  user_cart_size  user_total_product  \\\n",
       "0       33                 3       17.666667                  53   \n",
       "1       41                 5       13.000000                  65   \n",
       "2       70                13        8.000000                 104   \n",
       "\n",
       "   user_ave_days_since_last_order  user_likely_dow  user_total_uniq_product  \\\n",
       "0                       28.500000         0.333333                       34   \n",
       "1                       25.750000         0.600000                       47   \n",
       "2                       19.083333         0.153846                       71   \n",
       "\n",
       "   user_uniq_prod_over_total_prod  \n",
       "0                        0.641509  \n",
       "1                        0.723077  \n",
       "2                        0.682692  "
      ]
     },
     "execution_count": 29,
     "metadata": {},
     "output_type": "execute_result"
    }
   ],
   "source": [
    "user_feature.head(3)"
   ]
  },
  {
   "cell_type": "markdown",
   "metadata": {},
   "source": [
    "**Merge user feature to the df and try Logistic Regression**"
   ]
  },
  {
   "cell_type": "code",
   "execution_count": 30,
   "metadata": {},
   "outputs": [],
   "source": [
    "df_user = pd.merge(df, user_feature, on='user_id', how='left')"
   ]
  },
  {
   "cell_type": "code",
   "execution_count": 31,
   "metadata": {},
   "outputs": [
    {
     "name": "stdout",
     "output_type": "stream",
     "text": [
      "C=0.100000\n",
      "mean highest_f1: 0.370, std highest_f1: 0.006\n",
      "mean F1: 0.109, std AUC: 0.011\n",
      "mean AUC: 0.761, std AUC: 0.007\n",
      "mean train F1: 0.109, std train F1: 0.001\n",
      "C=1.000000\n",
      "mean highest_f1: 0.369, std highest_f1: 0.010\n",
      "mean F1: 0.109, std AUC: 0.007\n",
      "mean AUC: 0.761, std AUC: 0.007\n",
      "mean train F1: 0.109, std train F1: 0.004\n",
      "C=10.000000\n",
      "mean highest_f1: 0.370, std highest_f1: 0.007\n",
      "mean F1: 0.108, std AUC: 0.013\n",
      "mean AUC: 0.761, std AUC: 0.003\n",
      "mean train F1: 0.109, std train F1: 0.003\n",
      "C=100.000000\n",
      "mean highest_f1: 0.370, std highest_f1: 0.011\n",
      "mean F1: 0.110, std AUC: 0.008\n",
      "mean AUC: 0.761, std AUC: 0.003\n",
      "mean train F1: 0.109, std train F1: 0.002\n",
      "Higest f1 score: (0.37004918589680963, 100)\n"
     ]
    }
   ],
   "source": [
    "f1s=[]\n",
    "for c in [0.1, 1, 10, 100]:\n",
    "    print('C=%f' % c)\n",
    "    lm, feature_names, f1 = cv_model4(LogisticRegression(penalty='l1', C=c), df=df_user, \n",
    "                                                                 cv=5, scale=True, v=False)\n",
    "    f1s.append((f1, c, lm, feature_names))\n",
    "print('Higest f1 score:', sorted(f1s, reverse=True)[0][:2])"
   ]
  },
  {
   "cell_type": "markdown",
   "metadata": {},
   "source": [
    "**User features improved f1 score of prediction a little bit.\n",
    "### Add Product Features\n",
    "**1. Product total reordered count - product_total_reorders**  \n",
    "**2. Total counts of the product were ordered in the past - product_total_orders**   \n",
    "**3. Averge product add to cart order - product_avg_add_to_cart_order**      \n",
    "**4. Percentage of reorder in total product - product_percent_reordered_past** \n",
    "\n",
    "(department and aisle are categorical, need to convert to dummie variables, add later)\n",
    "  - department\n",
    "  - aisle"
   ]
  },
  {
   "cell_type": "code",
   "execution_count": 32,
   "metadata": {},
   "outputs": [
    {
     "data": {
      "text/html": [
       "<div>\n",
       "<style scoped>\n",
       "    .dataframe tbody tr th:only-of-type {\n",
       "        vertical-align: middle;\n",
       "    }\n",
       "\n",
       "    .dataframe tbody tr th {\n",
       "        vertical-align: top;\n",
       "    }\n",
       "\n",
       "    .dataframe thead th {\n",
       "        text-align: right;\n",
       "    }\n",
       "</style>\n",
       "<table border=\"1\" class=\"dataframe\">\n",
       "  <thead>\n",
       "    <tr style=\"text-align: right;\">\n",
       "      <th></th>\n",
       "      <th>product_id</th>\n",
       "      <th>product_total_orders</th>\n",
       "      <th>product_avg_add_to_cart_order</th>\n",
       "    </tr>\n",
       "  </thead>\n",
       "  <tbody>\n",
       "    <tr>\n",
       "      <th>0</th>\n",
       "      <td>1</td>\n",
       "      <td>106</td>\n",
       "      <td>7.820755</td>\n",
       "    </tr>\n",
       "    <tr>\n",
       "      <th>1</th>\n",
       "      <td>2</td>\n",
       "      <td>3</td>\n",
       "      <td>5.666667</td>\n",
       "    </tr>\n",
       "    <tr>\n",
       "      <th>2</th>\n",
       "      <td>3</td>\n",
       "      <td>2</td>\n",
       "      <td>3.000000</td>\n",
       "    </tr>\n",
       "    <tr>\n",
       "      <th>3</th>\n",
       "      <td>4</td>\n",
       "      <td>5</td>\n",
       "      <td>15.200000</td>\n",
       "    </tr>\n",
       "    <tr>\n",
       "      <th>4</th>\n",
       "      <td>7</td>\n",
       "      <td>1</td>\n",
       "      <td>9.000000</td>\n",
       "    </tr>\n",
       "  </tbody>\n",
       "</table>\n",
       "</div>"
      ],
      "text/plain": [
       "   product_id  product_total_orders  product_avg_add_to_cart_order\n",
       "0           1                   106                       7.820755\n",
       "1           2                     3                       5.666667\n",
       "2           3                     2                       3.000000\n",
       "3           4                     5                      15.200000\n",
       "4           7                     1                       9.000000"
      ]
     },
     "execution_count": 32,
     "metadata": {},
     "output_type": "execute_result"
    }
   ],
   "source": [
    "prod_feature = ['product_total_orders', 'product_avg_add_to_cart_order']\n",
    "prod_features_df = prior_details.groupby('product_id', as_index=False).agg(OrderedDict([('order_id','count'), \n",
    "                                                                     ('add_to_cart_order', 'mean')]))\n",
    "prod_features_df.columns = ['product_id'] + prod_feature\n",
    "prod_features_df.head()"
   ]
  },
  {
   "cell_type": "code",
   "execution_count": 33,
   "metadata": {},
   "outputs": [],
   "source": [
    "df_prod = pd.merge(df_user, prod_features_df, on='product_id', how='left')"
   ]
  },
  {
   "cell_type": "code",
   "execution_count": 34,
   "metadata": {},
   "outputs": [
    {
     "name": "stdout",
     "output_type": "stream",
     "text": [
      "C=0.100000\n",
      "mean highest_f1: 0.368, std highest_f1: 0.004\n",
      "mean F1: 0.120, std AUC: 0.010\n",
      "mean AUC: 0.764, std AUC: 0.008\n",
      "mean train F1: 0.121, std train F1: 0.002\n",
      "C=1.000000\n",
      "mean highest_f1: 0.368, std highest_f1: 0.005\n",
      "mean F1: 0.121, std AUC: 0.013\n",
      "mean AUC: 0.764, std AUC: 0.008\n",
      "mean train F1: 0.121, std train F1: 0.002\n",
      "C=10.000000\n",
      "mean highest_f1: 0.368, std highest_f1: 0.011\n",
      "mean F1: 0.121, std AUC: 0.012\n",
      "mean AUC: 0.764, std AUC: 0.003\n",
      "mean train F1: 0.121, std train F1: 0.002\n",
      "C=100.000000\n",
      "mean highest_f1: 0.369, std highest_f1: 0.008\n",
      "mean F1: 0.121, std AUC: 0.010\n",
      "mean AUC: 0.764, std AUC: 0.006\n",
      "mean train F1: 0.121, std train F1: 0.002\n",
      "Higest f1 score: (0.36855422489903955, 100)\n"
     ]
    }
   ],
   "source": [
    "f1s=[]\n",
    "for c in [0.1, 1, 10, 100]:\n",
    "    print('C=%f' % c)\n",
    "    lm, feature_names, f1 = cv_model4(LogisticRegression(penalty='l1', C=c), df=df_prod, \n",
    "                                                                 cv=5, scale=True, v=False)\n",
    "    f1s.append((f1, c, lm, feature_names))\n",
    "print('Higest f1 score:', sorted(f1s, reverse=True)[0][:2])"
   ]
  },
  {
   "cell_type": "code",
   "execution_count": 35,
   "metadata": {},
   "outputs": [
    {
     "data": {
      "text/html": [
       "<div>\n",
       "<style scoped>\n",
       "    .dataframe tbody tr th:only-of-type {\n",
       "        vertical-align: middle;\n",
       "    }\n",
       "\n",
       "    .dataframe tbody tr th {\n",
       "        vertical-align: top;\n",
       "    }\n",
       "\n",
       "    .dataframe thead th {\n",
       "        text-align: right;\n",
       "    }\n",
       "</style>\n",
       "<table border=\"1\" class=\"dataframe\">\n",
       "  <thead>\n",
       "    <tr style=\"text-align: right;\">\n",
       "      <th></th>\n",
       "      <th>user_id</th>\n",
       "      <th>product_id</th>\n",
       "      <th>user_product_reordered_past</th>\n",
       "      <th>reordered</th>\n",
       "      <th>user_total_order</th>\n",
       "      <th>user_cart_size</th>\n",
       "      <th>user_total_product</th>\n",
       "      <th>user_ave_days_since_last_order</th>\n",
       "      <th>user_likely_dow</th>\n",
       "      <th>user_total_uniq_product</th>\n",
       "      <th>user_uniq_prod_over_total_prod</th>\n",
       "      <th>product_total_orders</th>\n",
       "      <th>product_avg_add_to_cart_order</th>\n",
       "    </tr>\n",
       "  </thead>\n",
       "  <tbody>\n",
       "    <tr>\n",
       "      <th>0</th>\n",
       "      <td>41</td>\n",
       "      <td>226</td>\n",
       "      <td>0</td>\n",
       "      <td>0.0</td>\n",
       "      <td>5</td>\n",
       "      <td>13.0</td>\n",
       "      <td>65</td>\n",
       "      <td>25.75</td>\n",
       "      <td>0.6</td>\n",
       "      <td>47</td>\n",
       "      <td>0.723077</td>\n",
       "      <td>38</td>\n",
       "      <td>10.657895</td>\n",
       "    </tr>\n",
       "    <tr>\n",
       "      <th>1</th>\n",
       "      <td>41</td>\n",
       "      <td>1987</td>\n",
       "      <td>1</td>\n",
       "      <td>0.0</td>\n",
       "      <td>5</td>\n",
       "      <td>13.0</td>\n",
       "      <td>65</td>\n",
       "      <td>25.75</td>\n",
       "      <td>0.6</td>\n",
       "      <td>47</td>\n",
       "      <td>0.723077</td>\n",
       "      <td>6</td>\n",
       "      <td>6.666667</td>\n",
       "    </tr>\n",
       "  </tbody>\n",
       "</table>\n",
       "</div>"
      ],
      "text/plain": [
       "   user_id  product_id  user_product_reordered_past  reordered  \\\n",
       "0       41         226                            0        0.0   \n",
       "1       41        1987                            1        0.0   \n",
       "\n",
       "   user_total_order  user_cart_size  user_total_product  \\\n",
       "0                 5            13.0                  65   \n",
       "1                 5            13.0                  65   \n",
       "\n",
       "   user_ave_days_since_last_order  user_likely_dow  user_total_uniq_product  \\\n",
       "0                           25.75              0.6                       47   \n",
       "1                           25.75              0.6                       47   \n",
       "\n",
       "   user_uniq_prod_over_total_prod  product_total_orders  \\\n",
       "0                        0.723077                    38   \n",
       "1                        0.723077                     6   \n",
       "\n",
       "   product_avg_add_to_cart_order  \n",
       "0                      10.657895  \n",
       "1                       6.666667  "
      ]
     },
     "execution_count": 35,
     "metadata": {},
     "output_type": "execute_result"
    }
   ],
   "source": [
    "df_prod.head(2)"
   ]
  },
  {
   "cell_type": "code",
   "execution_count": 36,
   "metadata": {},
   "outputs": [],
   "source": [
    "prod_reordered=df_prod.groupby('product_id', as_index=False)['user_product_reordered_past'].sum()\n",
    "df_prod_temp=pd.merge(df_prod, prod_reordered, on='product_id', how='left')\n",
    "df_prod_temp.rename(columns={'user_product_reordered_past_x':'user_product_reordered_past', \n",
    "                             'user_product_reordered_past_y':'product_past_reordered_count'}, inplace=True)"
   ]
  },
  {
   "cell_type": "code",
   "execution_count": 37,
   "metadata": {},
   "outputs": [],
   "source": [
    "df_prod_temp['product_percent_reordered_past'] = (df_prod_temp['product_past_reordered_count']/  #no 0 total product(chedked) \n",
    "                                                  df_prod_temp['product_total_orders']*100)"
   ]
  },
  {
   "cell_type": "code",
   "execution_count": 38,
   "metadata": {},
   "outputs": [],
   "source": [
    "df_prod=df_prod_temp.copy()\n",
    "del df_prod_temp"
   ]
  },
  {
   "cell_type": "code",
   "execution_count": 39,
   "metadata": {},
   "outputs": [
    {
     "name": "stdout",
     "output_type": "stream",
     "text": [
      "C=0.010000\n",
      "mean highest_f1: 0.367, std highest_f1: 0.005\n",
      "mean F1: 0.114, std AUC: 0.009\n",
      "mean AUC: 0.769, std AUC: 0.003\n",
      "mean train F1: 0.114, std train F1: 0.005\n",
      "C=0.100000\n",
      "mean highest_f1: 0.366, std highest_f1: 0.008\n",
      "mean F1: 0.115, std AUC: 0.012\n",
      "mean AUC: 0.768, std AUC: 0.005\n",
      "mean train F1: 0.116, std train F1: 0.003\n",
      "C=1.000000\n",
      "mean highest_f1: 0.366, std highest_f1: 0.010\n",
      "mean F1: 0.116, std AUC: 0.010\n",
      "mean AUC: 0.768, std AUC: 0.007\n",
      "mean train F1: 0.116, std train F1: 0.004\n",
      "C=10.000000\n",
      "mean highest_f1: 0.365, std highest_f1: 0.006\n",
      "mean F1: 0.116, std AUC: 0.009\n",
      "mean AUC: 0.768, std AUC: 0.007\n",
      "mean train F1: 0.116, std train F1: 0.005\n",
      "C=100.000000\n",
      "mean highest_f1: 0.365, std highest_f1: 0.007\n",
      "mean F1: 0.117, std AUC: 0.012\n",
      "mean AUC: 0.768, std AUC: 0.005\n",
      "mean train F1: 0.117, std train F1: 0.002\n",
      "Higest f1 score: (0.3665384926240155, 0.01)\n"
     ]
    }
   ],
   "source": [
    "f1s=[]\n",
    "for c in [0.01, 0.1, 1, 10, 100]:\n",
    "    print('C=%f' % c)\n",
    "    lm, feature_names, f1= cv_model4(LogisticRegression(penalty='l1', C=c), \n",
    "                                  df=df_prod, cv=5, scale=True, v=False)\n",
    "    f1s.append((f1, c, lm, feature_names))\n",
    "print('Higest f1 score:', sorted(f1s, reverse=True)[0][:2])"
   ]
  },
  {
   "cell_type": "markdown",
   "metadata": {},
   "source": [
    "### Add user-product feature.\n",
    "**1. ave_add_to_cart_order**   \n",
    "**2. user_product_ordered_last_n_order - how many orders ago is the last time the user ordered that product**   \n",
    "**3. user_product_ave_days_since_prior_order**  \n",
    "**4. ave_days_between_product_order (product_order_interval)**  \n",
    "**5. user_product_ave_add_to_cart_order_scale(average of add to cart over scaled within each user)**   \n",
    "**6. user_product_ave_add_to_cart_order (not scaled)**  \n",
    "**7. user_product_percent_order_containing_product** \n",
    "**8. user_product_days_since_last_product_order**\n",
    "**9. on average how many days between the user ordered the product - user_product_ave_day_per_product_order**  \n",
    "**11. user_product_ave_day_between_product_order_versus_current_day_since_prior - ratio between average days the user purchase a product vs days since last order**  \n",
    "**12. user_product_ordered_same_day - has the user order the same product that day.**   \n",
    "**13. ave_add_to_cart_order_scale_x_reorder_count (for logistic regression)**  \n"
   ]
  },
  {
   "cell_type": "markdown",
   "metadata": {},
   "source": [
    "Scale the add to cart order and then take the average"
   ]
  },
  {
   "cell_type": "code",
   "execution_count": 40,
   "metadata": {},
   "outputs": [],
   "source": [
    "prior_details_feature['user_product_add_to_cart_order_scale']=(prior_details_feature.groupby('order_id')['add_to_cart_order']\n",
    "                                                               .transform(lambda x: x/max(x)))\n"
   ]
  },
  {
   "cell_type": "code",
   "execution_count": 41,
   "metadata": {},
   "outputs": [],
   "source": [
    "user_product_feature = (prior_details_feature.groupby(['user_id', 'product_id'], as_index=False)\n",
    "                       .agg(OrderedDict([('add_to_cart_order', 'mean'), ('user_product_add_to_cart_order_scale', 'mean'),('days_since_prior_order', 'mean'),\n",
    "                                        ('order_number', 'max')])))\n",
    "user_product_feature.rename(columns={'add_to_cart_order': 'user_product_ave_add_to_cart_order', \n",
    "                                     'user_product_add_to_cart_order_scale':'user_product_ave_add_to_cart_order_scale',\n",
    "                                    'days_since_prior_order':'user_product_ave_days_since_prior_order',\n",
    "                                    'order_number':'user_product_most_recent_order'}, inplace=True)"
   ]
  },
  {
   "cell_type": "code",
   "execution_count": 42,
   "metadata": {},
   "outputs": [],
   "source": [
    "user_product_feature_bk = user_product_feature"
   ]
  },
  {
   "cell_type": "code",
   "execution_count": 43,
   "metadata": {},
   "outputs": [
    {
     "data": {
      "text/html": [
       "<div>\n",
       "<style scoped>\n",
       "    .dataframe tbody tr th:only-of-type {\n",
       "        vertical-align: middle;\n",
       "    }\n",
       "\n",
       "    .dataframe tbody tr th {\n",
       "        vertical-align: top;\n",
       "    }\n",
       "\n",
       "    .dataframe thead th {\n",
       "        text-align: right;\n",
       "    }\n",
       "</style>\n",
       "<table border=\"1\" class=\"dataframe\">\n",
       "  <thead>\n",
       "    <tr style=\"text-align: right;\">\n",
       "      <th></th>\n",
       "      <th>user_id</th>\n",
       "      <th>product_id</th>\n",
       "      <th>user_product_ave_add_to_cart_order</th>\n",
       "      <th>user_product_ave_add_to_cart_order_scale</th>\n",
       "      <th>user_product_ave_days_since_prior_order</th>\n",
       "      <th>user_product_most_recent_order</th>\n",
       "    </tr>\n",
       "  </thead>\n",
       "  <tbody>\n",
       "    <tr>\n",
       "      <th>0</th>\n",
       "      <td>33</td>\n",
       "      <td>455</td>\n",
       "      <td>15.0</td>\n",
       "      <td>0.882353</td>\n",
       "      <td>30.0</td>\n",
       "      <td>3</td>\n",
       "    </tr>\n",
       "    <tr>\n",
       "      <th>1</th>\n",
       "      <td>33</td>\n",
       "      <td>2408</td>\n",
       "      <td>11.0</td>\n",
       "      <td>0.478261</td>\n",
       "      <td>NaN</td>\n",
       "      <td>1</td>\n",
       "    </tr>\n",
       "    <tr>\n",
       "      <th>2</th>\n",
       "      <td>33</td>\n",
       "      <td>2514</td>\n",
       "      <td>17.0</td>\n",
       "      <td>1.000000</td>\n",
       "      <td>30.0</td>\n",
       "      <td>3</td>\n",
       "    </tr>\n",
       "  </tbody>\n",
       "</table>\n",
       "</div>"
      ],
      "text/plain": [
       "   user_id  product_id  user_product_ave_add_to_cart_order  \\\n",
       "0       33         455                                15.0   \n",
       "1       33        2408                                11.0   \n",
       "2       33        2514                                17.0   \n",
       "\n",
       "   user_product_ave_add_to_cart_order_scale  \\\n",
       "0                                  0.882353   \n",
       "1                                  0.478261   \n",
       "2                                  1.000000   \n",
       "\n",
       "   user_product_ave_days_since_prior_order  user_product_most_recent_order  \n",
       "0                                     30.0                               3  \n",
       "1                                      NaN                               1  \n",
       "2                                     30.0                               3  "
      ]
     },
     "execution_count": 43,
     "metadata": {},
     "output_type": "execute_result"
    }
   ],
   "source": [
    "user_product_feature.head(3)"
   ]
  },
  {
   "cell_type": "code",
   "execution_count": 44,
   "metadata": {},
   "outputs": [],
   "source": [
    "upf = pd.merge(user_product_feature, user_feature[['user_id', 'user_total_order']], \n",
    "               on='user_id', how='left')\n",
    "upf['user_product_ordered_last_n_order'] = (upf['user_total_order']\n",
    "                                            -upf['user_product_most_recent_order'])\n",
    "upf.drop(columns='user_total_order', inplace=True)"
   ]
  },
  {
   "cell_type": "code",
   "execution_count": 45,
   "metadata": {},
   "outputs": [
    {
     "data": {
      "text/html": [
       "<div>\n",
       "<style scoped>\n",
       "    .dataframe tbody tr th:only-of-type {\n",
       "        vertical-align: middle;\n",
       "    }\n",
       "\n",
       "    .dataframe tbody tr th {\n",
       "        vertical-align: top;\n",
       "    }\n",
       "\n",
       "    .dataframe thead th {\n",
       "        text-align: right;\n",
       "    }\n",
       "</style>\n",
       "<table border=\"1\" class=\"dataframe\">\n",
       "  <thead>\n",
       "    <tr style=\"text-align: right;\">\n",
       "      <th></th>\n",
       "      <th>user_id</th>\n",
       "      <th>product_id</th>\n",
       "      <th>user_product_ave_add_to_cart_order</th>\n",
       "      <th>user_product_ave_add_to_cart_order_scale</th>\n",
       "      <th>user_product_ave_days_since_prior_order</th>\n",
       "      <th>user_product_most_recent_order</th>\n",
       "      <th>user_product_ordered_last_n_order</th>\n",
       "    </tr>\n",
       "  </thead>\n",
       "  <tbody>\n",
       "    <tr>\n",
       "      <th>0</th>\n",
       "      <td>33</td>\n",
       "      <td>455</td>\n",
       "      <td>15.0</td>\n",
       "      <td>0.882353</td>\n",
       "      <td>30.0</td>\n",
       "      <td>3</td>\n",
       "      <td>0</td>\n",
       "    </tr>\n",
       "    <tr>\n",
       "      <th>1</th>\n",
       "      <td>33</td>\n",
       "      <td>2408</td>\n",
       "      <td>11.0</td>\n",
       "      <td>0.478261</td>\n",
       "      <td>NaN</td>\n",
       "      <td>1</td>\n",
       "      <td>2</td>\n",
       "    </tr>\n",
       "    <tr>\n",
       "      <th>2</th>\n",
       "      <td>33</td>\n",
       "      <td>2514</td>\n",
       "      <td>17.0</td>\n",
       "      <td>1.000000</td>\n",
       "      <td>30.0</td>\n",
       "      <td>3</td>\n",
       "      <td>0</td>\n",
       "    </tr>\n",
       "  </tbody>\n",
       "</table>\n",
       "</div>"
      ],
      "text/plain": [
       "   user_id  product_id  user_product_ave_add_to_cart_order  \\\n",
       "0       33         455                                15.0   \n",
       "1       33        2408                                11.0   \n",
       "2       33        2514                                17.0   \n",
       "\n",
       "   user_product_ave_add_to_cart_order_scale  \\\n",
       "0                                  0.882353   \n",
       "1                                  0.478261   \n",
       "2                                  1.000000   \n",
       "\n",
       "   user_product_ave_days_since_prior_order  user_product_most_recent_order  \\\n",
       "0                                     30.0                               3   \n",
       "1                                      NaN                               1   \n",
       "2                                     30.0                               3   \n",
       "\n",
       "   user_product_ordered_last_n_order  \n",
       "0                                  0  \n",
       "1                                  2  \n",
       "2                                  0  "
      ]
     },
     "execution_count": 45,
     "metadata": {},
     "output_type": "execute_result"
    }
   ],
   "source": [
    "upf.head(3)"
   ]
  },
  {
   "cell_type": "markdown",
   "metadata": {},
   "source": [
    "Calculate days since last time the user ordered the product."
   ]
  },
  {
   "cell_type": "code",
   "execution_count": 46,
   "metadata": {},
   "outputs": [],
   "source": [
    "#prior_order\n",
    "df_temp=(prior_details.groupby(['user_id', 'order_number'], as_index=False)\n",
    ".agg(OrderedDict([('order_id', 'first'),('days_since_prior_order', 'first')]))\n",
    ".sort_values(['user_id', 'order_number'], ascending=[True, False]))\n",
    "df_temp['cumulative_days_since_nth_order'] = (df_temp.groupby('user_id', as_index=False)['days_since_prior_order']\n",
    "                                              .cumsum())"
   ]
  },
  {
   "cell_type": "markdown",
   "metadata": {},
   "source": [
    "**The prior days of the first order is null. fill NA with ffill with addtional 7 days (a week). The rational to use short period versus long period for the cases that the user is new to Instacart.**"
   ]
  },
  {
   "cell_type": "code",
   "execution_count": 47,
   "metadata": {},
   "outputs": [],
   "source": [
    "a = df_temp['cumulative_days_since_nth_order'].fillna(method='ffill').copy()\n",
    "a[df_temp['cumulative_days_since_nth_order'].isnull()] +=7"
   ]
  },
  {
   "cell_type": "code",
   "execution_count": 48,
   "metadata": {},
   "outputs": [],
   "source": [
    "df_temp['cumulative_days_since_nth_order']=a.copy()"
   ]
  },
  {
   "cell_type": "code",
   "execution_count": 49,
   "metadata": {},
   "outputs": [],
   "source": [
    "user_product_feature = pd.merge(upf, df_temp.drop(columns=['order_id', 'days_since_prior_order']), \n",
    "                    left_on=['user_id', 'user_product_most_recent_order'], right_on = ['user_id', 'order_number'],\n",
    "                    how='left')\n",
    "user_product_feature.drop(columns=['user_product_most_recent_order','order_number'],inplace=True)"
   ]
  },
  {
   "cell_type": "code",
   "execution_count": 50,
   "metadata": {},
   "outputs": [],
   "source": [
    "user_product_feature.rename(columns={'cumulative_days_since_nth_order'\n",
    "                                     :'user_product_days_since_last_product_order'}, inplace=True)"
   ]
  },
  {
   "cell_type": "markdown",
   "metadata": {},
   "source": [
    "**user_product_ave_days_since_prior_order have NAs. Those are the product the customers ordered only once (in the very first order. Fill NA with user_product_cumulative_days_since_nth_order for the produce (maximum period that the user didn't order the product in this data set.**"
   ]
  },
  {
   "cell_type": "code",
   "execution_count": 51,
   "metadata": {},
   "outputs": [],
   "source": [
    "user_product_feature['user_product_ave_days_since_prior_order'].fillna(user_product_feature['user_product_days_since_last_product_order'], inplace=True)"
   ]
  },
  {
   "cell_type": "code",
   "execution_count": 52,
   "metadata": {},
   "outputs": [
    {
     "data": {
      "text/html": [
       "<div>\n",
       "<style scoped>\n",
       "    .dataframe tbody tr th:only-of-type {\n",
       "        vertical-align: middle;\n",
       "    }\n",
       "\n",
       "    .dataframe tbody tr th {\n",
       "        vertical-align: top;\n",
       "    }\n",
       "\n",
       "    .dataframe thead th {\n",
       "        text-align: right;\n",
       "    }\n",
       "</style>\n",
       "<table border=\"1\" class=\"dataframe\">\n",
       "  <thead>\n",
       "    <tr style=\"text-align: right;\">\n",
       "      <th></th>\n",
       "      <th>user_id</th>\n",
       "      <th>product_id</th>\n",
       "      <th>user_product_ave_add_to_cart_order</th>\n",
       "      <th>user_product_ave_add_to_cart_order_scale</th>\n",
       "      <th>user_product_ave_days_since_prior_order</th>\n",
       "      <th>user_product_ordered_last_n_order</th>\n",
       "      <th>user_product_days_since_last_product_order</th>\n",
       "    </tr>\n",
       "  </thead>\n",
       "  <tbody>\n",
       "    <tr>\n",
       "      <th>0</th>\n",
       "      <td>33</td>\n",
       "      <td>455</td>\n",
       "      <td>15.0</td>\n",
       "      <td>0.882353</td>\n",
       "      <td>30.0</td>\n",
       "      <td>0</td>\n",
       "      <td>30.0</td>\n",
       "    </tr>\n",
       "    <tr>\n",
       "      <th>1</th>\n",
       "      <td>33</td>\n",
       "      <td>2408</td>\n",
       "      <td>11.0</td>\n",
       "      <td>0.478261</td>\n",
       "      <td>64.0</td>\n",
       "      <td>2</td>\n",
       "      <td>64.0</td>\n",
       "    </tr>\n",
       "  </tbody>\n",
       "</table>\n",
       "</div>"
      ],
      "text/plain": [
       "   user_id  product_id  user_product_ave_add_to_cart_order  \\\n",
       "0       33         455                                15.0   \n",
       "1       33        2408                                11.0   \n",
       "\n",
       "   user_product_ave_add_to_cart_order_scale  \\\n",
       "0                                  0.882353   \n",
       "1                                  0.478261   \n",
       "\n",
       "   user_product_ave_days_since_prior_order  user_product_ordered_last_n_order  \\\n",
       "0                                     30.0                                  0   \n",
       "1                                     64.0                                  2   \n",
       "\n",
       "   user_product_days_since_last_product_order  \n",
       "0                                        30.0  \n",
       "1                                        64.0  "
      ]
     },
     "execution_count": 52,
     "metadata": {},
     "output_type": "execute_result"
    }
   ],
   "source": [
    "user_product_feature.head(2)"
   ]
  },
  {
   "cell_type": "markdown",
   "metadata": {},
   "source": [
    "Add feature 'user_product_percent_order_containing_product' "
   ]
  },
  {
   "cell_type": "code",
   "execution_count": 53,
   "metadata": {},
   "outputs": [],
   "source": [
    "df_up = pd.merge(df_prod, user_product_feature, on=['user_id', 'product_id'], how='left')\n",
    "df_up['user_product_percent_order_containing_product'] = ((df_up['user_product_reordered_past'] + 1)\n",
    "                                                        / df_up['user_total_order'])"
   ]
  },
  {
   "cell_type": "code",
   "execution_count": 54,
   "metadata": {},
   "outputs": [
    {
     "name": "stdout",
     "output_type": "stream",
     "text": [
      "C=0.010000\n",
      "mean highest_f1: 0.418, std highest_f1: 0.008\n",
      "mean F1: 0.239, std AUC: 0.011\n",
      "mean AUC: 0.818, std AUC: 0.004\n",
      "mean train F1: 0.240, std train F1: 0.002\n",
      "C=0.100000\n",
      "mean highest_f1: 0.418, std highest_f1: 0.012\n",
      "mean F1: 0.240, std AUC: 0.011\n",
      "mean AUC: 0.818, std AUC: 0.007\n",
      "mean train F1: 0.241, std train F1: 0.005\n",
      "C=1.000000\n",
      "mean highest_f1: 0.418, std highest_f1: 0.013\n",
      "mean F1: 0.240, std AUC: 0.021\n",
      "mean AUC: 0.818, std AUC: 0.008\n",
      "mean train F1: 0.241, std train F1: 0.006\n",
      "C=10.000000\n",
      "mean highest_f1: 0.419, std highest_f1: 0.008\n",
      "mean F1: 0.240, std AUC: 0.008\n",
      "mean AUC: 0.818, std AUC: 0.004\n",
      "mean train F1: 0.241, std train F1: 0.003\n",
      "C=100.000000\n",
      "mean highest_f1: 0.418, std highest_f1: 0.004\n",
      "mean F1: 0.241, std AUC: 0.008\n",
      "mean AUC: 0.818, std AUC: 0.005\n",
      "mean train F1: 0.241, std train F1: 0.003\n",
      "Higest f1 score: (0.4185088904245456, 10)\n"
     ]
    }
   ],
   "source": [
    "f1s=[]\n",
    "for c in [0.01, 0.1, 1, 10, 100]:\n",
    "    print('C=%f' % c)\n",
    "    lm, feature_names, f1= cv_model4(LogisticRegression(penalty='l2', solver='sag', C=c), \n",
    "                                  df=df_up, cv=5, scale=True, v=False)\n",
    "    f1s.append((f1, c, lm, feature_names))\n",
    "print('Higest f1 score:', sorted(f1s, reverse=True)[0][:2])"
   ]
  },
  {
   "cell_type": "markdown",
   "metadata": {},
   "source": [
    "Add on average how many days between the user ordered the product"
   ]
  },
  {
   "cell_type": "code",
   "execution_count": 55,
   "metadata": {},
   "outputs": [],
   "source": [
    "days_since_first_order = (prior_details.groupby(['user_id','order_id'], as_index=False)\n",
    "                          .agg(OrderedDict([('days_since_prior_order', 'first')]))\n",
    " .groupby('user_id', as_index=False)['days_since_prior_order'].sum())"
   ]
  },
  {
   "cell_type": "code",
   "execution_count": 56,
   "metadata": {},
   "outputs": [],
   "source": [
    "days_since_first_order.rename(columns={'days_since_prior_order':'days_since_first_order'}, inplace=True)"
   ]
  },
  {
   "cell_type": "code",
   "execution_count": 57,
   "metadata": {},
   "outputs": [
    {
     "data": {
      "text/html": [
       "<div>\n",
       "<style scoped>\n",
       "    .dataframe tbody tr th:only-of-type {\n",
       "        vertical-align: middle;\n",
       "    }\n",
       "\n",
       "    .dataframe tbody tr th {\n",
       "        vertical-align: top;\n",
       "    }\n",
       "\n",
       "    .dataframe thead th {\n",
       "        text-align: right;\n",
       "    }\n",
       "</style>\n",
       "<table border=\"1\" class=\"dataframe\">\n",
       "  <thead>\n",
       "    <tr style=\"text-align: right;\">\n",
       "      <th></th>\n",
       "      <th>user_id</th>\n",
       "      <th>days_since_first_order</th>\n",
       "    </tr>\n",
       "  </thead>\n",
       "  <tbody>\n",
       "    <tr>\n",
       "      <th>0</th>\n",
       "      <td>33</td>\n",
       "      <td>57.0</td>\n",
       "    </tr>\n",
       "    <tr>\n",
       "      <th>1</th>\n",
       "      <td>41</td>\n",
       "      <td>103.0</td>\n",
       "    </tr>\n",
       "  </tbody>\n",
       "</table>\n",
       "</div>"
      ],
      "text/plain": [
       "   user_id  days_since_first_order\n",
       "0       33                    57.0\n",
       "1       41                   103.0"
      ]
     },
     "execution_count": 57,
     "metadata": {},
     "output_type": "execute_result"
    }
   ],
   "source": [
    "days_since_first_order.head(2)"
   ]
  },
  {
   "cell_type": "code",
   "execution_count": 58,
   "metadata": {},
   "outputs": [],
   "source": [
    "df_up1 = pd.merge(df_up, days_since_first_order, on='user_id', how='left')\n",
    "df_up1['user_product_ave_day_per_product_order'] = df_up1['days_since_first_order']/(df_up1['user_product_reordered_past']+1)"
   ]
  },
  {
   "cell_type": "code",
   "execution_count": 59,
   "metadata": {},
   "outputs": [],
   "source": [
    "df_up1.drop(columns='days_since_first_order', inplace=True)"
   ]
  },
  {
   "cell_type": "markdown",
   "metadata": {},
   "source": [
    "Add feature - user_product_ave_day_between_product_order_versus_current_day_since_prior\n",
    "how long ago the customer order the produce versus how long ago he last time ordered"
   ]
  },
  {
   "cell_type": "code",
   "execution_count": 60,
   "metadata": {},
   "outputs": [
    {
     "data": {
      "text/html": [
       "<div>\n",
       "<style scoped>\n",
       "    .dataframe tbody tr th:only-of-type {\n",
       "        vertical-align: middle;\n",
       "    }\n",
       "\n",
       "    .dataframe tbody tr th {\n",
       "        vertical-align: top;\n",
       "    }\n",
       "\n",
       "    .dataframe thead th {\n",
       "        text-align: right;\n",
       "    }\n",
       "</style>\n",
       "<table border=\"1\" class=\"dataframe\">\n",
       "  <thead>\n",
       "    <tr style=\"text-align: right;\">\n",
       "      <th></th>\n",
       "      <th>order_id</th>\n",
       "      <th>user_id</th>\n",
       "      <th>eval_set</th>\n",
       "      <th>order_number</th>\n",
       "      <th>order_dow</th>\n",
       "      <th>order_hour_of_day</th>\n",
       "      <th>days_since_prior_order</th>\n",
       "    </tr>\n",
       "  </thead>\n",
       "  <tbody>\n",
       "    <tr>\n",
       "      <th>476</th>\n",
       "      <td>2906103</td>\n",
       "      <td>33</td>\n",
       "      <td>prior</td>\n",
       "      <td>1</td>\n",
       "      <td>3</td>\n",
       "      <td>14</td>\n",
       "      <td>NaN</td>\n",
       "    </tr>\n",
       "  </tbody>\n",
       "</table>\n",
       "</div>"
      ],
      "text/plain": [
       "     order_id  user_id eval_set  order_number  order_dow  order_hour_of_day  \\\n",
       "476   2906103       33    prior             1          3                 14   \n",
       "\n",
       "     days_since_prior_order  \n",
       "476                     NaN  "
      ]
     },
     "execution_count": 60,
     "metadata": {},
     "output_type": "execute_result"
    }
   ],
   "source": [
    "order_sub.head(1)"
   ]
  },
  {
   "cell_type": "code",
   "execution_count": 61,
   "metadata": {},
   "outputs": [],
   "source": [
    "df_up2 = pd.merge(df_up1, order_sub[order_sub['eval_set']=='train'].drop(\n",
    "    columns=['order_id', 'eval_set', 'order_number']), on = 'user_id', how='left')"
   ]
  },
  {
   "cell_type": "code",
   "execution_count": 62,
   "metadata": {},
   "outputs": [],
   "source": [
    "df_up2.rename(columns={'days_since_prior_order':'current_days_since_prior_order'},inplace=True)"
   ]
  },
  {
   "cell_type": "code",
   "execution_count": 63,
   "metadata": {},
   "outputs": [
    {
     "data": {
      "text/plain": [
       "((211101, 25), (211101, 22))"
      ]
     },
     "execution_count": 63,
     "metadata": {},
     "output_type": "execute_result"
    }
   ],
   "source": [
    "df_up2.shape, df_up1.shape"
   ]
  },
  {
   "cell_type": "code",
   "execution_count": 64,
   "metadata": {},
   "outputs": [],
   "source": [
    "def get_ratio(row):\n",
    "    a = row['user_product_ave_day_per_product_order']\n",
    "    b = row['current_days_since_prior_order']\n",
    "    if a == 0:\n",
    "        a+=0.5\n",
    "    if b == 0:\n",
    "        b+=0.5\n",
    "    return a/b\n",
    "        "
   ]
  },
  {
   "cell_type": "code",
   "execution_count": 65,
   "metadata": {},
   "outputs": [],
   "source": [
    "df_up2['user_product_ave_day_between_product_order_versus_current_day_since_prior']=\\\n",
    "df_up2.apply(get_ratio, axis=1)"
   ]
  },
  {
   "cell_type": "markdown",
   "metadata": {},
   "source": [
    "Add feature - if the user order the item the same day."
   ]
  },
  {
   "cell_type": "code",
   "execution_count": 66,
   "metadata": {},
   "outputs": [],
   "source": [
    "df_up3 = pd.merge(df_up2, user_product_feature_bk[['user_id', 'product_id', 'user_product_most_recent_order']],\n",
    "                 on=['user_id', 'product_id'], how='left')"
   ]
  },
  {
   "cell_type": "code",
   "execution_count": 67,
   "metadata": {},
   "outputs": [],
   "source": [
    "def order_same_day(row):\n",
    "    if row['current_days_since_prior_order'] == 0 and \\\n",
    "    row['user_total_order'] == row['user_product_most_recent_order']:\n",
    "        return 1\n",
    "    else:\n",
    "        return 0"
   ]
  },
  {
   "cell_type": "code",
   "execution_count": 68,
   "metadata": {},
   "outputs": [],
   "source": [
    "df_up3['user_product_ordered_same_day']=df_up3.apply(order_same_day, axis=1)"
   ]
  },
  {
   "cell_type": "code",
   "execution_count": 69,
   "metadata": {},
   "outputs": [],
   "source": [
    "df_up3.drop(columns='user_product_most_recent_order', inplace=True)"
   ]
  },
  {
   "cell_type": "markdown",
   "metadata": {},
   "source": [
    "Try Logistic Regresion on cross validation"
   ]
  },
  {
   "cell_type": "code",
   "execution_count": 70,
   "metadata": {},
   "outputs": [
    {
     "name": "stdout",
     "output_type": "stream",
     "text": [
      "C=0.010000\n",
      "mean highest_f1: 0.422, std highest_f1: 0.005\n",
      "mean F1: 0.242, std AUC: 0.008\n",
      "mean AUC: 0.821, std AUC: 0.005\n",
      "mean train F1: 0.242, std train F1: 0.004\n",
      "C=0.100000\n",
      "mean highest_f1: 0.422, std highest_f1: 0.006\n",
      "mean F1: 0.240, std AUC: 0.008\n",
      "mean AUC: 0.821, std AUC: 0.004\n",
      "mean train F1: 0.243, std train F1: 0.004\n",
      "C=1.000000\n",
      "mean highest_f1: 0.421, std highest_f1: 0.009\n",
      "mean F1: 0.241, std AUC: 0.009\n",
      "mean AUC: 0.821, std AUC: 0.005\n",
      "mean train F1: 0.243, std train F1: 0.005\n",
      "C=10.000000\n",
      "mean highest_f1: 0.422, std highest_f1: 0.004\n",
      "mean F1: 0.242, std AUC: 0.013\n",
      "mean AUC: 0.821, std AUC: 0.005\n",
      "mean train F1: 0.242, std train F1: 0.004\n",
      "Higest f1 score: (0.42204929369641386, 0.1)\n"
     ]
    }
   ],
   "source": [
    "f1s=[]\n",
    "for c in [0.01, 0.1, 1, 10]:\n",
    "    print('C=%f' % c)\n",
    "    lm, feature_names, f1= cv_model4(LogisticRegression(penalty='l2', solver='sag', C=c), \n",
    "                                  df=df_up3, cv=5, scale=True, v=False)\n",
    "    f1s.append((f1, c, lm, feature_names))\n",
    "print('Higest f1 score:', sorted(f1s, reverse=True)[0][:2])"
   ]
  },
  {
   "cell_type": "code",
   "execution_count": 71,
   "metadata": {
    "scrolled": true
   },
   "outputs": [
    {
     "name": "stdout",
     "output_type": "stream",
     "text": [
      "0.43254271654725035 product_total_orders\n",
      "0.4321807116718714 user_product_percent_order_containing_product\n",
      "0.16271529447652694 product_percent_reordered_past\n",
      "0.1308932577828716 user_total_uniq_product\n",
      "0.126272026545736 user_ave_days_since_last_order\n",
      "0.12047844829200448 user_product_ordered_same_day\n",
      "0.09054466814693965 user_product_ave_days_since_prior_order\n",
      "0.054154572259212524 user_product_ave_add_to_cart_order\n",
      "0.013075115540142459 user_likely_dow\n",
      "0.009964363589117797 user_product_reordered_past\n",
      "-0.01788320996879672 current_days_since_prior_order\n",
      "-0.021785940167277907 order_hour_of_day\n",
      "-0.026858793088843362 order_dow\n",
      "-0.03263699207082366 user_cart_size\n",
      "-0.09970349303189008 user_total_product\n",
      "-0.10676197871019454 user_total_order\n",
      "-0.1085343604217698 user_product_ave_add_to_cart_order_scale\n",
      "-0.11422890490211295 product_avg_add_to_cart_order\n",
      "-0.1728106025558191 user_product_ave_day_per_product_order\n",
      "-0.1891585388693282 user_product_ave_day_between_product_order_versus_current_day_since_prior\n",
      "-0.3573054238983075 product_past_reordered_count\n",
      "-0.43321634619029464 user_uniq_prod_over_total_prod\n",
      "-0.5106697793368401 user_product_ordered_last_n_order\n",
      "-0.7321718132704694 user_product_days_since_last_product_order\n"
     ]
    }
   ],
   "source": [
    "model, feature = sorted(f1s,reverse=True)[0][2:4]\n",
    "feature = feature.astype('str')\n",
    "for i, j in sorted(zip(model.coef_[0], feature), reverse=True):\n",
    "    print(i,j)"
   ]
  },
  {
   "cell_type": "code",
   "execution_count": null,
   "metadata": {},
   "outputs": [],
   "source": []
  },
  {
   "cell_type": "markdown",
   "metadata": {},
   "source": [
    "Add dummie variable"
   ]
  },
  {
   "cell_type": "code",
   "execution_count": 73,
   "metadata": {},
   "outputs": [],
   "source": [
    "product_df=pd.read_csv('../data/products.csv')"
   ]
  },
  {
   "cell_type": "code",
   "execution_count": 74,
   "metadata": {},
   "outputs": [
    {
     "data": {
      "text/html": [
       "<div>\n",
       "<style scoped>\n",
       "    .dataframe tbody tr th:only-of-type {\n",
       "        vertical-align: middle;\n",
       "    }\n",
       "\n",
       "    .dataframe tbody tr th {\n",
       "        vertical-align: top;\n",
       "    }\n",
       "\n",
       "    .dataframe thead th {\n",
       "        text-align: right;\n",
       "    }\n",
       "</style>\n",
       "<table border=\"1\" class=\"dataframe\">\n",
       "  <thead>\n",
       "    <tr style=\"text-align: right;\">\n",
       "      <th></th>\n",
       "      <th>product_id</th>\n",
       "      <th>product_name</th>\n",
       "      <th>aisle_id</th>\n",
       "      <th>department_id</th>\n",
       "    </tr>\n",
       "  </thead>\n",
       "  <tbody>\n",
       "    <tr>\n",
       "      <th>0</th>\n",
       "      <td>1</td>\n",
       "      <td>Chocolate Sandwich Cookies</td>\n",
       "      <td>61</td>\n",
       "      <td>19</td>\n",
       "    </tr>\n",
       "    <tr>\n",
       "      <th>1</th>\n",
       "      <td>2</td>\n",
       "      <td>All-Seasons Salt</td>\n",
       "      <td>104</td>\n",
       "      <td>13</td>\n",
       "    </tr>\n",
       "    <tr>\n",
       "      <th>2</th>\n",
       "      <td>3</td>\n",
       "      <td>Robust Golden Unsweetened Oolong Tea</td>\n",
       "      <td>94</td>\n",
       "      <td>7</td>\n",
       "    </tr>\n",
       "    <tr>\n",
       "      <th>3</th>\n",
       "      <td>4</td>\n",
       "      <td>Smart Ones Classic Favorites Mini Rigatoni Wit...</td>\n",
       "      <td>38</td>\n",
       "      <td>1</td>\n",
       "    </tr>\n",
       "    <tr>\n",
       "      <th>4</th>\n",
       "      <td>5</td>\n",
       "      <td>Green Chile Anytime Sauce</td>\n",
       "      <td>5</td>\n",
       "      <td>13</td>\n",
       "    </tr>\n",
       "  </tbody>\n",
       "</table>\n",
       "</div>"
      ],
      "text/plain": [
       "   product_id                                       product_name  aisle_id  \\\n",
       "0           1                         Chocolate Sandwich Cookies        61   \n",
       "1           2                                   All-Seasons Salt       104   \n",
       "2           3               Robust Golden Unsweetened Oolong Tea        94   \n",
       "3           4  Smart Ones Classic Favorites Mini Rigatoni Wit...        38   \n",
       "4           5                          Green Chile Anytime Sauce         5   \n",
       "\n",
       "   department_id  \n",
       "0             19  \n",
       "1             13  \n",
       "2              7  \n",
       "3              1  \n",
       "4             13  "
      ]
     },
     "execution_count": 74,
     "metadata": {},
     "output_type": "execute_result"
    }
   ],
   "source": [
    "product_df.head()"
   ]
  },
  {
   "cell_type": "code",
   "execution_count": 75,
   "metadata": {},
   "outputs": [],
   "source": [
    "df_dept=pd.merge(df_up3, product_df, on='product_id', how='left')"
   ]
  },
  {
   "cell_type": "code",
   "execution_count": 76,
   "metadata": {},
   "outputs": [
    {
     "data": {
      "text/plain": [
       "(211101, 30)"
      ]
     },
     "execution_count": 76,
     "metadata": {},
     "output_type": "execute_result"
    }
   ],
   "source": [
    "df_dept.shape"
   ]
  },
  {
   "cell_type": "code",
   "execution_count": 77,
   "metadata": {},
   "outputs": [],
   "source": [
    "dept_dummie=pd.get_dummies(df_dept['department_id'])"
   ]
  },
  {
   "cell_type": "code",
   "execution_count": 78,
   "metadata": {},
   "outputs": [],
   "source": [
    "dept_col=[]\n",
    "for col in dept_dummie.columns:\n",
    "    dept_col.append('product_dept_'+str(col))"
   ]
  },
  {
   "cell_type": "code",
   "execution_count": 79,
   "metadata": {},
   "outputs": [],
   "source": [
    "dept_dummie.columns=dept_col"
   ]
  },
  {
   "cell_type": "code",
   "execution_count": 80,
   "metadata": {},
   "outputs": [],
   "source": [
    "df_dept = pd.concat([df_dept.drop(columns='department_id'), dept_dummie], axis=1)"
   ]
  },
  {
   "cell_type": "code",
   "execution_count": 81,
   "metadata": {},
   "outputs": [
    {
     "data": {
      "text/html": [
       "<div>\n",
       "<style scoped>\n",
       "    .dataframe tbody tr th:only-of-type {\n",
       "        vertical-align: middle;\n",
       "    }\n",
       "\n",
       "    .dataframe tbody tr th {\n",
       "        vertical-align: top;\n",
       "    }\n",
       "\n",
       "    .dataframe thead th {\n",
       "        text-align: right;\n",
       "    }\n",
       "</style>\n",
       "<table border=\"1\" class=\"dataframe\">\n",
       "  <thead>\n",
       "    <tr style=\"text-align: right;\">\n",
       "      <th></th>\n",
       "      <th>user_id</th>\n",
       "      <th>product_id</th>\n",
       "      <th>user_product_reordered_past</th>\n",
       "      <th>reordered</th>\n",
       "      <th>user_total_order</th>\n",
       "      <th>user_cart_size</th>\n",
       "      <th>user_total_product</th>\n",
       "      <th>user_ave_days_since_last_order</th>\n",
       "      <th>user_likely_dow</th>\n",
       "      <th>user_total_uniq_product</th>\n",
       "      <th>...</th>\n",
       "      <th>product_dept_12</th>\n",
       "      <th>product_dept_13</th>\n",
       "      <th>product_dept_14</th>\n",
       "      <th>product_dept_15</th>\n",
       "      <th>product_dept_16</th>\n",
       "      <th>product_dept_17</th>\n",
       "      <th>product_dept_18</th>\n",
       "      <th>product_dept_19</th>\n",
       "      <th>product_dept_20</th>\n",
       "      <th>product_dept_21</th>\n",
       "    </tr>\n",
       "  </thead>\n",
       "  <tbody>\n",
       "    <tr>\n",
       "      <th>0</th>\n",
       "      <td>41</td>\n",
       "      <td>226</td>\n",
       "      <td>0</td>\n",
       "      <td>0.0</td>\n",
       "      <td>5</td>\n",
       "      <td>13.0</td>\n",
       "      <td>65</td>\n",
       "      <td>25.75</td>\n",
       "      <td>0.6</td>\n",
       "      <td>47</td>\n",
       "      <td>...</td>\n",
       "      <td>0</td>\n",
       "      <td>0</td>\n",
       "      <td>0</td>\n",
       "      <td>0</td>\n",
       "      <td>1</td>\n",
       "      <td>0</td>\n",
       "      <td>0</td>\n",
       "      <td>0</td>\n",
       "      <td>0</td>\n",
       "      <td>0</td>\n",
       "    </tr>\n",
       "    <tr>\n",
       "      <th>1</th>\n",
       "      <td>41</td>\n",
       "      <td>1987</td>\n",
       "      <td>1</td>\n",
       "      <td>0.0</td>\n",
       "      <td>5</td>\n",
       "      <td>13.0</td>\n",
       "      <td>65</td>\n",
       "      <td>25.75</td>\n",
       "      <td>0.6</td>\n",
       "      <td>47</td>\n",
       "      <td>...</td>\n",
       "      <td>0</td>\n",
       "      <td>0</td>\n",
       "      <td>0</td>\n",
       "      <td>0</td>\n",
       "      <td>0</td>\n",
       "      <td>0</td>\n",
       "      <td>0</td>\n",
       "      <td>0</td>\n",
       "      <td>0</td>\n",
       "      <td>0</td>\n",
       "    </tr>\n",
       "    <tr>\n",
       "      <th>2</th>\n",
       "      <td>41</td>\n",
       "      <td>2295</td>\n",
       "      <td>0</td>\n",
       "      <td>0.0</td>\n",
       "      <td>5</td>\n",
       "      <td>13.0</td>\n",
       "      <td>65</td>\n",
       "      <td>25.75</td>\n",
       "      <td>0.6</td>\n",
       "      <td>47</td>\n",
       "      <td>...</td>\n",
       "      <td>0</td>\n",
       "      <td>0</td>\n",
       "      <td>0</td>\n",
       "      <td>0</td>\n",
       "      <td>0</td>\n",
       "      <td>0</td>\n",
       "      <td>0</td>\n",
       "      <td>0</td>\n",
       "      <td>0</td>\n",
       "      <td>0</td>\n",
       "    </tr>\n",
       "    <tr>\n",
       "      <th>3</th>\n",
       "      <td>41</td>\n",
       "      <td>4605</td>\n",
       "      <td>0</td>\n",
       "      <td>1.0</td>\n",
       "      <td>5</td>\n",
       "      <td>13.0</td>\n",
       "      <td>65</td>\n",
       "      <td>25.75</td>\n",
       "      <td>0.6</td>\n",
       "      <td>47</td>\n",
       "      <td>...</td>\n",
       "      <td>0</td>\n",
       "      <td>0</td>\n",
       "      <td>0</td>\n",
       "      <td>0</td>\n",
       "      <td>0</td>\n",
       "      <td>0</td>\n",
       "      <td>0</td>\n",
       "      <td>0</td>\n",
       "      <td>0</td>\n",
       "      <td>0</td>\n",
       "    </tr>\n",
       "    <tr>\n",
       "      <th>4</th>\n",
       "      <td>41</td>\n",
       "      <td>5383</td>\n",
       "      <td>0</td>\n",
       "      <td>0.0</td>\n",
       "      <td>5</td>\n",
       "      <td>13.0</td>\n",
       "      <td>65</td>\n",
       "      <td>25.75</td>\n",
       "      <td>0.6</td>\n",
       "      <td>47</td>\n",
       "      <td>...</td>\n",
       "      <td>0</td>\n",
       "      <td>0</td>\n",
       "      <td>0</td>\n",
       "      <td>0</td>\n",
       "      <td>0</td>\n",
       "      <td>0</td>\n",
       "      <td>0</td>\n",
       "      <td>0</td>\n",
       "      <td>0</td>\n",
       "      <td>0</td>\n",
       "    </tr>\n",
       "  </tbody>\n",
       "</table>\n",
       "<p>5 rows × 50 columns</p>\n",
       "</div>"
      ],
      "text/plain": [
       "   user_id  product_id  user_product_reordered_past  reordered  \\\n",
       "0       41         226                            0        0.0   \n",
       "1       41        1987                            1        0.0   \n",
       "2       41        2295                            0        0.0   \n",
       "3       41        4605                            0        1.0   \n",
       "4       41        5383                            0        0.0   \n",
       "\n",
       "   user_total_order  user_cart_size  user_total_product  \\\n",
       "0                 5            13.0                  65   \n",
       "1                 5            13.0                  65   \n",
       "2                 5            13.0                  65   \n",
       "3                 5            13.0                  65   \n",
       "4                 5            13.0                  65   \n",
       "\n",
       "   user_ave_days_since_last_order  user_likely_dow  user_total_uniq_product  \\\n",
       "0                           25.75              0.6                       47   \n",
       "1                           25.75              0.6                       47   \n",
       "2                           25.75              0.6                       47   \n",
       "3                           25.75              0.6                       47   \n",
       "4                           25.75              0.6                       47   \n",
       "\n",
       "        ...         product_dept_12  product_dept_13  product_dept_14  \\\n",
       "0       ...                       0                0                0   \n",
       "1       ...                       0                0                0   \n",
       "2       ...                       0                0                0   \n",
       "3       ...                       0                0                0   \n",
       "4       ...                       0                0                0   \n",
       "\n",
       "   product_dept_15  product_dept_16  product_dept_17  product_dept_18  \\\n",
       "0                0                1                0                0   \n",
       "1                0                0                0                0   \n",
       "2                0                0                0                0   \n",
       "3                0                0                0                0   \n",
       "4                0                0                0                0   \n",
       "\n",
       "   product_dept_19  product_dept_20  product_dept_21  \n",
       "0                0                0                0  \n",
       "1                0                0                0  \n",
       "2                0                0                0  \n",
       "3                0                0                0  \n",
       "4                0                0                0  \n",
       "\n",
       "[5 rows x 50 columns]"
      ]
     },
     "execution_count": 81,
     "metadata": {},
     "output_type": "execute_result"
    }
   ],
   "source": [
    "df_dept.head()"
   ]
  },
  {
   "cell_type": "code",
   "execution_count": 82,
   "metadata": {},
   "outputs": [
    {
     "name": "stdout",
     "output_type": "stream",
     "text": [
      "C=0.010000\n",
      "mean highest_f1: 0.422, std highest_f1: 0.009\n",
      "mean F1: 0.240, std AUC: 0.013\n",
      "mean AUC: 0.822, std AUC: 0.007\n",
      "mean train F1: 0.242, std train F1: 0.005\n",
      "C=0.100000\n",
      "mean highest_f1: 0.423, std highest_f1: 0.011\n",
      "mean F1: 0.241, std AUC: 0.009\n",
      "mean AUC: 0.822, std AUC: 0.006\n",
      "mean train F1: 0.243, std train F1: 0.005\n",
      "C=1.000000\n",
      "mean highest_f1: 0.422, std highest_f1: 0.003\n",
      "mean F1: 0.242, std AUC: 0.014\n",
      "mean AUC: 0.822, std AUC: 0.003\n",
      "mean train F1: 0.242, std train F1: 0.004\n",
      "C=10.000000\n",
      "mean highest_f1: 0.423, std highest_f1: 0.004\n",
      "mean F1: 0.241, std AUC: 0.008\n",
      "mean AUC: 0.822, std AUC: 0.007\n",
      "mean train F1: 0.243, std train F1: 0.002\n",
      "Higest f1 score: (0.42304574105784065, 10)\n"
     ]
    }
   ],
   "source": [
    "f1s=[]\n",
    "for c in [0.01, 0.1, 1, 10]:\n",
    "    print('C=%f' % c)\n",
    "    lm, feature_names, f1= cv_model4(LogisticRegression(penalty='l2', solver='sag', C=c), \n",
    "                                  df=df_dept.drop(columns=['product_name','aisle_id']), \n",
    "                                     cv=5, scale=True, v=False)\n",
    "    f1s.append((f1, c, lm, feature_names))\n",
    "print('Higest f1 score:', sorted(f1s, reverse=True)[0][:2])"
   ]
  },
  {
   "cell_type": "code",
   "execution_count": 83,
   "metadata": {
    "scrolled": true
   },
   "outputs": [
    {
     "name": "stdout",
     "output_type": "stream",
     "text": [
      "0.43186794720482125 user_product_percent_order_containing_product\n",
      "0.33478428972633 product_total_orders\n",
      "0.13668057854058055 user_ave_days_since_last_order\n",
      "0.12527263065998875 user_product_ordered_same_day\n",
      "0.11661827103781337 product_percent_reordered_past\n",
      "0.10593796943131116 user_total_uniq_product\n",
      "0.0914996157408924 user_product_ave_days_since_prior_order\n",
      "0.05578991455500446 product_dept_16\n",
      "0.04656839390481835 product_dept_7\n",
      "0.03596899196290827 product_dept_4\n",
      "0.028490055061285772 product_dept_3\n",
      "0.02803453317800155 user_product_ave_add_to_cart_order\n",
      "0.02697471964495995 product_dept_19\n",
      "0.019562088700343566 user_likely_dow\n",
      "0.01645410943125895 product_dept_8\n",
      "0.01560918419614311 user_product_reordered_past\n",
      "0.013259135202895532 product_dept_21\n",
      "0.005462710277826371 product_dept_20\n",
      "0.004820812101428557 product_dept_12\n",
      "0.004239677512069952 product_dept_5\n",
      "-0.00010001892001902742 product_dept_14\n",
      "-0.00022040653468993453 product_dept_10\n",
      "-0.007522506586728986 product_dept_1\n",
      "-0.007819673992498857 current_days_since_prior_order\n",
      "-0.0104957053935682 order_hour_of_day\n",
      "-0.014938989241518133 product_dept_18\n",
      "-0.015462192264815912 product_dept_2\n",
      "-0.020667397038151465 product_dept_17\n",
      "-0.022355057701820173 product_dept_6\n",
      "-0.023736159227162705 order_dow\n",
      "-0.0272295953525125 product_dept_15\n",
      "-0.029561424268327263 product_dept_9\n",
      "-0.0371214232130638 product_dept_11\n",
      "-0.03908601754542431 user_cart_size\n",
      "-0.050265228014933945 user_total_product\n",
      "-0.062098536429380076 product_avg_add_to_cart_order\n",
      "-0.10528998979463008 user_product_ave_add_to_cart_order_scale\n",
      "-0.12298695013189556 product_dept_13\n",
      "-0.14081634160476847 user_total_order\n",
      "-0.14377924559955016 user_product_ave_day_per_product_order\n",
      "-0.16535708022774587 user_product_ave_day_between_product_order_versus_current_day_since_prior\n",
      "-0.25861129236975156 product_past_reordered_count\n",
      "-0.4556173277155119 user_uniq_prod_over_total_prod\n",
      "-0.4827343870015977 user_product_ordered_last_n_order\n",
      "-0.7184606292221184 user_product_days_since_last_product_order\n"
     ]
    }
   ],
   "source": [
    "model, feature = sorted(f1s,reverse=True)[0][2:4]\n",
    "feature = feature.astype('str')\n",
    "for i, j in sorted(zip(model.coef_[0], feature), reverse=True):\n",
    "    print(i,j)"
   ]
  },
  {
   "cell_type": "code",
   "execution_count": 84,
   "metadata": {},
   "outputs": [],
   "source": [
    "aisle_dummies= pd.get_dummies(df_dept['aisle_id'])"
   ]
  },
  {
   "cell_type": "code",
   "execution_count": 85,
   "metadata": {},
   "outputs": [],
   "source": [
    "aisle_col=[]\n",
    "for col in aisle_dummies.columns:\n",
    "    aisle_col.append('product_aisle_'+str(col))"
   ]
  },
  {
   "cell_type": "code",
   "execution_count": 86,
   "metadata": {},
   "outputs": [],
   "source": [
    "aisle_dummies.columns=aisle_col"
   ]
  },
  {
   "cell_type": "code",
   "execution_count": 87,
   "metadata": {},
   "outputs": [],
   "source": [
    "df_aisle=pd.concat([df_dept.drop(columns='product_name'), aisle_dummies], axis=1)"
   ]
  },
  {
   "cell_type": "code",
   "execution_count": 88,
   "metadata": {},
   "outputs": [
    {
     "name": "stdout",
     "output_type": "stream",
     "text": [
      "C=0.010000\n",
      "mean highest_f1: 0.423, std highest_f1: 0.009\n",
      "mean F1: 0.244, std AUC: 0.010\n",
      "mean AUC: 0.822, std AUC: 0.002\n",
      "mean train F1: 0.245, std train F1: 0.004\n",
      "C=0.100000\n"
     ]
    },
    {
     "name": "stderr",
     "output_type": "stream",
     "text": [
      "/anaconda3/lib/python3.6/site-packages/sklearn/linear_model/sag.py:326: ConvergenceWarning: The max_iter was reached which means the coef_ did not converge\n",
      "  \"the coef_ did not converge\", ConvergenceWarning)\n"
     ]
    },
    {
     "name": "stdout",
     "output_type": "stream",
     "text": [
      "mean highest_f1: 0.423, std highest_f1: 0.006\n",
      "mean F1: 0.243, std AUC: 0.004\n",
      "mean AUC: 0.822, std AUC: 0.002\n",
      "mean train F1: 0.246, std train F1: 0.001\n",
      "C=1.000000\n",
      "mean highest_f1: 0.422, std highest_f1: 0.012\n",
      "mean F1: 0.246, std AUC: 0.011\n",
      "mean AUC: 0.822, std AUC: 0.004\n",
      "mean train F1: 0.246, std train F1: 0.004\n",
      "C=10.000000\n",
      "mean highest_f1: 0.423, std highest_f1: 0.003\n",
      "mean F1: 0.245, std AUC: 0.012\n",
      "mean AUC: 0.823, std AUC: 0.003\n",
      "mean train F1: 0.246, std train F1: 0.003\n",
      "Higest f1 score: (0.42311718651025354, 0.1)\n"
     ]
    }
   ],
   "source": [
    "f1s=[]\n",
    "for c in [0.01, 0.1, 1, 10]:\n",
    "    print('C=%f' % c)\n",
    "    lm, feature_names, f1= cv_model4(LogisticRegression(penalty='l2', solver='sag', C=c), \n",
    "                                  df=df_aisle, \n",
    "                                     cv=5, scale=True, v=False)\n",
    "    f1s.append((f1, c, lm, feature_names))\n",
    "print('Higest f1 score:', sorted(f1s, reverse=True)[0][:2])"
   ]
  },
  {
   "cell_type": "markdown",
   "metadata": {},
   "source": [
    "Adding department or aisle dummies doens't improve the model"
   ]
  },
  {
   "cell_type": "markdown",
   "metadata": {},
   "source": [
    "Add polynomial terms"
   ]
  },
  {
   "cell_type": "code",
   "execution_count": 89,
   "metadata": {},
   "outputs": [],
   "source": [
    "df_logit=df_aisle.copy()"
   ]
  },
  {
   "cell_type": "code",
   "execution_count": 90,
   "metadata": {},
   "outputs": [],
   "source": [
    "df_logit['user_product_reordered_past^2'] = df_logit['user_product_reordered_past']**2"
   ]
  },
  {
   "cell_type": "code",
   "execution_count": 91,
   "metadata": {},
   "outputs": [],
   "source": [
    "df_logit['user_product_days_since_last_product_order^2']=df_logit['user_product_days_since_last_product_order']**2"
   ]
  },
  {
   "cell_type": "code",
   "execution_count": 92,
   "metadata": {},
   "outputs": [],
   "source": [
    "df_logit['user_product_percent_order_containing_product_log']=\\\n",
    "np.log(df_logit['user_product_percent_order_containing_product'])"
   ]
  },
  {
   "cell_type": "code",
   "execution_count": 93,
   "metadata": {},
   "outputs": [],
   "source": [
    "for col in ['user_product_days_since_last_product_order', 'user_product_ordered_last_n_order',\n",
    "           'user_product_ave_days_since_prior_order','user_product_ave_add_to_cart_order', \n",
    "            'user_product_reordered_past',\n",
    "           'product_past_reordered_count' ]:\n",
    "    name = col + '_log'\n",
    "    if df_logit[col].min() == 0:\n",
    "        df_logit[name] = np.log(df_logit[col]+1)\n",
    "    else:\n",
    "        df_logit[name] = np.log(df_logit[col])"
   ]
  },
  {
   "cell_type": "code",
   "execution_count": 94,
   "metadata": {},
   "outputs": [
    {
     "name": "stdout",
     "output_type": "stream",
     "text": [
      "C=0.010000\n",
      "mean highest_f1: 0.422, std highest_f1: 0.006\n",
      "mean F1: 0.242, std AUC: 0.004\n",
      "mean AUC: 0.822, std AUC: 0.004\n",
      "mean train F1: 0.246, std train F1: 0.004\n",
      "C=0.100000\n"
     ]
    },
    {
     "name": "stderr",
     "output_type": "stream",
     "text": [
      "/anaconda3/lib/python3.6/site-packages/sklearn/linear_model/sag.py:326: ConvergenceWarning: The max_iter was reached which means the coef_ did not converge\n",
      "  \"the coef_ did not converge\", ConvergenceWarning)\n"
     ]
    },
    {
     "name": "stdout",
     "output_type": "stream",
     "text": [
      "mean highest_f1: 0.422, std highest_f1: 0.004\n",
      "mean F1: 0.243, std AUC: 0.006\n",
      "mean AUC: 0.822, std AUC: 0.005\n",
      "mean train F1: 0.246, std train F1: 0.004\n",
      "C=1.000000\n",
      "mean highest_f1: 0.422, std highest_f1: 0.008\n",
      "mean F1: 0.244, std AUC: 0.011\n",
      "mean AUC: 0.822, std AUC: 0.004\n",
      "mean train F1: 0.246, std train F1: 0.006\n",
      "C=10.000000\n",
      "mean highest_f1: 0.422, std highest_f1: 0.008\n",
      "mean F1: 0.244, std AUC: 0.011\n",
      "mean AUC: 0.822, std AUC: 0.005\n",
      "mean train F1: 0.247, std train F1: 0.003\n",
      "Higest f1 score: (0.42244495032410223, 0.01)\n"
     ]
    }
   ],
   "source": [
    "f1s=[]\n",
    "for c in [0.01, 0.1, 1, 10]:\n",
    "    print('C=%f' % c)\n",
    "    lm, feature_names, f1= cv_model4(LogisticRegression(penalty='l2', solver='sag', C=c), \n",
    "                                  df=df_aisle, \n",
    "                                     cv=5, scale=True, v=False)\n",
    "    f1s.append((f1, c, lm, feature_names))\n",
    "print('Higest f1 score:', sorted(f1s, reverse=True)[0][:2])"
   ]
  },
  {
   "cell_type": "markdown",
   "metadata": {},
   "source": [
    "The interaction term and polynomial term doesn't improve the logistic regression model either. Switch to tree model and bin catagorical feature."
   ]
  },
  {
   "cell_type": "code",
   "execution_count": 95,
   "metadata": {},
   "outputs": [
    {
     "data": {
      "text/html": [
       "<div>\n",
       "<style scoped>\n",
       "    .dataframe tbody tr th:only-of-type {\n",
       "        vertical-align: middle;\n",
       "    }\n",
       "\n",
       "    .dataframe tbody tr th {\n",
       "        vertical-align: top;\n",
       "    }\n",
       "\n",
       "    .dataframe thead th {\n",
       "        text-align: right;\n",
       "    }\n",
       "</style>\n",
       "<table border=\"1\" class=\"dataframe\">\n",
       "  <thead>\n",
       "    <tr style=\"text-align: right;\">\n",
       "      <th></th>\n",
       "      <th>product_id</th>\n",
       "      <th>product_name</th>\n",
       "      <th>aisle_id</th>\n",
       "      <th>department_id</th>\n",
       "    </tr>\n",
       "  </thead>\n",
       "  <tbody>\n",
       "    <tr>\n",
       "      <th>0</th>\n",
       "      <td>1</td>\n",
       "      <td>Chocolate Sandwich Cookies</td>\n",
       "      <td>61</td>\n",
       "      <td>19</td>\n",
       "    </tr>\n",
       "    <tr>\n",
       "      <th>1</th>\n",
       "      <td>2</td>\n",
       "      <td>All-Seasons Salt</td>\n",
       "      <td>104</td>\n",
       "      <td>13</td>\n",
       "    </tr>\n",
       "    <tr>\n",
       "      <th>2</th>\n",
       "      <td>3</td>\n",
       "      <td>Robust Golden Unsweetened Oolong Tea</td>\n",
       "      <td>94</td>\n",
       "      <td>7</td>\n",
       "    </tr>\n",
       "    <tr>\n",
       "      <th>3</th>\n",
       "      <td>4</td>\n",
       "      <td>Smart Ones Classic Favorites Mini Rigatoni Wit...</td>\n",
       "      <td>38</td>\n",
       "      <td>1</td>\n",
       "    </tr>\n",
       "    <tr>\n",
       "      <th>4</th>\n",
       "      <td>5</td>\n",
       "      <td>Green Chile Anytime Sauce</td>\n",
       "      <td>5</td>\n",
       "      <td>13</td>\n",
       "    </tr>\n",
       "  </tbody>\n",
       "</table>\n",
       "</div>"
      ],
      "text/plain": [
       "   product_id                                       product_name  aisle_id  \\\n",
       "0           1                         Chocolate Sandwich Cookies        61   \n",
       "1           2                                   All-Seasons Salt       104   \n",
       "2           3               Robust Golden Unsweetened Oolong Tea        94   \n",
       "3           4  Smart Ones Classic Favorites Mini Rigatoni Wit...        38   \n",
       "4           5                          Green Chile Anytime Sauce         5   \n",
       "\n",
       "   department_id  \n",
       "0             19  \n",
       "1             13  \n",
       "2              7  \n",
       "3              1  \n",
       "4             13  "
      ]
     },
     "execution_count": 95,
     "metadata": {},
     "output_type": "execute_result"
    }
   ],
   "source": [
    "product_df=pd.read_csv('../data/products.csv')\n",
    "product_df.head()"
   ]
  },
  {
   "cell_type": "code",
   "execution_count": 96,
   "metadata": {},
   "outputs": [],
   "source": [
    "df_dept=pd.merge(df_up3, product_df, on='product_id', how='left')\n",
    "df_dept.drop(columns='product_name', inplace=True)"
   ]
  },
  {
   "cell_type": "code",
   "execution_count": 97,
   "metadata": {},
   "outputs": [],
   "source": [
    "no = df_dept.loc[df_dept['reordered']==0,'department_id'].value_counts().sort_index()/\\\n",
    "df_dept.loc[df_dept['reordered']==0,'department_id'].count()\n",
    "re = df_dept.loc[df_dept['reordered']==1,'department_id'].value_counts().sort_index()/\\\n",
    "df_dept.loc[df_dept['reordered']==1,'department_id'].count()"
   ]
  },
  {
   "cell_type": "markdown",
   "metadata": {},
   "source": [
    "Take a look to see how department affect reorder."
   ]
  },
  {
   "cell_type": "code",
   "execution_count": 103,
   "metadata": {},
   "outputs": [],
   "source": [
    "dept = pd.read_csv('../data/departments.csv')"
   ]
  },
  {
   "cell_type": "code",
   "execution_count": 107,
   "metadata": {},
   "outputs": [],
   "source": [
    "dept_freq  = pd.DataFrame(no)\n",
    "dept_freq.columns=['no_reorder']\n",
    "dept_freq = pd.merge(dept_freq, re.to_frame(), left_index=True, right_index=True, how='outer')"
   ]
  },
  {
   "cell_type": "code",
   "execution_count": 114,
   "metadata": {},
   "outputs": [
    {
     "data": {
      "image/png": "[encoded data removed]",
      "text/plain": [
       "<matplotlib.figure.Figure at 0x1a12732f60>"
      ]
     },
     "metadata": {},
     "output_type": "display_data"
    }
   ],
   "source": [
    "x=np.arange(len(dept_freq))\n",
    "plt.figure(figsize=(8,6))\n",
    "plt.bar(x, dept_freq['no_reorder']*100, width=0.4, label='No-Reorder', color='lightblue')\n",
    "plt.bar(x+0.4, dept_freq['reordered']*100, width=0.4, label = 'Reordered', color='tab:blue')\n",
    "plt.legend();\n",
    "plt.ylabel('Percentage(%)')\n",
    "plt.xticks(fontsize=18)\n",
    "plt.xticks(x+0.2,dept.loc[dept_freq.index-1, 'department'], rotation=90);"
   ]
  },
  {
   "cell_type": "code",
   "execution_count": 110,
   "metadata": {},
   "outputs": [],
   "source": [
    "dept_freq.rename(columns={'department_id':'reordered'}, inplace =True)\n",
    "dept_freq['diff'] = dept_freq['reordered'] - dept_freq['no_reorder']"
   ]
  },
  {
   "cell_type": "code",
   "execution_count": 111,
   "metadata": {},
   "outputs": [],
   "source": [
    "dept_freq.sort_values('diff', ascending=False, inplace=True)"
   ]
  },
  {
   "cell_type": "code",
   "execution_count": 116,
   "metadata": {},
   "outputs": [],
   "source": [
    "dept_freq['dept_bin']=0\n",
    "dept_freq.loc[(dept_freq['diff']>=0.02), 'dept_bin'] = 2\n",
    "dept_freq.loc[(dept_freq['diff']<0.02) & (dept_freq['diff']>= 0 ),  'dept_bin'] = 1\n",
    "dept_freq.loc[(dept_freq['diff']<0) & (dept_freq['diff']>= -0.01 ),  'dept_bin'] = -1\n",
    "dept_freq.loc[(dept_freq['diff']<-0.01) & (dept_freq['diff']>= -0.02 ),  'dept_bin'] = -2\n",
    "dept_freq.loc[(dept_freq['diff']<-0.02),  'dept_bin'] = -3"
   ]
  },
  {
   "cell_type": "code",
   "execution_count": 118,
   "metadata": {},
   "outputs": [],
   "source": [
    "dept_map= dept_freq['dept_bin']\n",
    "df_dept['product_dept_bin'] = df_dept['department_id'].map(dept_map)"
   ]
  },
  {
   "cell_type": "code",
   "execution_count": 119,
   "metadata": {},
   "outputs": [],
   "source": [
    "df_dept.drop(columns='department_id', inplace=True)"
   ]
  },
  {
   "cell_type": "markdown",
   "metadata": {},
   "source": [
    "Bin aisle"
   ]
  },
  {
   "cell_type": "code",
   "execution_count": 120,
   "metadata": {},
   "outputs": [],
   "source": [
    "no = df_dept.loc[df_dept['reordered']==0,'aisle_id'].value_counts().sort_index()/\\\n",
    "df_dept.loc[df_dept['reordered']==0,'aisle_id'].count()\n",
    "re = df_dept.loc[df_dept['reordered']==1,'aisle_id'].value_counts().sort_index()/\\\n",
    "df_dept.loc[df_dept['reordered']==1,'aisle_id'].count()"
   ]
  },
  {
   "cell_type": "code",
   "execution_count": 121,
   "metadata": {},
   "outputs": [],
   "source": [
    "aisle_freq  = pd.DataFrame(no)\n",
    "aisle_freq.columns=['no_reorder']\n",
    "aisle_freq = pd.merge(aisle_freq, re.to_frame(), left_index=True, right_index=True, how='outer')"
   ]
  },
  {
   "cell_type": "code",
   "execution_count": 122,
   "metadata": {},
   "outputs": [],
   "source": [
    "aisle_freq.fillna(0, inplace=True)\n",
    "aisle_freq.rename(columns={'aisle_id':'reordered'}, inplace =True)\n",
    "aisle_freq['diff'] = aisle_freq['reordered'] - aisle_freq['no_reorder']"
   ]
  },
  {
   "cell_type": "code",
   "execution_count": 123,
   "metadata": {},
   "outputs": [],
   "source": [
    "aisle_freq['product_aisle_bin'] = 0\n",
    "\n",
    "aisle_freq.loc[aisle_freq['diff']>=0.001, 'product_aisle_bin'] = 2\n",
    "\n",
    "aisle_freq.loc[aisle_freq['diff']<=-0.001, 'product_aisle_bin'] = -2\n",
    "\n",
    "aisle_freq.loc[(aisle_freq['diff']<0.001) & (aisle_freq['diff']>=0), 'product_aisle_bin'] = 1\n",
    "\n",
    "aisle_freq.loc[(aisle_freq['diff']>-0.001) & (aisle_freq['diff']<0), 'product_aisle_bin'] = -1"
   ]
  },
  {
   "cell_type": "code",
   "execution_count": 124,
   "metadata": {
    "scrolled": true
   },
   "outputs": [
    {
     "data": {
      "text/plain": [
       "-1    50\n",
       "-2    48\n",
       " 1    19\n",
       " 2    17\n",
       "Name: product_aisle_bin, dtype: int64"
      ]
     },
     "execution_count": 124,
     "metadata": {},
     "output_type": "execute_result"
    }
   ],
   "source": [
    "aisle_freq.product_aisle_bin.value_counts()"
   ]
  },
  {
   "cell_type": "code",
   "execution_count": 125,
   "metadata": {},
   "outputs": [],
   "source": [
    "aisle_map = aisle_freq['product_aisle_bin']"
   ]
  },
  {
   "cell_type": "code",
   "execution_count": 126,
   "metadata": {},
   "outputs": [],
   "source": [
    "df_aisle=df_dept.copy()"
   ]
  },
  {
   "cell_type": "code",
   "execution_count": 127,
   "metadata": {},
   "outputs": [],
   "source": [
    "df_aisle['product_aisle_bin'] = df_aisle['aisle_id'].map(aisle_map)\n",
    "df_aisle.drop(columns='aisle_id', inplace=True)"
   ]
  },
  {
   "cell_type": "markdown",
   "metadata": {},
   "source": [
    "Bin hour of day in the current order"
   ]
  },
  {
   "cell_type": "code",
   "execution_count": 128,
   "metadata": {},
   "outputs": [],
   "source": [
    "no = df_aisle.loc[df_aisle['reordered']==0,'order_hour_of_day'].value_counts().sort_index()/\\\n",
    "df_aisle.loc[df_aisle['reordered']==0,'order_hour_of_day'].count()\n",
    "re =df_aisle.loc[df_aisle['reordered']==1,'order_hour_of_day'].value_counts().sort_index()/\\\n",
    "df_aisle.loc[df_aisle['reordered']==1,'order_hour_of_day'].count()"
   ]
  },
  {
   "cell_type": "code",
   "execution_count": 129,
   "metadata": {},
   "outputs": [
    {
     "data": {
      "image/png": "[encoded data removed]",
      "text/plain": [
       "<matplotlib.figure.Figure at 0x1a1d8e8208>"
      ]
     },
     "metadata": {},
     "output_type": "display_data"
    }
   ],
   "source": [
    "x1=np.arange(len(no))\n",
    "x2= np.arange(len(re))\n",
    "plt.figure(figsize=(8,6))\n",
    "plt.bar(x1, no, width=0.4, label='0')\n",
    "plt.bar(x2+0.4, re, width=0.4, label = '1')\n",
    "plt.legend();\n",
    "plt.xticks(np.arange(0,len(no)),no.index, rotation=90);"
   ]
  },
  {
   "cell_type": "code",
   "execution_count": 130,
   "metadata": {},
   "outputs": [],
   "source": [
    "product_hod_freq = pd.DataFrame(no)\n",
    "product_hod_freq.columns=['no_reorder']\n",
    "product_hod_freq = pd.concat([product_hod_freq, re.to_frame()], axis=1)\n",
    "product_hod_freq.rename(columns={'order_hour_of_day':'reordered'}, inplace=True)\n",
    "product_hod_freq['diff'] = product_hod_freq['reordered'] - product_hod_freq['no_reorder']"
   ]
  },
  {
   "cell_type": "code",
   "execution_count": 131,
   "metadata": {},
   "outputs": [],
   "source": [
    "product_hod_freq['user_current_hod_bin'] = 0\n",
    "product_hod_freq.loc[(product_hod_freq['diff']>=0), 'user_current_hod_bin']=1\n",
    "product_hod_freq.loc[(product_hod_freq['diff']<0), 'user_current_hod_bin']=-1"
   ]
  },
  {
   "cell_type": "code",
   "execution_count": 132,
   "metadata": {},
   "outputs": [],
   "source": [
    "df_hod= df_aisle.copy()"
   ]
  },
  {
   "cell_type": "code",
   "execution_count": 133,
   "metadata": {},
   "outputs": [
    {
     "data": {
      "text/plain": [
       "count    24.000000\n",
       "mean      0.083333\n",
       "std       1.017955\n",
       "min      -1.000000\n",
       "25%      -1.000000\n",
       "50%       1.000000\n",
       "75%       1.000000\n",
       "max       1.000000\n",
       "Name: user_current_hod_bin, dtype: float64"
      ]
     },
     "execution_count": 133,
     "metadata": {},
     "output_type": "execute_result"
    }
   ],
   "source": [
    "product_hod_freq['user_current_hod_bin'].describe()"
   ]
  },
  {
   "cell_type": "code",
   "execution_count": 135,
   "metadata": {},
   "outputs": [],
   "source": [
    "df_hod['current_order_hod'] = (df_hod['order_hour_of_day']\n",
    "                               .map(product_hod_freq['user_current_hod_bin']))"
   ]
  },
  {
   "cell_type": "code",
   "execution_count": 136,
   "metadata": {},
   "outputs": [],
   "source": [
    "df_hod.drop(columns='order_hour_of_day', inplace=True)"
   ]
  },
  {
   "cell_type": "code",
   "execution_count": 137,
   "metadata": {
    "scrolled": true
   },
   "outputs": [
    {
     "name": "stdout",
     "output_type": "stream",
     "text": [
      "max_depth=40, n_estimator=500\n",
      "mean highest_f1: 0.430, std highest_f1: 0.010\n",
      "mean F1: 0.233, std AUC: 0.007\n",
      "mean AUC: 0.826, std AUC: 0.007\n",
      "mean train F1: 0.256, std train F1: 0.005\n",
      "max_depth=41, n_estimator=500\n",
      "mean highest_f1: 0.428, std highest_f1: 0.009\n",
      "mean F1: 0.233, std AUC: 0.005\n",
      "mean AUC: 0.826, std AUC: 0.004\n",
      "mean train F1: 0.255, std train F1: 0.004\n",
      "max_depth=42, n_estimator=500\n",
      "mean highest_f1: 0.429, std highest_f1: 0.008\n",
      "mean F1: 0.233, std AUC: 0.008\n",
      "mean AUC: 0.826, std AUC: 0.004\n",
      "mean train F1: 0.256, std train F1: 0.005\n",
      "max_depth=43, n_estimator=500\n",
      "mean highest_f1: 0.429, std highest_f1: 0.009\n",
      "mean F1: 0.234, std AUC: 0.012\n",
      "mean AUC: 0.826, std AUC: 0.004\n",
      "mean train F1: 0.255, std train F1: 0.004\n",
      "max_depth=44, n_estimator=500\n",
      "mean highest_f1: 0.430, std highest_f1: 0.008\n",
      "mean F1: 0.232, std AUC: 0.011\n",
      "mean AUC: 0.826, std AUC: 0.004\n",
      "mean train F1: 0.255, std train F1: 0.004\n",
      "max_depth=45, n_estimator=500\n",
      "mean highest_f1: 0.429, std highest_f1: 0.015\n",
      "mean F1: 0.232, std AUC: 0.016\n",
      "mean AUC: 0.825, std AUC: 0.008\n",
      "mean train F1: 0.255, std train F1: 0.005\n",
      "max_depth=46, n_estimator=500\n",
      "mean highest_f1: 0.430, std highest_f1: 0.007\n",
      "mean F1: 0.234, std AUC: 0.007\n",
      "mean AUC: 0.826, std AUC: 0.005\n",
      "mean train F1: 0.255, std train F1: 0.004\n",
      "max_depth=47, n_estimator=500\n",
      "mean highest_f1: 0.429, std highest_f1: 0.012\n",
      "mean F1: 0.234, std AUC: 0.012\n",
      "mean AUC: 0.826, std AUC: 0.003\n",
      "mean train F1: 0.255, std train F1: 0.006\n",
      "max_depth=48, n_estimator=500\n",
      "mean highest_f1: 0.430, std highest_f1: 0.010\n",
      "mean F1: 0.232, std AUC: 0.009\n",
      "mean AUC: 0.826, std AUC: 0.004\n",
      "mean train F1: 0.256, std train F1: 0.003\n",
      "max_depth=49, n_estimator=500\n",
      "mean highest_f1: 0.428, std highest_f1: 0.009\n",
      "mean F1: 0.232, std AUC: 0.011\n",
      "mean AUC: 0.825, std AUC: 0.004\n",
      "mean train F1: 0.256, std train F1: 0.005\n",
      "[(0.430301854040105, 500, 46, RandomForestClassifier(bootstrap=True, class_weight=None, criterion='gini',\n",
      "            max_depth=46, max_features='auto', max_leaf_nodes=None,\n",
      "            min_impurity_decrease=0.0, min_impurity_split=None,\n",
      "            min_samples_leaf=75, min_samples_split=2,\n",
      "            min_weight_fraction_leaf=0.0, n_estimators=500, n_jobs=-1,\n",
      "            oob_score=False, random_state=None, verbose=0,\n",
      "            warm_start=False), Index(['user_product_reordered_past', 'user_total_order', 'user_cart_size',\n",
      "       'user_total_product', 'user_ave_days_since_last_order',\n",
      "       'user_likely_dow', 'user_total_uniq_product',\n",
      "       'user_uniq_prod_over_total_prod', 'product_total_orders',\n",
      "       'product_avg_add_to_cart_order', 'product_past_reordered_count',\n",
      "       'product_percent_reordered_past', 'user_product_ave_add_to_cart_order',\n",
      "       'user_product_ave_add_to_cart_order_scale',\n",
      "       'user_product_ave_days_since_prior_order',\n",
      "       'user_product_ordered_last_n_order',\n",
      "       'user_product_days_since_last_product_order',\n",
      "       'user_product_percent_order_containing_product',\n",
      "       'user_product_ave_day_per_product_order', 'order_dow',\n",
      "       'current_days_since_prior_order',\n",
      "       'user_product_ave_day_between_product_order_versus_current_day_since_prior',\n",
      "       'user_product_ordered_same_day', 'product_dept_bin',\n",
      "       'product_aisle_bin', 'current_order_hod'],\n",
      "      dtype='object')), (0.4301148064916867, 500, 44, RandomForestClassifier(bootstrap=True, class_weight=None, criterion='gini',\n",
      "            max_depth=44, max_features='auto', max_leaf_nodes=None,\n",
      "            min_impurity_decrease=0.0, min_impurity_split=None,\n",
      "            min_samples_leaf=75, min_samples_split=2,\n",
      "            min_weight_fraction_leaf=0.0, n_estimators=500, n_jobs=-1,\n",
      "            oob_score=False, random_state=None, verbose=0,\n",
      "            warm_start=False), Index(['user_product_reordered_past', 'user_total_order', 'user_cart_size',\n",
      "       'user_total_product', 'user_ave_days_since_last_order',\n",
      "       'user_likely_dow', 'user_total_uniq_product',\n",
      "       'user_uniq_prod_over_total_prod', 'product_total_orders',\n",
      "       'product_avg_add_to_cart_order', 'product_past_reordered_count',\n",
      "       'product_percent_reordered_past', 'user_product_ave_add_to_cart_order',\n",
      "       'user_product_ave_add_to_cart_order_scale',\n",
      "       'user_product_ave_days_since_prior_order',\n",
      "       'user_product_ordered_last_n_order',\n",
      "       'user_product_days_since_last_product_order',\n",
      "       'user_product_percent_order_containing_product',\n",
      "       'user_product_ave_day_per_product_order', 'order_dow',\n",
      "       'current_days_since_prior_order',\n",
      "       'user_product_ave_day_between_product_order_versus_current_day_since_prior',\n",
      "       'user_product_ordered_same_day', 'product_dept_bin',\n",
      "       'product_aisle_bin', 'current_order_hod'],\n",
      "      dtype='object'))]\n"
     ]
    }
   ],
   "source": [
    "f1s=[]\n",
    "\n",
    "for m in range(40, 50): #over_fitting when n> 13\n",
    "    \n",
    "    print('max_depth=%d, n_estimator=%d' % (m, 500))\n",
    "    rf, feature_names, f1 = cv_model4(RandomForestClassifier(max_depth=m, n_estimators=500, min_samples_leaf=75,\n",
    "                                                             n_jobs=-1,), df=df_hod,\n",
    "                                      cv=5, scale=False, v=False)\n",
    "    f1s.append((f1, 500, m, rf, feature_names))\n",
    "print(sorted(f1s, reverse=True)[:2][:4])"
   ]
  },
  {
   "cell_type": "code",
   "execution_count": 138,
   "metadata": {},
   "outputs": [
    {
     "data": {
      "image/png": "[encoded data removed]",
      "text/plain": [
       "<matplotlib.figure.Figure at 0x1a15162710>"
      ]
     },
     "metadata": {},
     "output_type": "display_data"
    }
   ],
   "source": [
    "rf, feature_name = sorted(f1s, reverse=True)[0][3:]\n",
    "importance = [x for x, j in sorted(zip(rf.feature_importances_, feature_names),reverse=True)]\n",
    "features = [j for x, j in sorted(zip(rf.feature_importances_, feature_names),reverse=True)]\n",
    "\n",
    "plt.figure(figsize=(12,8))\n",
    "plt.bar(range(len(importance)), importance)\n",
    "plt.xticks(range(len(importance)),features, rotation=90);"
   ]
  },
  {
   "cell_type": "code",
   "execution_count": 139,
   "metadata": {},
   "outputs": [],
   "source": [
    "def cv_xgb(df, cv=5, n_estimators=30000, max_depth=3, objective=\"binary:logistic\", learning_rate=.1, subsample=1, \n",
    "           min_child_weight=1, colsample_bytree=.8, v=False):\n",
    "    rec_list=[]\n",
    "    prec_list=[]\n",
    "    f1_list=[]\n",
    "    auc_list=[]\n",
    "    f1_train=[]  #check train score if see if the model overfits\n",
    "    i=0\n",
    "    highest_f1=[]\n",
    "    if v:\n",
    "        fig, ax = plt.subplots(1,3, figsize=(15,5))\n",
    "    \n",
    "    kf = KFold(n_splits=cv, shuffle=True)\n",
    "    for user_train_ind, user_val_ind in kf.split(df.user_id.unique()):\n",
    "    #print(user_train.shape, user_val.shape)\n",
    "        user_train=df.user_id.unique()[user_train_ind]\n",
    "        user_val=df.user_id.unique()[user_val_ind]\n",
    "        df1 = df[df.user_id.isin(user_train)]\n",
    "        y_train = df1['reordered']\n",
    "        X_train = df1.drop(columns=['reordered', 'user_id', 'product_id'])\n",
    "        feature_names=X_train.columns\n",
    "        df2 = df[df.user_id.isin(user_val)]\n",
    "        y_val = df2['reordered']\n",
    "        X_val = df2.drop(columns=['reordered', 'user_id', 'product_id'])    \n",
    "        #print(user_train.shape, user_val.shape, X_train.shape, X_val.shape, y_train.shape, y_val.shape)\n",
    "        \n",
    "        gbm =  xgb.XGBClassifier( \n",
    "                               n_estimators = n_estimators, #arbitrary large number\n",
    "                               max_depth = max_depth,\n",
    "                               objective = objective,\n",
    "                               learning_rate = learning_rate, \n",
    "                               subsample = subsample,\n",
    "                               min_child_weight = min_child_weight,\n",
    "                               colsample_bytree = colsample_bytree\n",
    "                                  )\n",
    "        eval_set=[(X_train,y_train),(X_val,y_val)]\n",
    "        fit_model = gbm.fit( \n",
    "                    X_train, y_train, \n",
    "                    eval_set=eval_set,\n",
    "                    eval_metric='auc',\n",
    "                    early_stopping_rounds=50,\n",
    "                    verbose=False #gives output log as below\n",
    "                   )\n",
    "        y_pred = gbm.predict(X_val, ntree_limit=gbm.best_ntree_limit)\n",
    "        y_pred_train = gbm.predict(X_train, ntree_limit=gbm.best_ntree_limit)\n",
    "    \n",
    "        #acc_list.append(accuracy_score(y_val, y_pred))\n",
    "        rec_list.append(recall_score(y_val, y_pred))\n",
    "        prec_list.append(precision_score(y_val, y_pred))\n",
    "        f1_list.append(f1_score(y_val, y_pred))\n",
    "        f1_train.append(f1_score(y_train, y_pred_train))\n",
    "        \n",
    "        y_pred_prob = gbm.predict_proba(X_val, ntree_limit=gbm.best_ntree_limit)[:,1]\n",
    "        fpr, tpr, _ = roc_curve(y_val, y_pred_prob, pos_label=1)\n",
    "        auc_list.append(auc(fpr, tpr))\n",
    "        if v:\n",
    "            i += 1\n",
    "            ax[0].plot(fpr, tpr, label='ROC Fold %d' % i)\n",
    "        rec, prec, thres = precision_recall_curve(y_val, y_pred_prob, pos_label=1)\n",
    "        if v:\n",
    "            ax[1].plot(rec, prec, label ='Fold %d' %i)\n",
    "        f1s = []\n",
    "        for r, p, t in zip(rec, prec, thres):\n",
    "            if r and p:\n",
    "                f1s.append((2*r*p/(r+p), t, r, p))\n",
    "        if v:\n",
    "            print('Fold %d highest F1: %.3f at threshold p= %.3f. Recall is %.3f, precision is %.3f' \n",
    "                  % (i, *sorted(f1s, reverse=True)[0]))\n",
    "        highest_f1.append(sorted(f1s, reverse=True)[0][0])\n",
    "        if v:\n",
    "            ax[2].plot(list(zip(*f1s))[1], list(zip(*f1s))[0], label='Fold %d' %i)\n",
    "    if v:        \n",
    "        plt.legend()\n",
    "        ax[0].set_xlabel('FPR')\n",
    "        ax[0].set_ylabel('TPR')\n",
    "        ax[0].set_title('ROC Curve')\n",
    "        ax[1].set_xlabel('Recall')\n",
    "        ax[1].set_ylabel('Precision')\n",
    "        ax[1].set_title('Precision-Recall Curve')\n",
    "        ax[2].set_xlabel('P threshold')\n",
    "        ax[2].set_ylabel('F1 score')\n",
    "        ax[2].set_title('F1 Score vs. Positive Class Decision Probability Threshold')\n",
    "\n",
    "    if v:\n",
    "        #mean_acc = np.mean(acc_list)\n",
    "        #std_acc = np.std(acc_list)\n",
    "        mean_rec = np.mean(rec_list)\n",
    "        std_rec = np.std(rec_list)\n",
    "        mean_prec = np.mean(prec_list)\n",
    "        std_prec = np.std(prec_list) \n",
    "        #print('mean accuracy: %.3f, std accuracy: %.3f' % (mean_acc, std_acc))\n",
    "        print('mean recall: %.3f, std recall: %.3f' % (mean_rec, std_rec))  \n",
    "        print('mean precision: %.3f, std accuracy: %.3f' % (mean_prec, std_prec))\n",
    "    \n",
    "    mean_f1 = np.mean(f1_list)\n",
    "    std_f1 = np.std(f1_list)\n",
    "    mean_auc = np.mean(auc_list)\n",
    "    std_auc = np.std(auc_list)\n",
    "    mean_f1_train = np.mean(f1_train)\n",
    "    std_f1_train = np.std(f1_train)\n",
    "    mean_highest_f1 = np.mean(highest_f1)\n",
    "    std_highest_f1 = np.std(highest_f1)\n",
    "    print('mean highest_f1: %.3f, std highest_f1: %.3f' % (mean_highest_f1, std_highest_f1))\n",
    "    print('mean F1: %.3f, std AUC: %.3f' % (mean_f1, std_f1))\n",
    "    print('mean AUC: %.3f, std AUC: %.3f' % (mean_auc, std_auc))\n",
    "    print('mean train F1: %.3f, std train F1: %.3f' % (mean_f1_train, std_f1_train))\n",
    "    return gbm, feature_names, mean_highest_f1"
   ]
  },
  {
   "cell_type": "code",
   "execution_count": null,
   "metadata": {},
   "outputs": [],
   "source": [
    "f1s=[]\n",
    "for m in np.linspace(0.02, 0.08, 7):\n",
    "    for n in [4,5,6,7]:\n",
    "        print('learning_rate=%f, max_depth=%f' % (m,n))\n",
    "        gbm,feature_names, f1 = cv_xgb(df=df_hod, \n",
    "                                       cv=3, n_estimators=30000, max_depth=n, objective=\"binary:logistic\", \n",
    "               learning_rate=m, subsample=0.5, colsample_bytree=0.3, v=False)\n",
    "        f1s.append((f1, n, m, gbm, feature_names))\n",
    "print(sorted(f1s, reverse=True)[:5])"
   ]
  },
  {
   "cell_type": "code",
   "execution_count": 140,
   "metadata": {},
   "outputs": [
    {
     "name": "stderr",
     "output_type": "stream",
     "text": [
      "/anaconda3/lib/python3.6/site-packages/sklearn/preprocessing/label.py:151: DeprecationWarning: The truth value of an empty array is ambiguous. Returning False, but in future this will result in an error. Use `array.size > 0` to check that an array is not empty.\n",
      "  if diff:\n",
      "/anaconda3/lib/python3.6/site-packages/sklearn/preprocessing/label.py:151: DeprecationWarning: The truth value of an empty array is ambiguous. Returning False, but in future this will result in an error. Use `array.size > 0` to check that an array is not empty.\n",
      "  if diff:\n"
     ]
    },
    {
     "name": "stdout",
     "output_type": "stream",
     "text": [
      "Fold 1 highest F1: 0.421 at threshold p= 0.234. Recall is 0.395, precision is 0.450\n"
     ]
    },
    {
     "name": "stderr",
     "output_type": "stream",
     "text": [
      "/anaconda3/lib/python3.6/site-packages/sklearn/preprocessing/label.py:151: DeprecationWarning: The truth value of an empty array is ambiguous. Returning False, but in future this will result in an error. Use `array.size > 0` to check that an array is not empty.\n",
      "  if diff:\n",
      "/anaconda3/lib/python3.6/site-packages/sklearn/preprocessing/label.py:151: DeprecationWarning: The truth value of an empty array is ambiguous. Returning False, but in future this will result in an error. Use `array.size > 0` to check that an array is not empty.\n",
      "  if diff:\n"
     ]
    },
    {
     "name": "stdout",
     "output_type": "stream",
     "text": [
      "Fold 2 highest F1: 0.450 at threshold p= 0.258. Recall is 0.448, precision is 0.451\n"
     ]
    },
    {
     "name": "stderr",
     "output_type": "stream",
     "text": [
      "/anaconda3/lib/python3.6/site-packages/sklearn/preprocessing/label.py:151: DeprecationWarning: The truth value of an empty array is ambiguous. Returning False, but in future this will result in an error. Use `array.size > 0` to check that an array is not empty.\n",
      "  if diff:\n",
      "/anaconda3/lib/python3.6/site-packages/sklearn/preprocessing/label.py:151: DeprecationWarning: The truth value of an empty array is ambiguous. Returning False, but in future this will result in an error. Use `array.size > 0` to check that an array is not empty.\n",
      "  if diff:\n"
     ]
    },
    {
     "name": "stdout",
     "output_type": "stream",
     "text": [
      "Fold 3 highest F1: 0.437 at threshold p= 0.196. Recall is 0.380, precision is 0.515\n"
     ]
    },
    {
     "name": "stderr",
     "output_type": "stream",
     "text": [
      "/anaconda3/lib/python3.6/site-packages/sklearn/preprocessing/label.py:151: DeprecationWarning: The truth value of an empty array is ambiguous. Returning False, but in future this will result in an error. Use `array.size > 0` to check that an array is not empty.\n",
      "  if diff:\n",
      "/anaconda3/lib/python3.6/site-packages/sklearn/preprocessing/label.py:151: DeprecationWarning: The truth value of an empty array is ambiguous. Returning False, but in future this will result in an error. Use `array.size > 0` to check that an array is not empty.\n",
      "  if diff:\n"
     ]
    },
    {
     "name": "stdout",
     "output_type": "stream",
     "text": [
      "Fold 4 highest F1: 0.419 at threshold p= 0.218. Recall is 0.380, precision is 0.466\n"
     ]
    },
    {
     "name": "stderr",
     "output_type": "stream",
     "text": [
      "/anaconda3/lib/python3.6/site-packages/sklearn/preprocessing/label.py:151: DeprecationWarning: The truth value of an empty array is ambiguous. Returning False, but in future this will result in an error. Use `array.size > 0` to check that an array is not empty.\n",
      "  if diff:\n",
      "/anaconda3/lib/python3.6/site-packages/sklearn/preprocessing/label.py:151: DeprecationWarning: The truth value of an empty array is ambiguous. Returning False, but in future this will result in an error. Use `array.size > 0` to check that an array is not empty.\n",
      "  if diff:\n"
     ]
    },
    {
     "name": "stdout",
     "output_type": "stream",
     "text": [
      "Fold 5 highest F1: 0.433 at threshold p= 0.217. Recall is 0.393, precision is 0.481\n",
      "mean recall: 0.174, std recall: 0.011\n",
      "mean precision: 0.616, std accuracy: 0.026\n",
      "mean highest_f1: 0.432, std highest_f1: 0.011\n",
      "mean F1: 0.271, std AUC: 0.016\n",
      "mean AUC: 0.828, std AUC: 0.007\n",
      "mean train F1: 0.293, std train F1: 0.005\n"
     ]
    },
    {
     "data": {
      "image/png": "[encoded data removed]",
      "text/plain": [
       "<matplotlib.figure.Figure at 0x1a63398320>"
      ]
     },
     "metadata": {},
     "output_type": "display_data"
    }
   ],
   "source": [
    "gbm_final,feature_names_final, f1 = cv_xgb(df=df_hod, \n",
    "                               cv=5, n_estimators=30000, max_depth=4, objective=\"binary:logistic\", \n",
    "       learning_rate=0.025, subsample=0.7, colsample_bytree=0.6, v=True)\n"
   ]
  },
  {
   "cell_type": "markdown",
   "metadata": {},
   "source": [
    "**Hyperparameter for the model:**\n",
    "- n_estimators = 30000, #arbitrary large number\n",
    "- max_depth = 4,\n",
    "- objective = \"binary:logistic\",\n",
    "- learning_rate = 0.03, \n",
    "- subsample = 0.5,\n",
    "- min_child_weight = 2,\n",
    "- colsample_bytree = 0.8\n",
    "\n",
    "**Prediction Threshold** p = 0.2138"
   ]
  },
  {
   "cell_type": "code",
   "execution_count": null,
   "metadata": {},
   "outputs": [],
   "source": []
  }
 ],
 "metadata": {
  "kernelspec": {
   "display_name": "Python 3",
   "language": "python",
   "name": "python3"
  },
  "language_info": {
   "codemirror_mode": {
    "name": "ipython",
    "version": 3
   },
   "file_extension": ".py",
   "mimetype": "text/x-python",
   "name": "python",
   "nbconvert_exporter": "python",
   "pygments_lexer": "ipython3",
   "version": "3.6.4"
  }
 },
 "nbformat": 4,
 "nbformat_minor": 2
}
