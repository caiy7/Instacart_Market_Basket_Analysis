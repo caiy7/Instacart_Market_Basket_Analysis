{
 "cells": [
  {
   "cell_type": "code",
   "execution_count": 1,
   "metadata": {},
   "outputs": [],
   "source": [
    "%matplotlib inline\n",
    "import pandas as pd\n",
    "import numpy as np\n",
    "import matplotlib.pyplot as plt\n",
    "import seaborn as sns\n",
    "import pickle\n",
    "from sklearn.metrics import accuracy_score, recall_score, precision_score, \\\n",
    "f1_score, roc_curve, auc, roc_auc_score, precision_recall_curve\n",
    "from sklearn.linear_model import LogisticRegression\n",
    "from collections import OrderedDict, Counter\n",
    "from sklearn.model_selection import KFold, train_test_split\n",
    "from sklearn.preprocessing import StandardScaler, PolynomialFeatures\n",
    "from sklearn.neighbors import KNeighborsClassifier\n",
    "from sklearn.naive_bayes import GaussianNB\n",
    "from sklearn.ensemble import RandomForestClassifier\n",
    "\n",
    "import xgboost as xgb\n",
    "\n",
    "sns.set(font_scale=1.2)\n"
   ]
  },
  {
   "cell_type": "markdown",
   "metadata": {},
   "source": [
    "Preparing for the test set"
   ]
  },
  {
   "cell_type": "code",
   "execution_count": 72,
   "metadata": {},
   "outputs": [],
   "source": [
    "with open('pkl/test_order.pkl', 'rb') as f:\n",
    "    test_recent_order = pickle.load(f)"
   ]
  },
  {
   "cell_type": "code",
   "execution_count": 3,
   "metadata": {},
   "outputs": [
    {
     "data": {
      "text/plain": [
       "(12232, 7)"
      ]
     },
     "execution_count": 3,
     "metadata": {},
     "output_type": "execute_result"
    }
   ],
   "source": [
    "test_recent_order.shape"
   ]
  },
  {
   "cell_type": "code",
   "execution_count": 2,
   "metadata": {},
   "outputs": [],
   "source": [
    "with open('processing/0806m.pkl', 'rb') as f:\n",
    "    _, _, prior_details = pickle.load(f)"
   ]
  },
  {
   "cell_type": "code",
   "execution_count": 12,
   "metadata": {},
   "outputs": [],
   "source": [
    "df_test = prior_summary[prior_summary.user_id.isin(test_recent_order.user_id)]"
   ]
  },
  {
   "cell_type": "code",
   "execution_count": 13,
   "metadata": {},
   "outputs": [
    {
     "data": {
      "text/plain": [
       "(789105, 3)"
      ]
     },
     "execution_count": 13,
     "metadata": {},
     "output_type": "execute_result"
    }
   ],
   "source": [
    "df_test.shape"
   ]
  },
  {
   "cell_type": "code",
   "execution_count": 8,
   "metadata": {},
   "outputs": [],
   "source": [
    "with open('pkl/test_train_recent_order.pkl', 'rb') as f:\n",
    "    _, recent_order_test = pickle.load(f)"
   ]
  },
  {
   "cell_type": "code",
   "execution_count": 14,
   "metadata": {},
   "outputs": [
    {
     "data": {
      "text/html": [
       "<div>\n",
       "<style scoped>\n",
       "    .dataframe tbody tr th:only-of-type {\n",
       "        vertical-align: middle;\n",
       "    }\n",
       "\n",
       "    .dataframe tbody tr th {\n",
       "        vertical-align: top;\n",
       "    }\n",
       "\n",
       "    .dataframe thead th {\n",
       "        text-align: right;\n",
       "    }\n",
       "</style>\n",
       "<table border=\"1\" class=\"dataframe\">\n",
       "  <thead>\n",
       "    <tr style=\"text-align: right;\">\n",
       "      <th></th>\n",
       "      <th>user_id</th>\n",
       "      <th>product_id</th>\n",
       "      <th>user_product_reordered_past</th>\n",
       "    </tr>\n",
       "  </thead>\n",
       "  <tbody>\n",
       "    <tr>\n",
       "      <th>205</th>\n",
       "      <td>7</td>\n",
       "      <td>274</td>\n",
       "      <td>0</td>\n",
       "    </tr>\n",
       "    <tr>\n",
       "      <th>206</th>\n",
       "      <td>7</td>\n",
       "      <td>519</td>\n",
       "      <td>1</td>\n",
       "    </tr>\n",
       "    <tr>\n",
       "      <th>207</th>\n",
       "      <td>7</td>\n",
       "      <td>4920</td>\n",
       "      <td>6</td>\n",
       "    </tr>\n",
       "    <tr>\n",
       "      <th>208</th>\n",
       "      <td>7</td>\n",
       "      <td>4945</td>\n",
       "      <td>2</td>\n",
       "    </tr>\n",
       "    <tr>\n",
       "      <th>209</th>\n",
       "      <td>7</td>\n",
       "      <td>6361</td>\n",
       "      <td>4</td>\n",
       "    </tr>\n",
       "  </tbody>\n",
       "</table>\n",
       "</div>"
      ],
      "text/plain": [
       "     user_id  product_id  user_product_reordered_past\n",
       "205        7         274                            0\n",
       "206        7         519                            1\n",
       "207        7        4920                            6\n",
       "208        7        4945                            2\n",
       "209        7        6361                            4"
      ]
     },
     "execution_count": 14,
     "metadata": {},
     "output_type": "execute_result"
    }
   ],
   "source": [
    "df_test.head()"
   ]
  },
  {
   "cell_type": "code",
   "execution_count": 15,
   "metadata": {},
   "outputs": [],
   "source": [
    "df_test = pd.merge(df_test, recent_order_test[['user_id', 'product_id', 'reordered']], on=['user_id', 'product_id'], how='left')"
   ]
  },
  {
   "cell_type": "code",
   "execution_count": 17,
   "metadata": {},
   "outputs": [
    {
     "data": {
      "text/html": [
       "<div>\n",
       "<style scoped>\n",
       "    .dataframe tbody tr th:only-of-type {\n",
       "        vertical-align: middle;\n",
       "    }\n",
       "\n",
       "    .dataframe tbody tr th {\n",
       "        vertical-align: top;\n",
       "    }\n",
       "\n",
       "    .dataframe thead th {\n",
       "        text-align: right;\n",
       "    }\n",
       "</style>\n",
       "<table border=\"1\" class=\"dataframe\">\n",
       "  <thead>\n",
       "    <tr style=\"text-align: right;\">\n",
       "      <th></th>\n",
       "      <th>user_id</th>\n",
       "      <th>product_id</th>\n",
       "      <th>user_product_reordered_past</th>\n",
       "      <th>reordered</th>\n",
       "    </tr>\n",
       "  </thead>\n",
       "  <tbody>\n",
       "    <tr>\n",
       "      <th>0</th>\n",
       "      <td>7</td>\n",
       "      <td>274</td>\n",
       "      <td>0</td>\n",
       "      <td>NaN</td>\n",
       "    </tr>\n",
       "    <tr>\n",
       "      <th>1</th>\n",
       "      <td>7</td>\n",
       "      <td>519</td>\n",
       "      <td>1</td>\n",
       "      <td>NaN</td>\n",
       "    </tr>\n",
       "    <tr>\n",
       "      <th>2</th>\n",
       "      <td>7</td>\n",
       "      <td>4920</td>\n",
       "      <td>6</td>\n",
       "      <td>NaN</td>\n",
       "    </tr>\n",
       "    <tr>\n",
       "      <th>3</th>\n",
       "      <td>7</td>\n",
       "      <td>4945</td>\n",
       "      <td>2</td>\n",
       "      <td>NaN</td>\n",
       "    </tr>\n",
       "    <tr>\n",
       "      <th>4</th>\n",
       "      <td>7</td>\n",
       "      <td>6361</td>\n",
       "      <td>4</td>\n",
       "      <td>NaN</td>\n",
       "    </tr>\n",
       "  </tbody>\n",
       "</table>\n",
       "</div>"
      ],
      "text/plain": [
       "   user_id  product_id  user_product_reordered_past  reordered\n",
       "0        7         274                            0        NaN\n",
       "1        7         519                            1        NaN\n",
       "2        7        4920                            6        NaN\n",
       "3        7        4945                            2        NaN\n",
       "4        7        6361                            4        NaN"
      ]
     },
     "execution_count": 17,
     "metadata": {},
     "output_type": "execute_result"
    }
   ],
   "source": [
    "df_test.head()"
   ]
  },
  {
   "cell_type": "code",
   "execution_count": 21,
   "metadata": {},
   "outputs": [],
   "source": [
    "df_test['reordered'].fillna(0,inplace=True)"
   ]
  },
  {
   "cell_type": "code",
   "execution_count": 22,
   "metadata": {},
   "outputs": [],
   "source": [
    "with open('processing/0806_5pm_df_test.pkl', 'wb') as f:\n",
    "    pickle.dump(df_test, f)"
   ]
  },
  {
   "cell_type": "code",
   "execution_count": 26,
   "metadata": {},
   "outputs": [],
   "source": [
    "with open('processing/0806_1pm_prior_details_feature.pkl', 'rb') as f:\n",
    "    prior_details_feature = pickle.load(f)"
   ]
  },
  {
   "cell_type": "code",
   "execution_count": 27,
   "metadata": {},
   "outputs": [
    {
     "data": {
      "text/html": [
       "<div>\n",
       "<style scoped>\n",
       "    .dataframe tbody tr th:only-of-type {\n",
       "        vertical-align: middle;\n",
       "    }\n",
       "\n",
       "    .dataframe tbody tr th {\n",
       "        vertical-align: top;\n",
       "    }\n",
       "\n",
       "    .dataframe thead th {\n",
       "        text-align: right;\n",
       "    }\n",
       "</style>\n",
       "<table border=\"1\" class=\"dataframe\">\n",
       "  <thead>\n",
       "    <tr style=\"text-align: right;\">\n",
       "      <th></th>\n",
       "      <th>order_id</th>\n",
       "      <th>product_id</th>\n",
       "      <th>add_to_cart_order</th>\n",
       "      <th>reordered</th>\n",
       "      <th>user_id</th>\n",
       "      <th>eval_set</th>\n",
       "      <th>order_number</th>\n",
       "      <th>order_dow</th>\n",
       "      <th>order_hour_of_day</th>\n",
       "      <th>days_since_prior_order</th>\n",
       "      <th>dow_binary</th>\n",
       "      <th>user_product_add_to_cart_order_scale</th>\n",
       "    </tr>\n",
       "  </thead>\n",
       "  <tbody>\n",
       "    <tr>\n",
       "      <th>0</th>\n",
       "      <td>2</td>\n",
       "      <td>33120</td>\n",
       "      <td>1</td>\n",
       "      <td>1</td>\n",
       "      <td>202279</td>\n",
       "      <td>prior</td>\n",
       "      <td>3</td>\n",
       "      <td>5</td>\n",
       "      <td>9</td>\n",
       "      <td>8.0</td>\n",
       "      <td>0</td>\n",
       "      <td>0.111111</td>\n",
       "    </tr>\n",
       "    <tr>\n",
       "      <th>1</th>\n",
       "      <td>2</td>\n",
       "      <td>28985</td>\n",
       "      <td>2</td>\n",
       "      <td>1</td>\n",
       "      <td>202279</td>\n",
       "      <td>prior</td>\n",
       "      <td>3</td>\n",
       "      <td>5</td>\n",
       "      <td>9</td>\n",
       "      <td>8.0</td>\n",
       "      <td>0</td>\n",
       "      <td>0.222222</td>\n",
       "    </tr>\n",
       "  </tbody>\n",
       "</table>\n",
       "</div>"
      ],
      "text/plain": [
       "   order_id  product_id  add_to_cart_order  reordered  user_id eval_set  \\\n",
       "0         2       33120                  1          1   202279    prior   \n",
       "1         2       28985                  2          1   202279    prior   \n",
       "\n",
       "   order_number  order_dow  order_hour_of_day  days_since_prior_order  \\\n",
       "0             3          5                  9                     8.0   \n",
       "1             3          5                  9                     8.0   \n",
       "\n",
       "   dow_binary  user_product_add_to_cart_order_scale  \n",
       "0           0                              0.111111  \n",
       "1           0                              0.222222  "
      ]
     },
     "execution_count": 27,
     "metadata": {},
     "output_type": "execute_result"
    }
   ],
   "source": [
    "prior_details_feature.head(2)"
   ]
  },
  {
   "cell_type": "code",
   "execution_count": 28,
   "metadata": {},
   "outputs": [],
   "source": [
    "user_feature_temp = (prior_details_feature.groupby(['user_id', 'order_id'], as_index=False)\n",
    "                .agg(OrderedDict([('product_id', 'count'), ('days_since_prior_order', 'first'), \n",
    "                                  ('dow_binary', 'first')])))"
   ]
  },
  {
   "cell_type": "code",
   "execution_count": 29,
   "metadata": {},
   "outputs": [],
   "source": [
    "user_feature_temp.rename(columns={'product_id': 'total_product'}, inplace=True)"
   ]
  },
  {
   "cell_type": "code",
   "execution_count": 30,
   "metadata": {},
   "outputs": [],
   "source": [
    "user_feature = (user_feature_temp.groupby(['user_id'], as_index=False)\n",
    "                .agg(OrderedDict([('order_id','count'), ('total_product', ['mean', 'sum']), ('days_since_prior_order', 'mean'), \n",
    "                                 ('dow_binary', 'mean')])))"
   ]
  },
  {
   "cell_type": "code",
   "execution_count": 31,
   "metadata": {},
   "outputs": [],
   "source": [
    "user_feature_colname = ['user_id', 'user_total_order', 'user_cart_size', 'user_total_product','user_ave_days_since_last_order', \n",
    "                        'user_likely_dow']\n",
    "user_feature.columns = user_feature_colname"
   ]
  },
  {
   "cell_type": "code",
   "execution_count": 32,
   "metadata": {},
   "outputs": [
    {
     "data": {
      "text/html": [
       "<div>\n",
       "<style scoped>\n",
       "    .dataframe tbody tr th:only-of-type {\n",
       "        vertical-align: middle;\n",
       "    }\n",
       "\n",
       "    .dataframe tbody tr th {\n",
       "        vertical-align: top;\n",
       "    }\n",
       "\n",
       "    .dataframe thead th {\n",
       "        text-align: right;\n",
       "    }\n",
       "</style>\n",
       "<table border=\"1\" class=\"dataframe\">\n",
       "  <thead>\n",
       "    <tr style=\"text-align: right;\">\n",
       "      <th></th>\n",
       "      <th>user_id</th>\n",
       "      <th>user_total_order</th>\n",
       "      <th>user_cart_size</th>\n",
       "      <th>user_total_product</th>\n",
       "      <th>user_ave_days_since_last_order</th>\n",
       "      <th>user_likely_dow</th>\n",
       "    </tr>\n",
       "  </thead>\n",
       "  <tbody>\n",
       "    <tr>\n",
       "      <th>0</th>\n",
       "      <td>1</td>\n",
       "      <td>10</td>\n",
       "      <td>5.900000</td>\n",
       "      <td>59</td>\n",
       "      <td>19.555556</td>\n",
       "      <td>0.300000</td>\n",
       "    </tr>\n",
       "    <tr>\n",
       "      <th>1</th>\n",
       "      <td>2</td>\n",
       "      <td>14</td>\n",
       "      <td>13.928571</td>\n",
       "      <td>195</td>\n",
       "      <td>15.230769</td>\n",
       "      <td>0.357143</td>\n",
       "    </tr>\n",
       "    <tr>\n",
       "      <th>2</th>\n",
       "      <td>3</td>\n",
       "      <td>12</td>\n",
       "      <td>7.333333</td>\n",
       "      <td>88</td>\n",
       "      <td>12.090909</td>\n",
       "      <td>0.666667</td>\n",
       "    </tr>\n",
       "    <tr>\n",
       "      <th>3</th>\n",
       "      <td>4</td>\n",
       "      <td>5</td>\n",
       "      <td>3.600000</td>\n",
       "      <td>18</td>\n",
       "      <td>13.750000</td>\n",
       "      <td>0.000000</td>\n",
       "    </tr>\n",
       "    <tr>\n",
       "      <th>4</th>\n",
       "      <td>5</td>\n",
       "      <td>4</td>\n",
       "      <td>9.250000</td>\n",
       "      <td>37</td>\n",
       "      <td>13.333333</td>\n",
       "      <td>0.500000</td>\n",
       "    </tr>\n",
       "  </tbody>\n",
       "</table>\n",
       "</div>"
      ],
      "text/plain": [
       "   user_id  user_total_order  user_cart_size  user_total_product  \\\n",
       "0        1                10        5.900000                  59   \n",
       "1        2                14       13.928571                 195   \n",
       "2        3                12        7.333333                  88   \n",
       "3        4                 5        3.600000                  18   \n",
       "4        5                 4        9.250000                  37   \n",
       "\n",
       "   user_ave_days_since_last_order  user_likely_dow  \n",
       "0                       19.555556         0.300000  \n",
       "1                       15.230769         0.357143  \n",
       "2                       12.090909         0.666667  \n",
       "3                       13.750000         0.000000  \n",
       "4                       13.333333         0.500000  "
      ]
     },
     "execution_count": 32,
     "metadata": {},
     "output_type": "execute_result"
    }
   ],
   "source": [
    "user_feature.head()"
   ]
  },
  {
   "cell_type": "code",
   "execution_count": 33,
   "metadata": {},
   "outputs": [],
   "source": [
    "user_uniq_product = prior_details.groupby('user_id')['product_id'].nunique()\n",
    "user_feature = pd.merge(user_feature, user_uniq_product.to_frame(), left_on ='user_id', \n",
    "                        right_index=True, how='left')\n",
    "user_feature.rename(columns={'product_id': 'user_total_uniq_product'}, inplace=True)"
   ]
  },
  {
   "cell_type": "code",
   "execution_count": 34,
   "metadata": {},
   "outputs": [],
   "source": [
    "del user_uniq_product"
   ]
  },
  {
   "cell_type": "code",
   "execution_count": 35,
   "metadata": {},
   "outputs": [],
   "source": [
    "user_feature['user_uniq_prod_over_total_prod'] = \\\n",
    "user_feature['user_total_uniq_product']/user_feature['user_total_product']"
   ]
  },
  {
   "cell_type": "code",
   "execution_count": 36,
   "metadata": {},
   "outputs": [],
   "source": [
    "with open('processing/0806_5pm_user_feature.pkl', 'wb') as f:\n",
    "    pickle.dump(user_feature, f)"
   ]
  },
  {
   "cell_type": "code",
   "execution_count": 37,
   "metadata": {},
   "outputs": [
    {
     "data": {
      "text/html": [
       "<div>\n",
       "<style scoped>\n",
       "    .dataframe tbody tr th:only-of-type {\n",
       "        vertical-align: middle;\n",
       "    }\n",
       "\n",
       "    .dataframe tbody tr th {\n",
       "        vertical-align: top;\n",
       "    }\n",
       "\n",
       "    .dataframe thead th {\n",
       "        text-align: right;\n",
       "    }\n",
       "</style>\n",
       "<table border=\"1\" class=\"dataframe\">\n",
       "  <thead>\n",
       "    <tr style=\"text-align: right;\">\n",
       "      <th></th>\n",
       "      <th>user_id</th>\n",
       "      <th>user_total_order</th>\n",
       "      <th>user_cart_size</th>\n",
       "      <th>user_total_product</th>\n",
       "      <th>user_ave_days_since_last_order</th>\n",
       "      <th>user_likely_dow</th>\n",
       "      <th>user_total_uniq_product</th>\n",
       "      <th>user_uniq_prod_over_total_prod</th>\n",
       "    </tr>\n",
       "  </thead>\n",
       "  <tbody>\n",
       "    <tr>\n",
       "      <th>0</th>\n",
       "      <td>1</td>\n",
       "      <td>10</td>\n",
       "      <td>5.900000</td>\n",
       "      <td>59</td>\n",
       "      <td>19.555556</td>\n",
       "      <td>0.300000</td>\n",
       "      <td>18</td>\n",
       "      <td>0.305085</td>\n",
       "    </tr>\n",
       "    <tr>\n",
       "      <th>1</th>\n",
       "      <td>2</td>\n",
       "      <td>14</td>\n",
       "      <td>13.928571</td>\n",
       "      <td>195</td>\n",
       "      <td>15.230769</td>\n",
       "      <td>0.357143</td>\n",
       "      <td>102</td>\n",
       "      <td>0.523077</td>\n",
       "    </tr>\n",
       "    <tr>\n",
       "      <th>2</th>\n",
       "      <td>3</td>\n",
       "      <td>12</td>\n",
       "      <td>7.333333</td>\n",
       "      <td>88</td>\n",
       "      <td>12.090909</td>\n",
       "      <td>0.666667</td>\n",
       "      <td>33</td>\n",
       "      <td>0.375000</td>\n",
       "    </tr>\n",
       "  </tbody>\n",
       "</table>\n",
       "</div>"
      ],
      "text/plain": [
       "   user_id  user_total_order  user_cart_size  user_total_product  \\\n",
       "0        1                10        5.900000                  59   \n",
       "1        2                14       13.928571                 195   \n",
       "2        3                12        7.333333                  88   \n",
       "\n",
       "   user_ave_days_since_last_order  user_likely_dow  user_total_uniq_product  \\\n",
       "0                       19.555556         0.300000                       18   \n",
       "1                       15.230769         0.357143                      102   \n",
       "2                       12.090909         0.666667                       33   \n",
       "\n",
       "   user_uniq_prod_over_total_prod  \n",
       "0                        0.305085  \n",
       "1                        0.523077  \n",
       "2                        0.375000  "
      ]
     },
     "execution_count": 37,
     "metadata": {},
     "output_type": "execute_result"
    }
   ],
   "source": [
    "user_feature.head(3)"
   ]
  },
  {
   "cell_type": "code",
   "execution_count": 39,
   "metadata": {},
   "outputs": [],
   "source": [
    "df_user_test = pd.merge(df_test, user_feature, on='user_id', how='left')"
   ]
  },
  {
   "cell_type": "code",
   "execution_count": 40,
   "metadata": {},
   "outputs": [
    {
     "data": {
      "text/plain": [
       "(789105, 11)"
      ]
     },
     "execution_count": 40,
     "metadata": {},
     "output_type": "execute_result"
    }
   ],
   "source": [
    "df_user_test.shape"
   ]
  },
  {
   "cell_type": "code",
   "execution_count": 41,
   "metadata": {},
   "outputs": [],
   "source": [
    "with open('processing/0806_5pm_df_user_test.pkl', 'wb') as f:\n",
    "    pickle.dump(df_user_test, f)"
   ]
  },
  {
   "cell_type": "code",
   "execution_count": 42,
   "metadata": {},
   "outputs": [],
   "source": [
    "del df_test"
   ]
  },
  {
   "cell_type": "markdown",
   "metadata": {},
   "source": [
    "Adding product features"
   ]
  },
  {
   "cell_type": "code",
   "execution_count": 3,
   "metadata": {},
   "outputs": [
    {
     "data": {
      "text/html": [
       "<div>\n",
       "<style scoped>\n",
       "    .dataframe tbody tr th:only-of-type {\n",
       "        vertical-align: middle;\n",
       "    }\n",
       "\n",
       "    .dataframe tbody tr th {\n",
       "        vertical-align: top;\n",
       "    }\n",
       "\n",
       "    .dataframe thead th {\n",
       "        text-align: right;\n",
       "    }\n",
       "</style>\n",
       "<table border=\"1\" class=\"dataframe\">\n",
       "  <thead>\n",
       "    <tr style=\"text-align: right;\">\n",
       "      <th></th>\n",
       "      <th>product_id</th>\n",
       "      <th>product_total_orders</th>\n",
       "      <th>product_avg_add_to_cart_order</th>\n",
       "    </tr>\n",
       "  </thead>\n",
       "  <tbody>\n",
       "    <tr>\n",
       "      <th>0</th>\n",
       "      <td>1</td>\n",
       "      <td>1852</td>\n",
       "      <td>5.801836</td>\n",
       "    </tr>\n",
       "    <tr>\n",
       "      <th>1</th>\n",
       "      <td>2</td>\n",
       "      <td>90</td>\n",
       "      <td>9.888889</td>\n",
       "    </tr>\n",
       "    <tr>\n",
       "      <th>2</th>\n",
       "      <td>3</td>\n",
       "      <td>277</td>\n",
       "      <td>6.415162</td>\n",
       "    </tr>\n",
       "    <tr>\n",
       "      <th>3</th>\n",
       "      <td>4</td>\n",
       "      <td>329</td>\n",
       "      <td>9.507599</td>\n",
       "    </tr>\n",
       "    <tr>\n",
       "      <th>4</th>\n",
       "      <td>5</td>\n",
       "      <td>15</td>\n",
       "      <td>6.466667</td>\n",
       "    </tr>\n",
       "  </tbody>\n",
       "</table>\n",
       "</div>"
      ],
      "text/plain": [
       "   product_id  product_total_orders  product_avg_add_to_cart_order\n",
       "0           1                  1852                       5.801836\n",
       "1           2                    90                       9.888889\n",
       "2           3                   277                       6.415162\n",
       "3           4                   329                       9.507599\n",
       "4           5                    15                       6.466667"
      ]
     },
     "execution_count": 3,
     "metadata": {},
     "output_type": "execute_result"
    }
   ],
   "source": [
    "prod_feature = ['product_total_orders', 'product_avg_add_to_cart_order']\n",
    "prod_features_df = prior_details.groupby('product_id', as_index=False).agg(OrderedDict([('order_id','count'), \n",
    "                                                                     ('add_to_cart_order', 'mean')]))\n",
    "prod_features_df.columns = ['product_id'] + prod_feature\n",
    "prod_features_df.head()"
   ]
  },
  {
   "cell_type": "code",
   "execution_count": 11,
   "metadata": {},
   "outputs": [],
   "source": [
    "# with open('processing/0806_5pm_prod_feature_df', 'wb') as f:\n",
    "#     pickle.dump(prod_features_df, f)"
   ]
  },
  {
   "cell_type": "code",
   "execution_count": 7,
   "metadata": {},
   "outputs": [],
   "source": [
    "# with open('processing/0806_5pm_df_user_test.pkl', 'rb') as f:\n",
    "#     df_user_test= pickle.load(f)"
   ]
  },
  {
   "cell_type": "code",
   "execution_count": 8,
   "metadata": {},
   "outputs": [
    {
     "data": {
      "text/plain": [
       "(789105, 11)"
      ]
     },
     "execution_count": 8,
     "metadata": {},
     "output_type": "execute_result"
    }
   ],
   "source": [
    "df_user_test.shape"
   ]
  },
  {
   "cell_type": "code",
   "execution_count": 9,
   "metadata": {},
   "outputs": [],
   "source": [
    "df_prod_test = pd.merge(df_user_test, prod_features_df, on='product_id', how='left')"
   ]
  },
  {
   "cell_type": "code",
   "execution_count": 10,
   "metadata": {},
   "outputs": [
    {
     "data": {
      "text/plain": [
       "(789105, 13)"
      ]
     },
     "execution_count": 10,
     "metadata": {},
     "output_type": "execute_result"
    }
   ],
   "source": [
    "df_prod_test.shape"
   ]
  },
  {
   "cell_type": "code",
   "execution_count": 13,
   "metadata": {},
   "outputs": [
    {
     "data": {
      "text/html": [
       "<div>\n",
       "<style scoped>\n",
       "    .dataframe tbody tr th:only-of-type {\n",
       "        vertical-align: middle;\n",
       "    }\n",
       "\n",
       "    .dataframe tbody tr th {\n",
       "        vertical-align: top;\n",
       "    }\n",
       "\n",
       "    .dataframe thead th {\n",
       "        text-align: right;\n",
       "    }\n",
       "</style>\n",
       "<table border=\"1\" class=\"dataframe\">\n",
       "  <thead>\n",
       "    <tr style=\"text-align: right;\">\n",
       "      <th></th>\n",
       "      <th>user_id</th>\n",
       "      <th>product_id</th>\n",
       "      <th>user_product_reordered_past</th>\n",
       "      <th>reordered</th>\n",
       "      <th>user_total_order</th>\n",
       "      <th>user_cart_size</th>\n",
       "      <th>user_total_product</th>\n",
       "      <th>user_ave_days_since_last_order</th>\n",
       "      <th>user_likely_dow</th>\n",
       "      <th>user_total_uniq_product</th>\n",
       "      <th>user_uniq_prod_over_total_prod</th>\n",
       "      <th>product_total_orders</th>\n",
       "      <th>product_avg_add_to_cart_order</th>\n",
       "    </tr>\n",
       "  </thead>\n",
       "  <tbody>\n",
       "    <tr>\n",
       "      <th>0</th>\n",
       "      <td>7</td>\n",
       "      <td>274</td>\n",
       "      <td>0</td>\n",
       "      <td>0.0</td>\n",
       "      <td>20</td>\n",
       "      <td>10.3</td>\n",
       "      <td>206</td>\n",
       "      <td>10.684211</td>\n",
       "      <td>0.55</td>\n",
       "      <td>68</td>\n",
       "      <td>0.330097</td>\n",
       "      <td>2205</td>\n",
       "      <td>10.711111</td>\n",
       "    </tr>\n",
       "    <tr>\n",
       "      <th>1</th>\n",
       "      <td>7</td>\n",
       "      <td>519</td>\n",
       "      <td>1</td>\n",
       "      <td>0.0</td>\n",
       "      <td>20</td>\n",
       "      <td>10.3</td>\n",
       "      <td>206</td>\n",
       "      <td>10.684211</td>\n",
       "      <td>0.55</td>\n",
       "      <td>68</td>\n",
       "      <td>0.330097</td>\n",
       "      <td>953</td>\n",
       "      <td>7.521511</td>\n",
       "    </tr>\n",
       "  </tbody>\n",
       "</table>\n",
       "</div>"
      ],
      "text/plain": [
       "   user_id  product_id  user_product_reordered_past  reordered  \\\n",
       "0        7         274                            0        0.0   \n",
       "1        7         519                            1        0.0   \n",
       "\n",
       "   user_total_order  user_cart_size  user_total_product  \\\n",
       "0                20            10.3                 206   \n",
       "1                20            10.3                 206   \n",
       "\n",
       "   user_ave_days_since_last_order  user_likely_dow  user_total_uniq_product  \\\n",
       "0                       10.684211             0.55                       68   \n",
       "1                       10.684211             0.55                       68   \n",
       "\n",
       "   user_uniq_prod_over_total_prod  product_total_orders  \\\n",
       "0                        0.330097                  2205   \n",
       "1                        0.330097                   953   \n",
       "\n",
       "   product_avg_add_to_cart_order  \n",
       "0                      10.711111  \n",
       "1                       7.521511  "
      ]
     },
     "execution_count": 13,
     "metadata": {},
     "output_type": "execute_result"
    }
   ],
   "source": [
    "df_prod_test.head(2)"
   ]
  },
  {
   "cell_type": "code",
   "execution_count": 14,
   "metadata": {},
   "outputs": [],
   "source": [
    "prod_reordered=df_prod_test.groupby('product_id', as_index=False)['user_product_reordered_past'].sum()\n",
    "df_prod_temp=pd.merge(df_prod_test, prod_reordered, on='product_id', how='left')\n",
    "df_prod_temp.rename(columns={'user_product_reordered_past_x':'user_product_reordered_past', \n",
    "                             'user_product_reordered_past_y':'product_past_reordered_count'}, inplace=True)"
   ]
  },
  {
   "cell_type": "code",
   "execution_count": 15,
   "metadata": {},
   "outputs": [],
   "source": [
    "df_prod_temp['product_percent_reordered_past'] = (df_prod_temp['product_past_reordered_count']/  #no 0 total product(chedked) \n",
    "                                                  df_prod_temp['product_total_orders']*100)"
   ]
  },
  {
   "cell_type": "code",
   "execution_count": 16,
   "metadata": {},
   "outputs": [],
   "source": [
    "df_prod_test=df_prod_temp.copy()\n",
    "del df_prod_temp"
   ]
  },
  {
   "cell_type": "code",
   "execution_count": 18,
   "metadata": {},
   "outputs": [],
   "source": [
    "# with open('processing/0806_5pm_df_prod_test.pkl', 'wb') as f:\n",
    "#     pickle.dump(df_prod_test, f)\n"
   ]
  },
  {
   "cell_type": "code",
   "execution_count": 19,
   "metadata": {},
   "outputs": [
    {
     "data": {
      "text/plain": [
       "(789105, 15)"
      ]
     },
     "execution_count": 19,
     "metadata": {},
     "output_type": "execute_result"
    }
   ],
   "source": [
    "df_prod_test.shape"
   ]
  },
  {
   "cell_type": "markdown",
   "metadata": {},
   "source": [
    "### Add user-product feature.\n",
    "**1. ave_add_to_cart_order**   \n",
    "**2. user_product_ordered_last_n_order - how many orders ago is the last time the user ordered that product**   \n",
    "**3. user_product_ave_days_since_prior_order**  \n",
    "**4. ave_days_between_product_order (product_order_interval)**  \n",
    "**5. user_product_ave_add_to_cart_order_scale(average of add to cart over scaled within each user)**   \n",
    "**6. user_product_ave_add_to_cart_order (not scaled)**  \n",
    "**7. user_product_percent_order_containing_product** \n",
    "**8. user_product_days_since_last_product_order**\n",
    "**9. on average how many days between the user ordered the product - user_product_ave_day_per_product_order**  \n",
    "**11. user_product_ave_day_between_product_order_versus_current_day_since_prior - ratio between average days the user purchase a product vs days since last order**  \n",
    "**12. user_product_ordered_same_day - has the user order the same product that day.**   \n",
    "**13. ave_add_to_cart_order_scale_x_reorder_count (for logistic regression)**  \n",
    " "
   ]
  },
  {
   "cell_type": "code",
   "execution_count": 20,
   "metadata": {},
   "outputs": [],
   "source": [
    "with open('processing/0806_1pm_user_product_feature_bk.pkl', 'rb') as f:\n",
    "    user_product_feature = pickle.load(f)"
   ]
  },
  {
   "cell_type": "code",
   "execution_count": 21,
   "metadata": {},
   "outputs": [],
   "source": [
    "user_product_feature_bk = user_product_feature"
   ]
  },
  {
   "cell_type": "code",
   "execution_count": 22,
   "metadata": {},
   "outputs": [
    {
     "data": {
      "text/html": [
       "<div>\n",
       "<style scoped>\n",
       "    .dataframe tbody tr th:only-of-type {\n",
       "        vertical-align: middle;\n",
       "    }\n",
       "\n",
       "    .dataframe tbody tr th {\n",
       "        vertical-align: top;\n",
       "    }\n",
       "\n",
       "    .dataframe thead th {\n",
       "        text-align: right;\n",
       "    }\n",
       "</style>\n",
       "<table border=\"1\" class=\"dataframe\">\n",
       "  <thead>\n",
       "    <tr style=\"text-align: right;\">\n",
       "      <th></th>\n",
       "      <th>user_id</th>\n",
       "      <th>product_id</th>\n",
       "      <th>user_product_ave_add_to_cart_order</th>\n",
       "      <th>user_product_ave_add_to_cart_order_scale</th>\n",
       "      <th>user_product_ave_days_since_prior_order</th>\n",
       "      <th>user_product_most_recent_order</th>\n",
       "    </tr>\n",
       "  </thead>\n",
       "  <tbody>\n",
       "    <tr>\n",
       "      <th>0</th>\n",
       "      <td>1</td>\n",
       "      <td>196</td>\n",
       "      <td>1.400000</td>\n",
       "      <td>0.245278</td>\n",
       "      <td>19.555556</td>\n",
       "      <td>10</td>\n",
       "    </tr>\n",
       "    <tr>\n",
       "      <th>1</th>\n",
       "      <td>1</td>\n",
       "      <td>10258</td>\n",
       "      <td>3.333333</td>\n",
       "      <td>0.562037</td>\n",
       "      <td>19.555556</td>\n",
       "      <td>10</td>\n",
       "    </tr>\n",
       "    <tr>\n",
       "      <th>2</th>\n",
       "      <td>1</td>\n",
       "      <td>10326</td>\n",
       "      <td>5.000000</td>\n",
       "      <td>0.625000</td>\n",
       "      <td>28.000000</td>\n",
       "      <td>5</td>\n",
       "    </tr>\n",
       "    <tr>\n",
       "      <th>3</th>\n",
       "      <td>1</td>\n",
       "      <td>12427</td>\n",
       "      <td>3.300000</td>\n",
       "      <td>0.541667</td>\n",
       "      <td>19.555556</td>\n",
       "      <td>10</td>\n",
       "    </tr>\n",
       "    <tr>\n",
       "      <th>4</th>\n",
       "      <td>1</td>\n",
       "      <td>13032</td>\n",
       "      <td>6.333333</td>\n",
       "      <td>0.962963</td>\n",
       "      <td>21.666667</td>\n",
       "      <td>10</td>\n",
       "    </tr>\n",
       "  </tbody>\n",
       "</table>\n",
       "</div>"
      ],
      "text/plain": [
       "   user_id  product_id  user_product_ave_add_to_cart_order  \\\n",
       "0        1         196                            1.400000   \n",
       "1        1       10258                            3.333333   \n",
       "2        1       10326                            5.000000   \n",
       "3        1       12427                            3.300000   \n",
       "4        1       13032                            6.333333   \n",
       "\n",
       "   user_product_ave_add_to_cart_order_scale  \\\n",
       "0                                  0.245278   \n",
       "1                                  0.562037   \n",
       "2                                  0.625000   \n",
       "3                                  0.541667   \n",
       "4                                  0.962963   \n",
       "\n",
       "   user_product_ave_days_since_prior_order  user_product_most_recent_order  \n",
       "0                                19.555556                              10  \n",
       "1                                19.555556                              10  \n",
       "2                                28.000000                               5  \n",
       "3                                19.555556                              10  \n",
       "4                                21.666667                              10  "
      ]
     },
     "execution_count": 22,
     "metadata": {},
     "output_type": "execute_result"
    }
   ],
   "source": [
    "user_product_feature.head()"
   ]
  },
  {
   "cell_type": "code",
   "execution_count": 38,
   "metadata": {},
   "outputs": [],
   "source": [
    "upf = pd.merge(user_product_feature, user_feature[['user_id', 'user_total_order']], \n",
    "               on='user_id', how='left')\n",
    "upf['user_product_ordered_last_n_order'] = (upf['user_total_order']\n",
    "                                            -upf['user_product_most_recent_order'])\n",
    "upf.drop(columns='user_total_order', inplace=True)"
   ]
  },
  {
   "cell_type": "code",
   "execution_count": 45,
   "metadata": {},
   "outputs": [
    {
     "data": {
      "text/plain": [
       "((13307953, 7), (13307953, 6))"
      ]
     },
     "execution_count": 45,
     "metadata": {},
     "output_type": "execute_result"
    }
   ],
   "source": [
    "upf.shape, user_product_feature.shape"
   ]
  },
  {
   "cell_type": "code",
   "execution_count": 46,
   "metadata": {},
   "outputs": [
    {
     "data": {
      "text/html": [
       "<div>\n",
       "<style scoped>\n",
       "    .dataframe tbody tr th:only-of-type {\n",
       "        vertical-align: middle;\n",
       "    }\n",
       "\n",
       "    .dataframe tbody tr th {\n",
       "        vertical-align: top;\n",
       "    }\n",
       "\n",
       "    .dataframe thead th {\n",
       "        text-align: right;\n",
       "    }\n",
       "</style>\n",
       "<table border=\"1\" class=\"dataframe\">\n",
       "  <thead>\n",
       "    <tr style=\"text-align: right;\">\n",
       "      <th></th>\n",
       "      <th>user_id</th>\n",
       "      <th>product_id</th>\n",
       "      <th>user_product_ave_add_to_cart_order</th>\n",
       "      <th>user_product_ave_add_to_cart_order_scale</th>\n",
       "      <th>user_product_ave_days_since_prior_order</th>\n",
       "      <th>user_product_most_recent_order</th>\n",
       "      <th>user_product_ordered_last_n_order</th>\n",
       "    </tr>\n",
       "  </thead>\n",
       "  <tbody>\n",
       "    <tr>\n",
       "      <th>0</th>\n",
       "      <td>1</td>\n",
       "      <td>196</td>\n",
       "      <td>1.400000</td>\n",
       "      <td>0.245278</td>\n",
       "      <td>19.555556</td>\n",
       "      <td>10</td>\n",
       "      <td>0</td>\n",
       "    </tr>\n",
       "    <tr>\n",
       "      <th>1</th>\n",
       "      <td>1</td>\n",
       "      <td>10258</td>\n",
       "      <td>3.333333</td>\n",
       "      <td>0.562037</td>\n",
       "      <td>19.555556</td>\n",
       "      <td>10</td>\n",
       "      <td>0</td>\n",
       "    </tr>\n",
       "    <tr>\n",
       "      <th>2</th>\n",
       "      <td>1</td>\n",
       "      <td>10326</td>\n",
       "      <td>5.000000</td>\n",
       "      <td>0.625000</td>\n",
       "      <td>28.000000</td>\n",
       "      <td>5</td>\n",
       "      <td>5</td>\n",
       "    </tr>\n",
       "  </tbody>\n",
       "</table>\n",
       "</div>"
      ],
      "text/plain": [
       "   user_id  product_id  user_product_ave_add_to_cart_order  \\\n",
       "0        1         196                            1.400000   \n",
       "1        1       10258                            3.333333   \n",
       "2        1       10326                            5.000000   \n",
       "\n",
       "   user_product_ave_add_to_cart_order_scale  \\\n",
       "0                                  0.245278   \n",
       "1                                  0.562037   \n",
       "2                                  0.625000   \n",
       "\n",
       "   user_product_ave_days_since_prior_order  user_product_most_recent_order  \\\n",
       "0                                19.555556                              10   \n",
       "1                                19.555556                              10   \n",
       "2                                28.000000                               5   \n",
       "\n",
       "   user_product_ordered_last_n_order  \n",
       "0                                  0  \n",
       "1                                  0  \n",
       "2                                  5  "
      ]
     },
     "execution_count": 46,
     "metadata": {},
     "output_type": "execute_result"
    }
   ],
   "source": [
    "upf.head(3)"
   ]
  },
  {
   "cell_type": "code",
   "execution_count": 47,
   "metadata": {},
   "outputs": [],
   "source": [
    "# with open('processing/0806_5pm_upf.pkl', 'wb') as f:\n",
    "#     pickle.dump(upf, f)"
   ]
  },
  {
   "cell_type": "markdown",
   "metadata": {},
   "source": [
    "Calculate days since last time the user ordered the product."
   ]
  },
  {
   "cell_type": "code",
   "execution_count": 49,
   "metadata": {},
   "outputs": [],
   "source": [
    "#prior_order\n",
    "df_temp=(prior_details.groupby(['user_id', 'order_number'], as_index=False)\n",
    ".agg(OrderedDict([('order_id', 'first'),('days_since_prior_order', 'first')]))\n",
    ".sort_values(['user_id', 'order_number'], ascending=[True, False]))\n",
    "df_temp['cumulative_days_since_nth_order'] = (df_temp.groupby('user_id', as_index=False)['days_since_prior_order']\n",
    "                                              .cumsum())"
   ]
  },
  {
   "cell_type": "code",
   "execution_count": 50,
   "metadata": {},
   "outputs": [],
   "source": [
    "a = df_temp['cumulative_days_since_nth_order'].fillna(method='ffill').copy()\n",
    "a[df_temp['cumulative_days_since_nth_order'].isnull()] +=7"
   ]
  },
  {
   "cell_type": "code",
   "execution_count": 51,
   "metadata": {},
   "outputs": [],
   "source": [
    "df_temp['cumulative_days_since_nth_order']=a.copy()"
   ]
  },
  {
   "cell_type": "code",
   "execution_count": 52,
   "metadata": {},
   "outputs": [],
   "source": [
    "user_product_feature = pd.merge(upf, df_temp.drop(columns=['order_id', 'days_since_prior_order']), \n",
    "                    left_on=['user_id', 'user_product_most_recent_order'], right_on = ['user_id', 'order_number'],\n",
    "                    how='left')\n",
    "user_product_feature.drop(columns=['user_product_most_recent_order','order_number'],inplace=True)"
   ]
  },
  {
   "cell_type": "code",
   "execution_count": 53,
   "metadata": {},
   "outputs": [],
   "source": [
    "user_product_feature.rename(columns={'cumulative_days_since_nth_order'\n",
    "                                     :'user_product_days_since_last_product_order'}, inplace=True)"
   ]
  },
  {
   "cell_type": "code",
   "execution_count": 54,
   "metadata": {},
   "outputs": [],
   "source": [
    "user_product_feature['user_product_ave_days_since_prior_order'].fillna(user_product_feature['user_product_days_since_last_product_order'], inplace=True)"
   ]
  },
  {
   "cell_type": "code",
   "execution_count": 55,
   "metadata": {},
   "outputs": [
    {
     "data": {
      "text/html": [
       "<div>\n",
       "<style scoped>\n",
       "    .dataframe tbody tr th:only-of-type {\n",
       "        vertical-align: middle;\n",
       "    }\n",
       "\n",
       "    .dataframe tbody tr th {\n",
       "        vertical-align: top;\n",
       "    }\n",
       "\n",
       "    .dataframe thead th {\n",
       "        text-align: right;\n",
       "    }\n",
       "</style>\n",
       "<table border=\"1\" class=\"dataframe\">\n",
       "  <thead>\n",
       "    <tr style=\"text-align: right;\">\n",
       "      <th></th>\n",
       "      <th>user_id</th>\n",
       "      <th>product_id</th>\n",
       "      <th>user_product_ave_add_to_cart_order</th>\n",
       "      <th>user_product_ave_add_to_cart_order_scale</th>\n",
       "      <th>user_product_ave_days_since_prior_order</th>\n",
       "      <th>user_product_ordered_last_n_order</th>\n",
       "      <th>user_product_days_since_last_product_order</th>\n",
       "    </tr>\n",
       "  </thead>\n",
       "  <tbody>\n",
       "    <tr>\n",
       "      <th>0</th>\n",
       "      <td>1</td>\n",
       "      <td>196</td>\n",
       "      <td>1.400000</td>\n",
       "      <td>0.245278</td>\n",
       "      <td>19.555556</td>\n",
       "      <td>0</td>\n",
       "      <td>30.0</td>\n",
       "    </tr>\n",
       "    <tr>\n",
       "      <th>1</th>\n",
       "      <td>1</td>\n",
       "      <td>10258</td>\n",
       "      <td>3.333333</td>\n",
       "      <td>0.562037</td>\n",
       "      <td>19.555556</td>\n",
       "      <td>0</td>\n",
       "      <td>30.0</td>\n",
       "    </tr>\n",
       "  </tbody>\n",
       "</table>\n",
       "</div>"
      ],
      "text/plain": [
       "   user_id  product_id  user_product_ave_add_to_cart_order  \\\n",
       "0        1         196                            1.400000   \n",
       "1        1       10258                            3.333333   \n",
       "\n",
       "   user_product_ave_add_to_cart_order_scale  \\\n",
       "0                                  0.245278   \n",
       "1                                  0.562037   \n",
       "\n",
       "   user_product_ave_days_since_prior_order  user_product_ordered_last_n_order  \\\n",
       "0                                19.555556                                  0   \n",
       "1                                19.555556                                  0   \n",
       "\n",
       "   user_product_days_since_last_product_order  \n",
       "0                                        30.0  \n",
       "1                                        30.0  "
      ]
     },
     "execution_count": 55,
     "metadata": {},
     "output_type": "execute_result"
    }
   ],
   "source": [
    "user_product_feature.head(2)"
   ]
  },
  {
   "cell_type": "code",
   "execution_count": 56,
   "metadata": {},
   "outputs": [],
   "source": [
    "# with open('processing/0806_5pm_user_product_feature_final.pkl', 'wb') as f:\n",
    "#     pickle.dump(user_product_feature, f)"
   ]
  },
  {
   "cell_type": "markdown",
   "metadata": {},
   "source": [
    "Add feature 'user_product_percent_order_containing_product' "
   ]
  },
  {
   "cell_type": "code",
   "execution_count": 57,
   "metadata": {},
   "outputs": [],
   "source": [
    "df_up_test = pd.merge(df_prod_test, user_product_feature, on=['user_id', 'product_id'], how='left')\n",
    "df_up_test['user_product_percent_order_containing_product'] = ((df_up_test['user_product_reordered_past'] + 1)\n",
    "                                                        / df_up_test['user_total_order'])"
   ]
  },
  {
   "cell_type": "code",
   "execution_count": 58,
   "metadata": {},
   "outputs": [],
   "source": [
    "# with open('processing/0806_1pm_df_up_test.pkl', 'wb') as f:\n",
    "#     pickle.dump(df_up_test, f)"
   ]
  },
  {
   "cell_type": "markdown",
   "metadata": {},
   "source": [
    "Add on average how many days between the user ordered the product"
   ]
  },
  {
   "cell_type": "code",
   "execution_count": 59,
   "metadata": {},
   "outputs": [],
   "source": [
    "days_since_first_order = (prior_details.groupby(['user_id','order_id'], as_index=False)\n",
    "                          .agg(OrderedDict([('days_since_prior_order', 'first')]))\n",
    " .groupby('user_id', as_index=False)['days_since_prior_order'].sum())"
   ]
  },
  {
   "cell_type": "code",
   "execution_count": 60,
   "metadata": {},
   "outputs": [],
   "source": [
    "days_since_first_order.rename(columns={'days_since_prior_order':'days_since_first_order'}, inplace=True)"
   ]
  },
  {
   "cell_type": "code",
   "execution_count": 61,
   "metadata": {},
   "outputs": [
    {
     "data": {
      "text/html": [
       "<div>\n",
       "<style scoped>\n",
       "    .dataframe tbody tr th:only-of-type {\n",
       "        vertical-align: middle;\n",
       "    }\n",
       "\n",
       "    .dataframe tbody tr th {\n",
       "        vertical-align: top;\n",
       "    }\n",
       "\n",
       "    .dataframe thead th {\n",
       "        text-align: right;\n",
       "    }\n",
       "</style>\n",
       "<table border=\"1\" class=\"dataframe\">\n",
       "  <thead>\n",
       "    <tr style=\"text-align: right;\">\n",
       "      <th></th>\n",
       "      <th>user_id</th>\n",
       "      <th>days_since_first_order</th>\n",
       "    </tr>\n",
       "  </thead>\n",
       "  <tbody>\n",
       "    <tr>\n",
       "      <th>0</th>\n",
       "      <td>1</td>\n",
       "      <td>176.0</td>\n",
       "    </tr>\n",
       "    <tr>\n",
       "      <th>1</th>\n",
       "      <td>2</td>\n",
       "      <td>198.0</td>\n",
       "    </tr>\n",
       "  </tbody>\n",
       "</table>\n",
       "</div>"
      ],
      "text/plain": [
       "   user_id  days_since_first_order\n",
       "0        1                   176.0\n",
       "1        2                   198.0"
      ]
     },
     "execution_count": 61,
     "metadata": {},
     "output_type": "execute_result"
    }
   ],
   "source": [
    "days_since_first_order.head(2)"
   ]
  },
  {
   "cell_type": "code",
   "execution_count": 62,
   "metadata": {},
   "outputs": [],
   "source": [
    "df_up1_test = pd.merge(df_up_test, days_since_first_order, on='user_id', how='left')\n",
    "df_up1_test['user_product_ave_day_per_product_order'] = (df_up1_test['days_since_first_order']/\n",
    "                                                         (df_up1_test['user_product_reordered_past']+1))"
   ]
  },
  {
   "cell_type": "code",
   "execution_count": 64,
   "metadata": {},
   "outputs": [],
   "source": [
    "df_up1_test.drop(columns='days_since_first_order', inplace=True)"
   ]
  },
  {
   "cell_type": "code",
   "execution_count": 66,
   "metadata": {},
   "outputs": [],
   "source": [
    "with open('processing/0806_5pm_df_up1_test.pkl', 'wb') as f:\n",
    "    pickle.dump(df_up1_test, f)"
   ]
  },
  {
   "cell_type": "code",
   "execution_count": 68,
   "metadata": {},
   "outputs": [
    {
     "data": {
      "text/plain": [
       "(789105, 22)"
      ]
     },
     "execution_count": 68,
     "metadata": {},
     "output_type": "execute_result"
    }
   ],
   "source": [
    "df_up1_test.shape"
   ]
  },
  {
   "cell_type": "code",
   "execution_count": 70,
   "metadata": {},
   "outputs": [
    {
     "data": {
      "text/html": [
       "<div>\n",
       "<style scoped>\n",
       "    .dataframe tbody tr th:only-of-type {\n",
       "        vertical-align: middle;\n",
       "    }\n",
       "\n",
       "    .dataframe tbody tr th {\n",
       "        vertical-align: top;\n",
       "    }\n",
       "\n",
       "    .dataframe thead th {\n",
       "        text-align: right;\n",
       "    }\n",
       "</style>\n",
       "<table border=\"1\" class=\"dataframe\">\n",
       "  <thead>\n",
       "    <tr style=\"text-align: right;\">\n",
       "      <th></th>\n",
       "      <th>user_id</th>\n",
       "      <th>product_id</th>\n",
       "      <th>user_product_reordered_past</th>\n",
       "      <th>reordered</th>\n",
       "      <th>user_total_order</th>\n",
       "      <th>user_cart_size</th>\n",
       "      <th>user_total_product</th>\n",
       "      <th>user_ave_days_since_last_order</th>\n",
       "      <th>user_likely_dow</th>\n",
       "      <th>user_total_uniq_product</th>\n",
       "      <th>...</th>\n",
       "      <th>product_avg_add_to_cart_order</th>\n",
       "      <th>product_past_reordered_count</th>\n",
       "      <th>product_percent_reordered_past</th>\n",
       "      <th>user_product_ave_add_to_cart_order</th>\n",
       "      <th>user_product_ave_add_to_cart_order_scale</th>\n",
       "      <th>user_product_ave_days_since_prior_order</th>\n",
       "      <th>user_product_ordered_last_n_order</th>\n",
       "      <th>user_product_days_since_last_product_order</th>\n",
       "      <th>user_product_percent_order_containing_product</th>\n",
       "      <th>user_product_ave_day_per_product_order</th>\n",
       "    </tr>\n",
       "  </thead>\n",
       "  <tbody>\n",
       "    <tr>\n",
       "      <th>0</th>\n",
       "      <td>7</td>\n",
       "      <td>274</td>\n",
       "      <td>0</td>\n",
       "      <td>0.0</td>\n",
       "      <td>20</td>\n",
       "      <td>10.3</td>\n",
       "      <td>206</td>\n",
       "      <td>10.684211</td>\n",
       "      <td>0.55</td>\n",
       "      <td>68</td>\n",
       "      <td>...</td>\n",
       "      <td>10.711111</td>\n",
       "      <td>34</td>\n",
       "      <td>1.541950</td>\n",
       "      <td>16.0</td>\n",
       "      <td>0.761905</td>\n",
       "      <td>30.0</td>\n",
       "      <td>18</td>\n",
       "      <td>203.0</td>\n",
       "      <td>0.05</td>\n",
       "      <td>203.0</td>\n",
       "    </tr>\n",
       "    <tr>\n",
       "      <th>1</th>\n",
       "      <td>7</td>\n",
       "      <td>519</td>\n",
       "      <td>1</td>\n",
       "      <td>0.0</td>\n",
       "      <td>20</td>\n",
       "      <td>10.3</td>\n",
       "      <td>206</td>\n",
       "      <td>10.684211</td>\n",
       "      <td>0.55</td>\n",
       "      <td>68</td>\n",
       "      <td>...</td>\n",
       "      <td>7.521511</td>\n",
       "      <td>17</td>\n",
       "      <td>1.783841</td>\n",
       "      <td>10.5</td>\n",
       "      <td>0.583333</td>\n",
       "      <td>30.0</td>\n",
       "      <td>17</td>\n",
       "      <td>173.0</td>\n",
       "      <td>0.10</td>\n",
       "      <td>101.5</td>\n",
       "    </tr>\n",
       "  </tbody>\n",
       "</table>\n",
       "<p>2 rows × 22 columns</p>\n",
       "</div>"
      ],
      "text/plain": [
       "   user_id  product_id  user_product_reordered_past  reordered  \\\n",
       "0        7         274                            0        0.0   \n",
       "1        7         519                            1        0.0   \n",
       "\n",
       "   user_total_order  user_cart_size  user_total_product  \\\n",
       "0                20            10.3                 206   \n",
       "1                20            10.3                 206   \n",
       "\n",
       "   user_ave_days_since_last_order  user_likely_dow  user_total_uniq_product  \\\n",
       "0                       10.684211             0.55                       68   \n",
       "1                       10.684211             0.55                       68   \n",
       "\n",
       "                    ...                    product_avg_add_to_cart_order  \\\n",
       "0                   ...                                        10.711111   \n",
       "1                   ...                                         7.521511   \n",
       "\n",
       "   product_past_reordered_count  product_percent_reordered_past  \\\n",
       "0                            34                        1.541950   \n",
       "1                            17                        1.783841   \n",
       "\n",
       "   user_product_ave_add_to_cart_order  \\\n",
       "0                                16.0   \n",
       "1                                10.5   \n",
       "\n",
       "   user_product_ave_add_to_cart_order_scale  \\\n",
       "0                                  0.761905   \n",
       "1                                  0.583333   \n",
       "\n",
       "   user_product_ave_days_since_prior_order  user_product_ordered_last_n_order  \\\n",
       "0                                     30.0                                 18   \n",
       "1                                     30.0                                 17   \n",
       "\n",
       "   user_product_days_since_last_product_order  \\\n",
       "0                                       203.0   \n",
       "1                                       173.0   \n",
       "\n",
       "   user_product_percent_order_containing_product  \\\n",
       "0                                           0.05   \n",
       "1                                           0.10   \n",
       "\n",
       "   user_product_ave_day_per_product_order  \n",
       "0                                   203.0  \n",
       "1                                   101.5  \n",
       "\n",
       "[2 rows x 22 columns]"
      ]
     },
     "execution_count": 70,
     "metadata": {},
     "output_type": "execute_result"
    }
   ],
   "source": [
    "df_up1_test.head(2)"
   ]
  },
  {
   "cell_type": "code",
   "execution_count": 73,
   "metadata": {},
   "outputs": [],
   "source": [
    "df_up2_test = pd.merge(df_up1_test, test_recent_order[['user_id', 'order_dow', 'order_hour_of_day', 'days_since_prior_order']],\n",
    "                  on = ['user_id'], how='left')"
   ]
  },
  {
   "cell_type": "code",
   "execution_count": 74,
   "metadata": {},
   "outputs": [
    {
     "data": {
      "text/plain": [
       "(789105, 25)"
      ]
     },
     "execution_count": 74,
     "metadata": {},
     "output_type": "execute_result"
    }
   ],
   "source": [
    "df_up2_test.shape"
   ]
  },
  {
   "cell_type": "code",
   "execution_count": 77,
   "metadata": {},
   "outputs": [],
   "source": [
    "df_up2_test.rename(columns={'days_since_prior_order':'current_days_since_prior_order'},inplace=True)"
   ]
  },
  {
   "cell_type": "code",
   "execution_count": 80,
   "metadata": {},
   "outputs": [],
   "source": [
    "def get_ratio(row):\n",
    "    a = row['user_product_ave_day_per_product_order']\n",
    "    b = row['current_days_since_prior_order']\n",
    "    if a == 0:\n",
    "        a+=0.5\n",
    "    if b == 0:\n",
    "        b+=0.5\n",
    "    return a/b        "
   ]
  },
  {
   "cell_type": "code",
   "execution_count": 81,
   "metadata": {},
   "outputs": [],
   "source": [
    "df_up2_test['user_product_ave_day_between_product_order_versus_current_day_since_prior']=\\\n",
    "df_up2_test.apply(get_ratio, axis=1)"
   ]
  },
  {
   "cell_type": "code",
   "execution_count": 82,
   "metadata": {},
   "outputs": [],
   "source": [
    "# with open('processing/df_up2_test.pkl', 'wb') as f:\n",
    "#     pickle.dump(df_up2_test, f)"
   ]
  },
  {
   "cell_type": "markdown",
   "metadata": {},
   "source": [
    "Add feature - if the user order the item the same day."
   ]
  },
  {
   "cell_type": "code",
   "execution_count": 84,
   "metadata": {},
   "outputs": [],
   "source": [
    "df_up3_test = pd.merge(df_up2_test, user_product_feature_bk[['user_id', 'product_id', 'user_product_most_recent_order']],\n",
    "                 on=['user_id', 'product_id'], how='left')"
   ]
  },
  {
   "cell_type": "code",
   "execution_count": 85,
   "metadata": {},
   "outputs": [],
   "source": [
    "def order_same_day(row):\n",
    "    if row['current_days_since_prior_order'] == 0 and \\\n",
    "    row['user_total_order'] == row['user_product_most_recent_order']:\n",
    "        return 1\n",
    "    else:\n",
    "        return 0"
   ]
  },
  {
   "cell_type": "code",
   "execution_count": 88,
   "metadata": {},
   "outputs": [],
   "source": [
    "df_up3_test['user_product_ordered_same_day']=df_up3_test.apply(order_same_day, axis=1)"
   ]
  },
  {
   "cell_type": "code",
   "execution_count": 89,
   "metadata": {},
   "outputs": [
    {
     "data": {
      "text/plain": [
       "(789105, 28)"
      ]
     },
     "execution_count": 89,
     "metadata": {},
     "output_type": "execute_result"
    }
   ],
   "source": [
    "df_up3_test.shape"
   ]
  },
  {
   "cell_type": "code",
   "execution_count": 90,
   "metadata": {},
   "outputs": [],
   "source": [
    "df_up3_test.drop(columns='user_product_most_recent_order', inplace=True)"
   ]
  },
  {
   "cell_type": "code",
   "execution_count": 91,
   "metadata": {},
   "outputs": [],
   "source": [
    "with open('processing/0806_5pm_df_up3_test.pkl', 'wb') as f:\n",
    "    pickle.dump(df_up3_test, f)"
   ]
  },
  {
   "cell_type": "markdown",
   "metadata": {},
   "source": [
    "Bin dummy variable the same way binned in training set"
   ]
  },
  {
   "cell_type": "code",
   "execution_count": 92,
   "metadata": {},
   "outputs": [],
   "source": [
    "with open('processing/0806_1pm_maps,pkl', 'rb') as f:\n",
    "    dept_map, aisle_map = pickle.load(f)"
   ]
  },
  {
   "cell_type": "code",
   "execution_count": 94,
   "metadata": {},
   "outputs": [],
   "source": [
    "product_df=pd.read_csv('data/products.csv')\n",
    "df_dept_test=pd.merge(df_up3_test, product_df, on='product_id', how='left')"
   ]
  },
  {
   "cell_type": "code",
   "execution_count": 98,
   "metadata": {},
   "outputs": [],
   "source": [
    "df_dept_test.drop(columns='product_name', inplace=True)\n",
    "df_dept_test['product_dept_bin'] = df_dept_test['department_id'].map(dept_map)\n",
    "df_dept_test.drop(columns='department_id', inplace=True)"
   ]
  },
  {
   "cell_type": "code",
   "execution_count": 100,
   "metadata": {},
   "outputs": [
    {
     "data": {
      "text/html": [
       "<div>\n",
       "<style scoped>\n",
       "    .dataframe tbody tr th:only-of-type {\n",
       "        vertical-align: middle;\n",
       "    }\n",
       "\n",
       "    .dataframe tbody tr th {\n",
       "        vertical-align: top;\n",
       "    }\n",
       "\n",
       "    .dataframe thead th {\n",
       "        text-align: right;\n",
       "    }\n",
       "</style>\n",
       "<table border=\"1\" class=\"dataframe\">\n",
       "  <thead>\n",
       "    <tr style=\"text-align: right;\">\n",
       "      <th></th>\n",
       "      <th>user_id</th>\n",
       "      <th>product_id</th>\n",
       "      <th>user_product_reordered_past</th>\n",
       "      <th>reordered</th>\n",
       "      <th>user_total_order</th>\n",
       "      <th>user_cart_size</th>\n",
       "      <th>user_total_product</th>\n",
       "      <th>user_ave_days_since_last_order</th>\n",
       "      <th>user_likely_dow</th>\n",
       "      <th>user_total_uniq_product</th>\n",
       "      <th>...</th>\n",
       "      <th>user_product_days_since_last_product_order</th>\n",
       "      <th>user_product_percent_order_containing_product</th>\n",
       "      <th>user_product_ave_day_per_product_order</th>\n",
       "      <th>order_dow</th>\n",
       "      <th>order_hour_of_day</th>\n",
       "      <th>current_days_since_prior_order</th>\n",
       "      <th>user_product_ave_day_between_product_order_versus_current_day_since_prior</th>\n",
       "      <th>user_product_ordered_same_day</th>\n",
       "      <th>aisle_id</th>\n",
       "      <th>product_dept_bin</th>\n",
       "    </tr>\n",
       "  </thead>\n",
       "  <tbody>\n",
       "    <tr>\n",
       "      <th>0</th>\n",
       "      <td>7</td>\n",
       "      <td>274</td>\n",
       "      <td>0</td>\n",
       "      <td>0.0</td>\n",
       "      <td>20</td>\n",
       "      <td>10.3</td>\n",
       "      <td>206</td>\n",
       "      <td>10.684211</td>\n",
       "      <td>0.55</td>\n",
       "      <td>68</td>\n",
       "      <td>...</td>\n",
       "      <td>203.0</td>\n",
       "      <td>0.05</td>\n",
       "      <td>203.000000</td>\n",
       "      <td>2</td>\n",
       "      <td>11</td>\n",
       "      <td>6.0</td>\n",
       "      <td>33.833333</td>\n",
       "      <td>0</td>\n",
       "      <td>87</td>\n",
       "      <td>-2</td>\n",
       "    </tr>\n",
       "    <tr>\n",
       "      <th>1</th>\n",
       "      <td>7</td>\n",
       "      <td>519</td>\n",
       "      <td>1</td>\n",
       "      <td>0.0</td>\n",
       "      <td>20</td>\n",
       "      <td>10.3</td>\n",
       "      <td>206</td>\n",
       "      <td>10.684211</td>\n",
       "      <td>0.55</td>\n",
       "      <td>68</td>\n",
       "      <td>...</td>\n",
       "      <td>173.0</td>\n",
       "      <td>0.10</td>\n",
       "      <td>101.500000</td>\n",
       "      <td>2</td>\n",
       "      <td>11</td>\n",
       "      <td>6.0</td>\n",
       "      <td>16.916667</td>\n",
       "      <td>0</td>\n",
       "      <td>31</td>\n",
       "      <td>2</td>\n",
       "    </tr>\n",
       "    <tr>\n",
       "      <th>2</th>\n",
       "      <td>7</td>\n",
       "      <td>4920</td>\n",
       "      <td>6</td>\n",
       "      <td>0.0</td>\n",
       "      <td>20</td>\n",
       "      <td>10.3</td>\n",
       "      <td>206</td>\n",
       "      <td>10.684211</td>\n",
       "      <td>0.55</td>\n",
       "      <td>68</td>\n",
       "      <td>...</td>\n",
       "      <td>45.0</td>\n",
       "      <td>0.35</td>\n",
       "      <td>29.000000</td>\n",
       "      <td>2</td>\n",
       "      <td>11</td>\n",
       "      <td>6.0</td>\n",
       "      <td>4.833333</td>\n",
       "      <td>0</td>\n",
       "      <td>123</td>\n",
       "      <td>2</td>\n",
       "    </tr>\n",
       "    <tr>\n",
       "      <th>3</th>\n",
       "      <td>7</td>\n",
       "      <td>4945</td>\n",
       "      <td>2</td>\n",
       "      <td>0.0</td>\n",
       "      <td>20</td>\n",
       "      <td>10.3</td>\n",
       "      <td>206</td>\n",
       "      <td>10.684211</td>\n",
       "      <td>0.55</td>\n",
       "      <td>68</td>\n",
       "      <td>...</td>\n",
       "      <td>17.0</td>\n",
       "      <td>0.15</td>\n",
       "      <td>67.666667</td>\n",
       "      <td>2</td>\n",
       "      <td>11</td>\n",
       "      <td>6.0</td>\n",
       "      <td>11.277778</td>\n",
       "      <td>0</td>\n",
       "      <td>123</td>\n",
       "      <td>2</td>\n",
       "    </tr>\n",
       "    <tr>\n",
       "      <th>4</th>\n",
       "      <td>7</td>\n",
       "      <td>6361</td>\n",
       "      <td>4</td>\n",
       "      <td>0.0</td>\n",
       "      <td>20</td>\n",
       "      <td>10.3</td>\n",
       "      <td>206</td>\n",
       "      <td>10.684211</td>\n",
       "      <td>0.55</td>\n",
       "      <td>68</td>\n",
       "      <td>...</td>\n",
       "      <td>134.0</td>\n",
       "      <td>0.25</td>\n",
       "      <td>40.600000</td>\n",
       "      <td>2</td>\n",
       "      <td>11</td>\n",
       "      <td>6.0</td>\n",
       "      <td>6.766667</td>\n",
       "      <td>0</td>\n",
       "      <td>112</td>\n",
       "      <td>1</td>\n",
       "    </tr>\n",
       "  </tbody>\n",
       "</table>\n",
       "<p>5 rows × 29 columns</p>\n",
       "</div>"
      ],
      "text/plain": [
       "   user_id  product_id  user_product_reordered_past  reordered  \\\n",
       "0        7         274                            0        0.0   \n",
       "1        7         519                            1        0.0   \n",
       "2        7        4920                            6        0.0   \n",
       "3        7        4945                            2        0.0   \n",
       "4        7        6361                            4        0.0   \n",
       "\n",
       "   user_total_order  user_cart_size  user_total_product  \\\n",
       "0                20            10.3                 206   \n",
       "1                20            10.3                 206   \n",
       "2                20            10.3                 206   \n",
       "3                20            10.3                 206   \n",
       "4                20            10.3                 206   \n",
       "\n",
       "   user_ave_days_since_last_order  user_likely_dow  user_total_uniq_product  \\\n",
       "0                       10.684211             0.55                       68   \n",
       "1                       10.684211             0.55                       68   \n",
       "2                       10.684211             0.55                       68   \n",
       "3                       10.684211             0.55                       68   \n",
       "4                       10.684211             0.55                       68   \n",
       "\n",
       "         ...         user_product_days_since_last_product_order  \\\n",
       "0        ...                                              203.0   \n",
       "1        ...                                              173.0   \n",
       "2        ...                                               45.0   \n",
       "3        ...                                               17.0   \n",
       "4        ...                                              134.0   \n",
       "\n",
       "   user_product_percent_order_containing_product  \\\n",
       "0                                           0.05   \n",
       "1                                           0.10   \n",
       "2                                           0.35   \n",
       "3                                           0.15   \n",
       "4                                           0.25   \n",
       "\n",
       "   user_product_ave_day_per_product_order  order_dow  order_hour_of_day  \\\n",
       "0                              203.000000          2                 11   \n",
       "1                              101.500000          2                 11   \n",
       "2                               29.000000          2                 11   \n",
       "3                               67.666667          2                 11   \n",
       "4                               40.600000          2                 11   \n",
       "\n",
       "   current_days_since_prior_order  \\\n",
       "0                             6.0   \n",
       "1                             6.0   \n",
       "2                             6.0   \n",
       "3                             6.0   \n",
       "4                             6.0   \n",
       "\n",
       "   user_product_ave_day_between_product_order_versus_current_day_since_prior  \\\n",
       "0                                          33.833333                           \n",
       "1                                          16.916667                           \n",
       "2                                           4.833333                           \n",
       "3                                          11.277778                           \n",
       "4                                           6.766667                           \n",
       "\n",
       "   user_product_ordered_same_day  aisle_id  product_dept_bin  \n",
       "0                              0        87                -2  \n",
       "1                              0        31                 2  \n",
       "2                              0       123                 2  \n",
       "3                              0       123                 2  \n",
       "4                              0       112                 1  \n",
       "\n",
       "[5 rows x 29 columns]"
      ]
     },
     "execution_count": 100,
     "metadata": {},
     "output_type": "execute_result"
    }
   ],
   "source": [
    "df_dept_test.head()"
   ]
  },
  {
   "cell_type": "code",
   "execution_count": 101,
   "metadata": {},
   "outputs": [],
   "source": [
    "df_aisle_test=df_dept_test.copy()\n",
    "df_aisle_test['product_aisle_bin'] = df_aisle_test['aisle_id'].map(aisle_map)\n",
    "df_aisle_test.drop(columns='aisle_id', inplace=True)"
   ]
  },
  {
   "cell_type": "code",
   "execution_count": 103,
   "metadata": {},
   "outputs": [
    {
     "data": {
      "text/html": [
       "<div>\n",
       "<style scoped>\n",
       "    .dataframe tbody tr th:only-of-type {\n",
       "        vertical-align: middle;\n",
       "    }\n",
       "\n",
       "    .dataframe tbody tr th {\n",
       "        vertical-align: top;\n",
       "    }\n",
       "\n",
       "    .dataframe thead th {\n",
       "        text-align: right;\n",
       "    }\n",
       "</style>\n",
       "<table border=\"1\" class=\"dataframe\">\n",
       "  <thead>\n",
       "    <tr style=\"text-align: right;\">\n",
       "      <th></th>\n",
       "      <th>user_id</th>\n",
       "      <th>product_id</th>\n",
       "      <th>user_product_reordered_past</th>\n",
       "      <th>reordered</th>\n",
       "      <th>user_total_order</th>\n",
       "      <th>user_cart_size</th>\n",
       "      <th>user_total_product</th>\n",
       "      <th>user_ave_days_since_last_order</th>\n",
       "      <th>user_likely_dow</th>\n",
       "      <th>user_total_uniq_product</th>\n",
       "      <th>...</th>\n",
       "      <th>user_product_days_since_last_product_order</th>\n",
       "      <th>user_product_percent_order_containing_product</th>\n",
       "      <th>user_product_ave_day_per_product_order</th>\n",
       "      <th>order_dow</th>\n",
       "      <th>order_hour_of_day</th>\n",
       "      <th>current_days_since_prior_order</th>\n",
       "      <th>user_product_ave_day_between_product_order_versus_current_day_since_prior</th>\n",
       "      <th>user_product_ordered_same_day</th>\n",
       "      <th>product_dept_bin</th>\n",
       "      <th>product_aisle_bin</th>\n",
       "    </tr>\n",
       "  </thead>\n",
       "  <tbody>\n",
       "    <tr>\n",
       "      <th>0</th>\n",
       "      <td>7</td>\n",
       "      <td>274</td>\n",
       "      <td>0</td>\n",
       "      <td>0.0</td>\n",
       "      <td>20</td>\n",
       "      <td>10.3</td>\n",
       "      <td>206</td>\n",
       "      <td>10.684211</td>\n",
       "      <td>0.55</td>\n",
       "      <td>68</td>\n",
       "      <td>...</td>\n",
       "      <td>203.0</td>\n",
       "      <td>0.05</td>\n",
       "      <td>203.000000</td>\n",
       "      <td>2</td>\n",
       "      <td>11</td>\n",
       "      <td>6.0</td>\n",
       "      <td>33.833333</td>\n",
       "      <td>0</td>\n",
       "      <td>-2</td>\n",
       "      <td>-1</td>\n",
       "    </tr>\n",
       "    <tr>\n",
       "      <th>1</th>\n",
       "      <td>7</td>\n",
       "      <td>519</td>\n",
       "      <td>1</td>\n",
       "      <td>0.0</td>\n",
       "      <td>20</td>\n",
       "      <td>10.3</td>\n",
       "      <td>206</td>\n",
       "      <td>10.684211</td>\n",
       "      <td>0.55</td>\n",
       "      <td>68</td>\n",
       "      <td>...</td>\n",
       "      <td>173.0</td>\n",
       "      <td>0.10</td>\n",
       "      <td>101.500000</td>\n",
       "      <td>2</td>\n",
       "      <td>11</td>\n",
       "      <td>6.0</td>\n",
       "      <td>16.916667</td>\n",
       "      <td>0</td>\n",
       "      <td>2</td>\n",
       "      <td>2</td>\n",
       "    </tr>\n",
       "    <tr>\n",
       "      <th>2</th>\n",
       "      <td>7</td>\n",
       "      <td>4920</td>\n",
       "      <td>6</td>\n",
       "      <td>0.0</td>\n",
       "      <td>20</td>\n",
       "      <td>10.3</td>\n",
       "      <td>206</td>\n",
       "      <td>10.684211</td>\n",
       "      <td>0.55</td>\n",
       "      <td>68</td>\n",
       "      <td>...</td>\n",
       "      <td>45.0</td>\n",
       "      <td>0.35</td>\n",
       "      <td>29.000000</td>\n",
       "      <td>2</td>\n",
       "      <td>11</td>\n",
       "      <td>6.0</td>\n",
       "      <td>4.833333</td>\n",
       "      <td>0</td>\n",
       "      <td>2</td>\n",
       "      <td>2</td>\n",
       "    </tr>\n",
       "    <tr>\n",
       "      <th>3</th>\n",
       "      <td>7</td>\n",
       "      <td>4945</td>\n",
       "      <td>2</td>\n",
       "      <td>0.0</td>\n",
       "      <td>20</td>\n",
       "      <td>10.3</td>\n",
       "      <td>206</td>\n",
       "      <td>10.684211</td>\n",
       "      <td>0.55</td>\n",
       "      <td>68</td>\n",
       "      <td>...</td>\n",
       "      <td>17.0</td>\n",
       "      <td>0.15</td>\n",
       "      <td>67.666667</td>\n",
       "      <td>2</td>\n",
       "      <td>11</td>\n",
       "      <td>6.0</td>\n",
       "      <td>11.277778</td>\n",
       "      <td>0</td>\n",
       "      <td>2</td>\n",
       "      <td>2</td>\n",
       "    </tr>\n",
       "    <tr>\n",
       "      <th>4</th>\n",
       "      <td>7</td>\n",
       "      <td>6361</td>\n",
       "      <td>4</td>\n",
       "      <td>0.0</td>\n",
       "      <td>20</td>\n",
       "      <td>10.3</td>\n",
       "      <td>206</td>\n",
       "      <td>10.684211</td>\n",
       "      <td>0.55</td>\n",
       "      <td>68</td>\n",
       "      <td>...</td>\n",
       "      <td>134.0</td>\n",
       "      <td>0.25</td>\n",
       "      <td>40.600000</td>\n",
       "      <td>2</td>\n",
       "      <td>11</td>\n",
       "      <td>6.0</td>\n",
       "      <td>6.766667</td>\n",
       "      <td>0</td>\n",
       "      <td>1</td>\n",
       "      <td>2</td>\n",
       "    </tr>\n",
       "  </tbody>\n",
       "</table>\n",
       "<p>5 rows × 29 columns</p>\n",
       "</div>"
      ],
      "text/plain": [
       "   user_id  product_id  user_product_reordered_past  reordered  \\\n",
       "0        7         274                            0        0.0   \n",
       "1        7         519                            1        0.0   \n",
       "2        7        4920                            6        0.0   \n",
       "3        7        4945                            2        0.0   \n",
       "4        7        6361                            4        0.0   \n",
       "\n",
       "   user_total_order  user_cart_size  user_total_product  \\\n",
       "0                20            10.3                 206   \n",
       "1                20            10.3                 206   \n",
       "2                20            10.3                 206   \n",
       "3                20            10.3                 206   \n",
       "4                20            10.3                 206   \n",
       "\n",
       "   user_ave_days_since_last_order  user_likely_dow  user_total_uniq_product  \\\n",
       "0                       10.684211             0.55                       68   \n",
       "1                       10.684211             0.55                       68   \n",
       "2                       10.684211             0.55                       68   \n",
       "3                       10.684211             0.55                       68   \n",
       "4                       10.684211             0.55                       68   \n",
       "\n",
       "         ...          user_product_days_since_last_product_order  \\\n",
       "0        ...                                               203.0   \n",
       "1        ...                                               173.0   \n",
       "2        ...                                                45.0   \n",
       "3        ...                                                17.0   \n",
       "4        ...                                               134.0   \n",
       "\n",
       "   user_product_percent_order_containing_product  \\\n",
       "0                                           0.05   \n",
       "1                                           0.10   \n",
       "2                                           0.35   \n",
       "3                                           0.15   \n",
       "4                                           0.25   \n",
       "\n",
       "   user_product_ave_day_per_product_order  order_dow  order_hour_of_day  \\\n",
       "0                              203.000000          2                 11   \n",
       "1                              101.500000          2                 11   \n",
       "2                               29.000000          2                 11   \n",
       "3                               67.666667          2                 11   \n",
       "4                               40.600000          2                 11   \n",
       "\n",
       "   current_days_since_prior_order  \\\n",
       "0                             6.0   \n",
       "1                             6.0   \n",
       "2                             6.0   \n",
       "3                             6.0   \n",
       "4                             6.0   \n",
       "\n",
       "   user_product_ave_day_between_product_order_versus_current_day_since_prior  \\\n",
       "0                                          33.833333                           \n",
       "1                                          16.916667                           \n",
       "2                                           4.833333                           \n",
       "3                                          11.277778                           \n",
       "4                                           6.766667                           \n",
       "\n",
       "   user_product_ordered_same_day  product_dept_bin  product_aisle_bin  \n",
       "0                              0                -2                 -1  \n",
       "1                              0                 2                  2  \n",
       "2                              0                 2                  2  \n",
       "3                              0                 2                  2  \n",
       "4                              0                 1                  2  \n",
       "\n",
       "[5 rows x 29 columns]"
      ]
     },
     "execution_count": 103,
     "metadata": {},
     "output_type": "execute_result"
    }
   ],
   "source": [
    "df_aisle_test.head()"
   ]
  },
  {
   "cell_type": "code",
   "execution_count": 104,
   "metadata": {},
   "outputs": [],
   "source": [
    "with open('processing/0806_5pm_dept_aisle_test_df.pkl', 'wb') as f:\n",
    "    pickle.dump((df_dept_test, df_aisle_test), f)"
   ]
  },
  {
   "cell_type": "code",
   "execution_count": 105,
   "metadata": {},
   "outputs": [],
   "source": [
    "df_hod_test= df_aisle_test.copy()"
   ]
  },
  {
   "cell_type": "code",
   "execution_count": 106,
   "metadata": {},
   "outputs": [],
   "source": [
    "with open('processing/0806_5pm_product_hod_map.pkl', 'rb') as f:\n",
    "    prod_hod_map = pickle.load(f)"
   ]
  },
  {
   "cell_type": "code",
   "execution_count": 108,
   "metadata": {},
   "outputs": [],
   "source": [
    "df_hod_test['current_order_hod'] = (df_hod_test['order_hour_of_day']\n",
    "                               .map(prod_hod_map))"
   ]
  },
  {
   "cell_type": "code",
   "execution_count": 109,
   "metadata": {},
   "outputs": [],
   "source": [
    "df_hod_test.drop(columns='order_hour_of_day', inplace=True)"
   ]
  },
  {
   "cell_type": "code",
   "execution_count": 110,
   "metadata": {},
   "outputs": [],
   "source": [
    "with open('processing/0806_1pm_df_hod_test.pkl', 'wb') as f:\n",
    "    pickle.dump(df_hod_test, f)"
   ]
  },
  {
   "cell_type": "markdown",
   "metadata": {},
   "source": [
    "Test data set df_hod_test"
   ]
  },
  {
   "cell_type": "code",
   "execution_count": null,
   "metadata": {},
   "outputs": [],
   "source": []
  },
  {
   "cell_type": "code",
   "execution_count": null,
   "metadata": {},
   "outputs": [],
   "source": []
  },
  {
   "cell_type": "code",
   "execution_count": null,
   "metadata": {},
   "outputs": [],
   "source": []
  },
  {
   "cell_type": "code",
   "execution_count": null,
   "metadata": {},
   "outputs": [],
   "source": []
  }
 ],
 "metadata": {
  "kernelspec": {
   "display_name": "Python 3",
   "language": "python",
   "name": "python3"
  },
  "language_info": {
   "codemirror_mode": {
    "name": "ipython",
    "version": 3
   },
   "file_extension": ".py",
   "mimetype": "text/x-python",
   "name": "python",
   "nbconvert_exporter": "python",
   "pygments_lexer": "ipython3",
   "version": "3.6.5"
  }
 },
 "nbformat": 4,
 "nbformat_minor": 2
}
