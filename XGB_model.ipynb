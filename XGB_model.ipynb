{
 "cells": [
  {
   "cell_type": "code",
   "execution_count": 1,
   "metadata": {},
   "outputs": [],
   "source": [
    "%matplotlib inline\n",
    "import pandas as pd\n",
    "import numpy as np\n",
    "import matplotlib.pyplot as plt\n",
    "import seaborn as sns\n",
    "import pickle\n",
    "from sklearn.metrics import accuracy_score, recall_score, precision_score, \\\n",
    "f1_score, roc_curve, auc, roc_auc_score, precision_recall_curve\n",
    "from sklearn.linear_model import LogisticRegression\n",
    "from collections import OrderedDict, Counter\n",
    "from sklearn.model_selection import KFold, train_test_split\n",
    "from sklearn.preprocessing import StandardScaler, PolynomialFeatures\n",
    "from sklearn.neighbors import KNeighborsClassifier\n",
    "from sklearn.naive_bayes import GaussianNB\n",
    "from sklearn.ensemble import RandomForestClassifier\n",
    "\n",
    "import xgboost as xgb\n",
    "\n",
    "sns.set(font_scale=1.2)\n"
   ]
  },
  {
   "cell_type": "code",
   "execution_count": 2,
   "metadata": {},
   "outputs": [],
   "source": [
    "with open('processing/0806_1pm_df_hod.pkl', 'rb') as f:\n",
    "    df_hod = pickle.load(f)"
   ]
  },
  {
   "cell_type": "code",
   "execution_count": 3,
   "metadata": {},
   "outputs": [],
   "source": [
    "#try do one validation\n",
    "\n",
    "y_train = df_hod['reordered']\n",
    "X_train = df_hod.drop(columns=['reordered', 'user_id', 'product_id'])\n",
    "feature_names=X_train.columns"
   ]
  },
  {
   "cell_type": "code",
   "execution_count": 4,
   "metadata": {},
   "outputs": [
    {
     "data": {
      "text/plain": [
       "((7685556, 26), (7685556,))"
      ]
     },
     "execution_count": 4,
     "metadata": {},
     "output_type": "execute_result"
    }
   ],
   "source": [
    "X_train.shape, y_train.shape"
   ]
  },
  {
   "cell_type": "code",
   "execution_count": 5,
   "metadata": {},
   "outputs": [],
   "source": [
    "gbm =  xgb.XGBClassifier( \n",
    "                       n_estimators = 339, #arbitrary large number\n",
    "                       max_depth = 4,\n",
    "                       objective = \"binary:logistic\",\n",
    "                       learning_rate = 0.025, \n",
    "                       subsample = 0.7,\n",
    "                       min_child_weight = 1,\n",
    "                       colsample_bytree = 0.6\n",
    "                          )"
   ]
  },
  {
   "cell_type": "code",
   "execution_count": 6,
   "metadata": {},
   "outputs": [],
   "source": [
    "fit_model = gbm.fit( \n",
    "            X_train, y_train, \n",
    "           )"
   ]
  },
  {
   "cell_type": "code",
   "execution_count": 7,
   "metadata": {},
   "outputs": [],
   "source": [
    "with open('xgb_model.pkl', 'wb') as f:\n",
    "    pickle.dump(fit_model, f)"
   ]
  },
  {
   "cell_type": "code",
   "execution_count": 9,
   "metadata": {},
   "outputs": [],
   "source": [
    "with open('feature_names.pkl', 'wb') as f:\n",
    "    pickle.dump(feature_names, f)"
   ]
  },
  {
   "cell_type": "code",
   "execution_count": 8,
   "metadata": {},
   "outputs": [
    {
     "data": {
      "text/plain": [
       "XGBClassifier(base_score=0.5, booster='gbtree', colsample_bylevel=1,\n",
       "       colsample_bytree=0.6, gamma=0, learning_rate=0.025,\n",
       "       max_delta_step=0, max_depth=4, min_child_weight=1, missing=None,\n",
       "       n_estimators=339, n_jobs=1, nthread=None,\n",
       "       objective='binary:logistic', random_state=0, reg_alpha=0,\n",
       "       reg_lambda=1, scale_pos_weight=1, seed=None, silent=True,\n",
       "       subsample=0.7)"
      ]
     },
     "execution_count": 8,
     "metadata": {},
     "output_type": "execute_result"
    }
   ],
   "source": [
    "fit_model"
   ]
  },
  {
   "cell_type": "code",
   "execution_count": 2,
   "metadata": {},
   "outputs": [
    {
     "name": "stdout",
     "output_type": "stream",
     "text": [
      "feature_names.pkl  xgb_model.pkl\r\n"
     ]
    }
   ],
   "source": [
    "!ls result"
   ]
  },
  {
   "cell_type": "code",
   "execution_count": null,
   "metadata": {},
   "outputs": [],
   "source": [
    "def cv_xgb(df, cv=5, n_estimators=30000, max_depth=3, objective=\"binary:logistic\", learning_rate=.1, subsample=1, \n",
    "           min_child_weight=1, colsample_bytree=.8, v=False):\n",
    "    rec_list=[]\n",
    "    prec_list=[]\n",
    "    f1_list=[]\n",
    "    auc_list=[]\n",
    "    f1_train=[]  #check train score if see if the model overfits\n",
    "    i=0\n",
    "    highest_f1=[]\n",
    "    if v:\n",
    "        fig, ax = plt.subplots(1,3, figsize=(15,5))\n",
    "    \n",
    "    kf = KFold(n_splits=cv, shuffle=True)\n",
    "    for user_train_ind, user_val_ind in kf.split(df.user_id.unique()):\n",
    "    #print(user_train.shape, user_val.shape)\n",
    "        user_train=df.user_id.unique()[user_train_ind]\n",
    "        user_val=df.user_id.unique()[user_val_ind]\n",
    "        df1 = df[df.user_id.isin(user_train)]\n",
    "        y_train = df1['reordered']\n",
    "        X_train = df1.drop(columns=['reordered', 'user_id', 'product_id'])\n",
    "        feature_names=X_train.columns\n",
    "        df2 = df[df.user_id.isin(user_val)]\n",
    "        y_val = df2['reordered']\n",
    "        X_val = df2.drop(columns=['reordered', 'user_id', 'product_id'])    \n",
    "        #print(user_train.shape, user_val.shape, X_train.shape, X_val.shape, y_train.shape, y_val.shape)\n",
    "        \n",
    "        gbm =  xgb.XGBClassifier( \n",
    "                               n_estimators = n_estimators, #arbitrary large number\n",
    "                               max_depth = max_depth,\n",
    "                               objective = objective,\n",
    "                               learning_rate = learning_rate, \n",
    "                               subsample = subsample,\n",
    "                               min_child_weight = min_child_weight,\n",
    "                               colsample_bytree = colsample_bytree\n",
    "                                  )\n",
    "        eval_set=[(X_train,y_train),(X_val,y_val)]\n",
    "        fit_model = gbm.fit( \n",
    "                    X_train, y_train, \n",
    "                    eval_set=eval_set,\n",
    "                    eval_metric='auc',\n",
    "                    early_stopping_rounds=50,\n",
    "                    verbose=False #gives output log as below\n",
    "                   )\n",
    "        y_pred = gbm.predict(X_val, ntree_limit=gbm.best_ntree_limit)\n",
    "        y_pred_train = gbm.predict(X_train, ntree_limit=gbm.best_ntree_limit)\n",
    "    \n",
    "        #acc_list.append(accuracy_score(y_val, y_pred))\n",
    "        rec_list.append(recall_score(y_val, y_pred))\n",
    "        prec_list.append(precision_score(y_val, y_pred))\n",
    "        f1_list.append(f1_score(y_val, y_pred))\n",
    "        f1_train.append(f1_score(y_train, y_pred_train))\n",
    "        \n",
    "        y_pred_prob = gbm.predict_proba(X_val, ntree_limit=gbm.best_ntree_limit)[:,1]\n",
    "        fpr, tpr, _ = roc_curve(y_val, y_pred_prob, pos_label=1)\n",
    "        auc_list.append(auc(fpr, tpr))\n",
    "        if v:\n",
    "            i += 1\n",
    "            ax[0].plot(fpr, tpr, label='ROC Fold %d' % i)\n",
    "        rec, prec, thres = precision_recall_curve(y_val, y_pred_prob, pos_label=1)\n",
    "        if v:\n",
    "            ax[1].plot(rec, prec, label ='Fold %d' %i)\n",
    "        f1s = []\n",
    "        for r, p, t in zip(rec, prec, thres):\n",
    "            if r and p:\n",
    "                f1s.append((2*r*p/(r+p), t, r, p))\n",
    "        if v:\n",
    "            print('Fold %d highest F1: %.3f at threshold p= %.3f. Recall is %.3f, precision is %.3f' \n",
    "                  % (i, *sorted(f1s, reverse=True)[0]))\n",
    "        highest_f1.append(sorted(f1s, reverse=True)[0][0])\n",
    "        if v:\n",
    "            ax[2].plot(list(zip(*f1s))[1], list(zip(*f1s))[0], label='Fold %d' %i)\n",
    "    if v:        \n",
    "        plt.legend()\n",
    "        ax[0].set_xlabel('FPR')\n",
    "        ax[0].set_ylabel('TPR')\n",
    "        ax[0].set_title('ROC Curve')\n",
    "        ax[1].set_xlabel('Recall')\n",
    "        ax[1].set_ylabel('Precision')\n",
    "        ax[1].set_title('Precision-Recall Curve')\n",
    "        ax[2].set_xlabel('P threshold')\n",
    "        ax[2].set_ylabel('F1 score')\n",
    "        ax[2].set_title('F1 Score vs. Positive Class Decision Probability Threshold')\n",
    "\n",
    "    if v:\n",
    "        #mean_acc = np.mean(acc_list)\n",
    "        #std_acc = np.std(acc_list)\n",
    "        mean_rec = np.mean(rec_list)\n",
    "        std_rec = np.std(rec_list)\n",
    "        mean_prec = np.mean(prec_list)\n",
    "        std_prec = np.std(prec_list) \n",
    "        #print('mean accuracy: %.3f, std accuracy: %.3f' % (mean_acc, std_acc))\n",
    "        print('mean recall: %.3f, std recall: %.3f' % (mean_rec, std_rec))  \n",
    "        print('mean precision: %.3f, std accuracy: %.3f' % (mean_prec, std_prec))\n",
    "    \n",
    "    mean_f1 = np.mean(f1_list)\n",
    "    std_f1 = np.std(f1_list)\n",
    "    mean_auc = np.mean(auc_list)\n",
    "    std_auc = np.std(auc_list)\n",
    "    mean_f1_train = np.mean(f1_train)\n",
    "    std_f1_train = np.std(f1_train)\n",
    "    mean_highest_f1 = np.mean(highest_f1)\n",
    "    std_highest_f1 = np.std(highest_f1)\n",
    "    print('mean highest_f1: %.3f, std highest_f1: %.3f' % (mean_highest_f1, std_highest_f1))\n",
    "    print('mean F1: %.3f, std AUC: %.3f' % (mean_f1, std_f1))\n",
    "    print('mean AUC: %.3f, std AUC: %.3f' % (mean_auc, std_auc))\n",
    "    print('mean train F1: %.3f, std train F1: %.3f' % (mean_f1_train, std_f1_train))\n",
    "    return gbm, feature_names, mean_highest_f1"
   ]
  }
 ],
 "metadata": {
  "kernelspec": {
   "display_name": "Python 3",
   "language": "python",
   "name": "python3"
  },
  "language_info": {
   "codemirror_mode": {
    "name": "ipython",
    "version": 3
   },
   "file_extension": ".py",
   "mimetype": "text/x-python",
   "name": "python",
   "nbconvert_exporter": "python",
   "pygments_lexer": "ipython3",
   "version": "3.6.5"
  }
 },
 "nbformat": 4,
 "nbformat_minor": 2
}
