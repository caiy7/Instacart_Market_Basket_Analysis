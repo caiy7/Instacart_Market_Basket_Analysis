{
 "cells": [
  {
   "cell_type": "code",
   "execution_count": 3,
   "metadata": {},
   "outputs": [],
   "source": [
    "%matplotlib inline\n",
    "import pandas as pd\n",
    "import numpy as np\n",
    "import matplotlib.pyplot as plt\n",
    "import seaborn as sns\n",
    "import pickle\n",
    "from sklearn.metrics import accuracy_score, recall_score, precision_score, \\\n",
    "f1_score, roc_curve, auc, roc_auc_score, precision_recall_curve\n",
    "from sklearn.linear_model import LogisticRegression\n",
    "from collections import OrderedDict, Counter\n",
    "from sklearn.model_selection import KFold, train_test_split\n",
    "from sklearn.preprocessing import StandardScaler, PolynomialFeatures\n",
    "from sklearn.neighbors import KNeighborsClassifier\n",
    "from sklearn.naive_bayes import GaussianNB\n",
    "from sklearn.ensemble import RandomForestClassifier\n",
    "\n",
    "import xgboost as xgb\n",
    "\n",
    "sns.set(font_scale=1.2)\n"
   ]
  },
  {
   "cell_type": "code",
   "execution_count": 4,
   "metadata": {},
   "outputs": [],
   "source": [
    "prior=pd.read_csv('data/order_products__prior.csv')"
   ]
  },
  {
   "cell_type": "code",
   "execution_count": 5,
   "metadata": {},
   "outputs": [],
   "source": [
    "recent_order = pd.read_csv('data/order_products__train.csv')"
   ]
  },
  {
   "cell_type": "code",
   "execution_count": 65,
   "metadata": {},
   "outputs": [],
   "source": [
    "orders_all = pd.read_csv('data/orders.csv')"
   ]
  },
  {
   "cell_type": "markdown",
   "metadata": {},
   "source": [
    "Remove Kaggle Test set"
   ]
  },
  {
   "cell_type": "code",
   "execution_count": 5,
   "metadata": {},
   "outputs": [
    {
     "data": {
      "text/plain": [
       "(75000, 7)"
      ]
     },
     "execution_count": 5,
     "metadata": {},
     "output_type": "execute_result"
    }
   ],
   "source": [
    "kaggle_test = orders_all[orders_all['eval_set']=='test']\n",
    "kaggle_test.shape"
   ]
  },
  {
   "cell_type": "code",
   "execution_count": 66,
   "metadata": {},
   "outputs": [
    {
     "data": {
      "text/plain": [
       "(3346083, 7)"
      ]
     },
     "execution_count": 66,
     "metadata": {},
     "output_type": "execute_result"
    }
   ],
   "source": [
    "orders_all = orders_all[~(orders_all['eval_set']=='test')]\n",
    "orders_all.shape"
   ]
  },
  {
   "cell_type": "code",
   "execution_count": 68,
   "metadata": {},
   "outputs": [],
   "source": [
    "with open('pkl/test_users.pkl', 'rb') as f:\n",
    "    test_user = pickle.load(f)"
   ]
  },
  {
   "cell_type": "code",
   "execution_count": 18,
   "metadata": {},
   "outputs": [
    {
     "data": {
      "text/html": [
       "<div>\n",
       "<style scoped>\n",
       "    .dataframe tbody tr th:only-of-type {\n",
       "        vertical-align: middle;\n",
       "    }\n",
       "\n",
       "    .dataframe tbody tr th {\n",
       "        vertical-align: top;\n",
       "    }\n",
       "\n",
       "    .dataframe thead th {\n",
       "        text-align: right;\n",
       "    }\n",
       "</style>\n",
       "<table border=\"1\" class=\"dataframe\">\n",
       "  <thead>\n",
       "    <tr style=\"text-align: right;\">\n",
       "      <th></th>\n",
       "      <th>order_id</th>\n",
       "      <th>user_id</th>\n",
       "      <th>eval_set</th>\n",
       "      <th>order_number</th>\n",
       "      <th>order_dow</th>\n",
       "      <th>order_hour_of_day</th>\n",
       "      <th>days_since_prior_order</th>\n",
       "    </tr>\n",
       "  </thead>\n",
       "  <tbody>\n",
       "    <tr>\n",
       "      <th>0</th>\n",
       "      <td>2539329</td>\n",
       "      <td>1</td>\n",
       "      <td>prior</td>\n",
       "      <td>1</td>\n",
       "      <td>2</td>\n",
       "      <td>8</td>\n",
       "      <td>NaN</td>\n",
       "    </tr>\n",
       "    <tr>\n",
       "      <th>1</th>\n",
       "      <td>2398795</td>\n",
       "      <td>1</td>\n",
       "      <td>prior</td>\n",
       "      <td>2</td>\n",
       "      <td>3</td>\n",
       "      <td>7</td>\n",
       "      <td>15.0</td>\n",
       "    </tr>\n",
       "    <tr>\n",
       "      <th>2</th>\n",
       "      <td>473747</td>\n",
       "      <td>1</td>\n",
       "      <td>prior</td>\n",
       "      <td>3</td>\n",
       "      <td>3</td>\n",
       "      <td>12</td>\n",
       "      <td>21.0</td>\n",
       "    </tr>\n",
       "    <tr>\n",
       "      <th>3</th>\n",
       "      <td>2254736</td>\n",
       "      <td>1</td>\n",
       "      <td>prior</td>\n",
       "      <td>4</td>\n",
       "      <td>4</td>\n",
       "      <td>7</td>\n",
       "      <td>29.0</td>\n",
       "    </tr>\n",
       "    <tr>\n",
       "      <th>4</th>\n",
       "      <td>431534</td>\n",
       "      <td>1</td>\n",
       "      <td>prior</td>\n",
       "      <td>5</td>\n",
       "      <td>4</td>\n",
       "      <td>15</td>\n",
       "      <td>28.0</td>\n",
       "    </tr>\n",
       "  </tbody>\n",
       "</table>\n",
       "</div>"
      ],
      "text/plain": [
       "   order_id  user_id eval_set  order_number  order_dow  order_hour_of_day  \\\n",
       "0   2539329        1    prior             1          2                  8   \n",
       "1   2398795        1    prior             2          3                  7   \n",
       "2    473747        1    prior             3          3                 12   \n",
       "3   2254736        1    prior             4          4                  7   \n",
       "4    431534        1    prior             5          4                 15   \n",
       "\n",
       "   days_since_prior_order  \n",
       "0                     NaN  \n",
       "1                    15.0  \n",
       "2                    21.0  \n",
       "3                    29.0  \n",
       "4                    28.0  "
      ]
     },
     "execution_count": 18,
     "metadata": {},
     "output_type": "execute_result"
    }
   ],
   "source": [
    "orders_all.head()"
   ]
  },
  {
   "cell_type": "code",
   "execution_count": 69,
   "metadata": {},
   "outputs": [],
   "source": [
    "train_recent_order = orders_all[~(orders_all['user_id'].isin(test_user)) & (orders_all['eval_set']=='train')]"
   ]
  },
  {
   "cell_type": "code",
   "execution_count": 22,
   "metadata": {},
   "outputs": [],
   "source": [
    "test_recent_order = orders_all[(orders_all['user_id'].isin(test_user)) & (orders_all['eval_set']=='train')]"
   ]
  },
  {
   "cell_type": "code",
   "execution_count": 23,
   "metadata": {},
   "outputs": [
    {
     "data": {
      "text/plain": [
       "((3346083, 7), (118977, 7), (12232, 7))"
      ]
     },
     "execution_count": 23,
     "metadata": {},
     "output_type": "execute_result"
    }
   ],
   "source": [
    "orders_all.shape, train_recent_order.shape, test_recent_order.shape"
   ]
  },
  {
   "cell_type": "code",
   "execution_count": 25,
   "metadata": {},
   "outputs": [],
   "source": [
    "del test_order"
   ]
  },
  {
   "cell_type": "code",
   "execution_count": 26,
   "metadata": {},
   "outputs": [],
   "source": [
    "with open('pkl/test_order.pkl', 'wb') as f:\n",
    "    pickle.dump(test_recent_order, f)"
   ]
  },
  {
   "cell_type": "code",
   "execution_count": 28,
   "metadata": {},
   "outputs": [],
   "source": [
    "test_recent_order.to_csv('data/test_order.csv')"
   ]
  },
  {
   "cell_type": "markdown",
   "metadata": {},
   "source": [
    "format feature and target"
   ]
  },
  {
   "cell_type": "code",
   "execution_count": 30,
   "metadata": {},
   "outputs": [],
   "source": [
    "recent_details= pd.merge(recent_order, orders_all.drop(columns='eval_set'), on='order_id', how = 'left')"
   ]
  },
  {
   "cell_type": "code",
   "execution_count": 32,
   "metadata": {},
   "outputs": [
    {
     "data": {
      "text/plain": [
       "((1257273, 9), (127344, 9), (1384617, 9))"
      ]
     },
     "execution_count": 32,
     "metadata": {},
     "output_type": "execute_result"
    }
   ],
   "source": [
    "recent_order_test = recent_details[recent_details.order_id.isin(test_recent_order['order_id'])]\n",
    "recent_order_train = recent_details[~recent_details.order_id.isin(test_recent_order['order_id'])]\n",
    "recent_order_train.shape, recent_order_test.shape, recent_details.shape"
   ]
  },
  {
   "cell_type": "code",
   "execution_count": 40,
   "metadata": {},
   "outputs": [],
   "source": [
    "recent_order_train.to_csv('processing/recent_order_train.csv')"
   ]
  },
  {
   "cell_type": "code",
   "execution_count": 41,
   "metadata": {},
   "outputs": [],
   "source": [
    "recent_order_test.to_csv('processing/recent_order_test.csv')"
   ]
  },
  {
   "cell_type": "code",
   "execution_count": null,
   "metadata": {},
   "outputs": [],
   "source": []
  },
  {
   "cell_type": "code",
   "execution_count": 33,
   "metadata": {},
   "outputs": [],
   "source": [
    "recent_order_set = (recent_order_train, recent_order_test)\n",
    "with open('pkl/test_train_recent_order.pkl', 'wb') as f:\n",
    "    pickle.dump(recent_order_set, f)"
   ]
  },
  {
   "cell_type": "code",
   "execution_count": 6,
   "metadata": {},
   "outputs": [],
   "source": [
    "# with open('pkl/test_train_recent_order.pkl', 'rb') as f:\n",
    "#     recent_order_train, recent_order_test = pickle.load(f)"
   ]
  },
  {
   "cell_type": "code",
   "execution_count": 22,
   "metadata": {},
   "outputs": [],
   "source": [
    "# with open('pkl/test_train_recent_order.pkl', 'rb') as f:\n",
    "#     recent_order_train, _ = pickle.load(f)"
   ]
  },
  {
   "cell_type": "code",
   "execution_count": 6,
   "metadata": {},
   "outputs": [
    {
     "data": {
      "text/plain": [
       "(1257273, 9)"
      ]
     },
     "execution_count": 6,
     "metadata": {},
     "output_type": "execute_result"
    }
   ],
   "source": [
    "recent_order_train.shape"
   ]
  },
  {
   "cell_type": "code",
   "execution_count": 7,
   "metadata": {},
   "outputs": [
    {
     "data": {
      "text/html": [
       "<div>\n",
       "<style scoped>\n",
       "    .dataframe tbody tr th:only-of-type {\n",
       "        vertical-align: middle;\n",
       "    }\n",
       "\n",
       "    .dataframe tbody tr th {\n",
       "        vertical-align: top;\n",
       "    }\n",
       "\n",
       "    .dataframe thead th {\n",
       "        text-align: right;\n",
       "    }\n",
       "</style>\n",
       "<table border=\"1\" class=\"dataframe\">\n",
       "  <thead>\n",
       "    <tr style=\"text-align: right;\">\n",
       "      <th></th>\n",
       "      <th>order_id</th>\n",
       "      <th>product_id</th>\n",
       "      <th>add_to_cart_order</th>\n",
       "      <th>reordered</th>\n",
       "      <th>user_id</th>\n",
       "      <th>order_number</th>\n",
       "      <th>order_dow</th>\n",
       "      <th>order_hour_of_day</th>\n",
       "      <th>days_since_prior_order</th>\n",
       "    </tr>\n",
       "  </thead>\n",
       "  <tbody>\n",
       "    <tr>\n",
       "      <th>0</th>\n",
       "      <td>1</td>\n",
       "      <td>49302</td>\n",
       "      <td>1</td>\n",
       "      <td>1</td>\n",
       "      <td>112108</td>\n",
       "      <td>4</td>\n",
       "      <td>4</td>\n",
       "      <td>10</td>\n",
       "      <td>9.0</td>\n",
       "    </tr>\n",
       "  </tbody>\n",
       "</table>\n",
       "</div>"
      ],
      "text/plain": [
       "   order_id  product_id  add_to_cart_order  reordered  user_id  order_number  \\\n",
       "0         1       49302                  1          1   112108             4   \n",
       "\n",
       "   order_dow  order_hour_of_day  days_since_prior_order  \n",
       "0          4                 10                     9.0  "
      ]
     },
     "execution_count": 7,
     "metadata": {},
     "output_type": "execute_result"
    }
   ],
   "source": [
    "recent_order_train.head(1)"
   ]
  },
  {
   "cell_type": "code",
   "execution_count": 8,
   "metadata": {},
   "outputs": [],
   "source": [
    "prior_details = pd.merge(prior, orders_all[orders_all['eval_set']=='prior'], on='order_id', how='right')"
   ]
  },
  {
   "cell_type": "code",
   "execution_count": 9,
   "metadata": {},
   "outputs": [],
   "source": [
    "prior_summary= prior_details.groupby(['user_id','product_id'], as_index=False).reordered.sum()\n",
    "prior_summary.rename({'reordered':'user_product_reordered_past'}, axis=1, inplace=True)"
   ]
  },
  {
   "cell_type": "code",
   "execution_count": 10,
   "metadata": {},
   "outputs": [
    {
     "data": {
      "text/html": [
       "<div>\n",
       "<style scoped>\n",
       "    .dataframe tbody tr th:only-of-type {\n",
       "        vertical-align: middle;\n",
       "    }\n",
       "\n",
       "    .dataframe tbody tr th {\n",
       "        vertical-align: top;\n",
       "    }\n",
       "\n",
       "    .dataframe thead th {\n",
       "        text-align: right;\n",
       "    }\n",
       "</style>\n",
       "<table border=\"1\" class=\"dataframe\">\n",
       "  <thead>\n",
       "    <tr style=\"text-align: right;\">\n",
       "      <th></th>\n",
       "      <th>user_id</th>\n",
       "      <th>product_id</th>\n",
       "      <th>user_product_reordered_past</th>\n",
       "    </tr>\n",
       "  </thead>\n",
       "  <tbody>\n",
       "    <tr>\n",
       "      <th>0</th>\n",
       "      <td>1</td>\n",
       "      <td>196</td>\n",
       "      <td>9</td>\n",
       "    </tr>\n",
       "    <tr>\n",
       "      <th>1</th>\n",
       "      <td>1</td>\n",
       "      <td>10258</td>\n",
       "      <td>8</td>\n",
       "    </tr>\n",
       "    <tr>\n",
       "      <th>2</th>\n",
       "      <td>1</td>\n",
       "      <td>10326</td>\n",
       "      <td>0</td>\n",
       "    </tr>\n",
       "    <tr>\n",
       "      <th>3</th>\n",
       "      <td>1</td>\n",
       "      <td>12427</td>\n",
       "      <td>9</td>\n",
       "    </tr>\n",
       "    <tr>\n",
       "      <th>4</th>\n",
       "      <td>1</td>\n",
       "      <td>13032</td>\n",
       "      <td>2</td>\n",
       "    </tr>\n",
       "  </tbody>\n",
       "</table>\n",
       "</div>"
      ],
      "text/plain": [
       "   user_id  product_id  user_product_reordered_past\n",
       "0        1         196                            9\n",
       "1        1       10258                            8\n",
       "2        1       10326                            0\n",
       "3        1       12427                            9\n",
       "4        1       13032                            2"
      ]
     },
     "execution_count": 10,
     "metadata": {},
     "output_type": "execute_result"
    }
   ],
   "source": [
    "prior_summary.head()"
   ]
  },
  {
   "cell_type": "code",
   "execution_count": 11,
   "metadata": {},
   "outputs": [
    {
     "data": {
      "text/html": [
       "<div>\n",
       "<style scoped>\n",
       "    .dataframe tbody tr th:only-of-type {\n",
       "        vertical-align: middle;\n",
       "    }\n",
       "\n",
       "    .dataframe tbody tr th {\n",
       "        vertical-align: top;\n",
       "    }\n",
       "\n",
       "    .dataframe thead th {\n",
       "        text-align: right;\n",
       "    }\n",
       "</style>\n",
       "<table border=\"1\" class=\"dataframe\">\n",
       "  <thead>\n",
       "    <tr style=\"text-align: right;\">\n",
       "      <th></th>\n",
       "      <th>order_id</th>\n",
       "      <th>product_id</th>\n",
       "      <th>add_to_cart_order</th>\n",
       "      <th>reordered</th>\n",
       "      <th>user_id</th>\n",
       "      <th>order_number</th>\n",
       "      <th>order_dow</th>\n",
       "      <th>order_hour_of_day</th>\n",
       "      <th>days_since_prior_order</th>\n",
       "    </tr>\n",
       "  </thead>\n",
       "  <tbody>\n",
       "    <tr>\n",
       "      <th>0</th>\n",
       "      <td>1</td>\n",
       "      <td>49302</td>\n",
       "      <td>1</td>\n",
       "      <td>1</td>\n",
       "      <td>112108</td>\n",
       "      <td>4</td>\n",
       "      <td>4</td>\n",
       "      <td>10</td>\n",
       "      <td>9.0</td>\n",
       "    </tr>\n",
       "    <tr>\n",
       "      <th>1</th>\n",
       "      <td>1</td>\n",
       "      <td>11109</td>\n",
       "      <td>2</td>\n",
       "      <td>1</td>\n",
       "      <td>112108</td>\n",
       "      <td>4</td>\n",
       "      <td>4</td>\n",
       "      <td>10</td>\n",
       "      <td>9.0</td>\n",
       "    </tr>\n",
       "    <tr>\n",
       "      <th>2</th>\n",
       "      <td>1</td>\n",
       "      <td>10246</td>\n",
       "      <td>3</td>\n",
       "      <td>0</td>\n",
       "      <td>112108</td>\n",
       "      <td>4</td>\n",
       "      <td>4</td>\n",
       "      <td>10</td>\n",
       "      <td>9.0</td>\n",
       "    </tr>\n",
       "  </tbody>\n",
       "</table>\n",
       "</div>"
      ],
      "text/plain": [
       "   order_id  product_id  add_to_cart_order  reordered  user_id  order_number  \\\n",
       "0         1       49302                  1          1   112108             4   \n",
       "1         1       11109                  2          1   112108             4   \n",
       "2         1       10246                  3          0   112108             4   \n",
       "\n",
       "   order_dow  order_hour_of_day  days_since_prior_order  \n",
       "0          4                 10                     9.0  \n",
       "1          4                 10                     9.0  \n",
       "2          4                 10                     9.0  "
      ]
     },
     "execution_count": 11,
     "metadata": {},
     "output_type": "execute_result"
    }
   ],
   "source": [
    "recent_order_train.head(3)"
   ]
  },
  {
   "cell_type": "code",
   "execution_count": 12,
   "metadata": {},
   "outputs": [
    {
     "data": {
      "text/plain": [
       "(1257273, 9)"
      ]
     },
     "execution_count": 12,
     "metadata": {},
     "output_type": "execute_result"
    }
   ],
   "source": [
    "recent_order_train.shape"
   ]
  },
  {
   "cell_type": "markdown",
   "metadata": {},
   "source": [
    "Get all the product the user ordered in the past and predict if he will reorder in his recent order. Assign the reordered information (0 or 1) to the prior order (groupby user and product id)"
   ]
  },
  {
   "cell_type": "code",
   "execution_count": 19,
   "metadata": {},
   "outputs": [],
   "source": [
    "df = prior_summary[prior_summary.user_id.isin(recent_order_train.user_id)]"
   ]
  },
  {
   "cell_type": "code",
   "execution_count": 22,
   "metadata": {},
   "outputs": [],
   "source": [
    "data_set = (df, prior_summary, prior_details)\n",
    "with open('processing/0806m.pkl', 'wb') as f:\n",
    "    pickle.dump(data_set, f)"
   ]
  },
  {
   "cell_type": "code",
   "execution_count": 10,
   "metadata": {},
   "outputs": [],
   "source": [
    "# with open('processing/0806m.pkl', 'rb') as f:\n",
    "#     df, prior_summary, prior_details = pickle.load(f)"
   ]
  },
  {
   "cell_type": "code",
   "execution_count": 13,
   "metadata": {},
   "outputs": [],
   "source": [
    "df = pd.merge(df, recent_order_train[['user_id', 'product_id', 'reordered']], on=['user_id', 'product_id'], how='left')"
   ]
  },
  {
   "cell_type": "code",
   "execution_count": 16,
   "metadata": {},
   "outputs": [
    {
     "data": {
      "text/html": [
       "<div>\n",
       "<style scoped>\n",
       "    .dataframe tbody tr th:only-of-type {\n",
       "        vertical-align: middle;\n",
       "    }\n",
       "\n",
       "    .dataframe tbody tr th {\n",
       "        vertical-align: top;\n",
       "    }\n",
       "\n",
       "    .dataframe thead th {\n",
       "        text-align: right;\n",
       "    }\n",
       "</style>\n",
       "<table border=\"1\" class=\"dataframe\">\n",
       "  <thead>\n",
       "    <tr style=\"text-align: right;\">\n",
       "      <th></th>\n",
       "      <th>user_id</th>\n",
       "      <th>product_id</th>\n",
       "      <th>user_product_reordered_past</th>\n",
       "      <th>reordered</th>\n",
       "    </tr>\n",
       "  </thead>\n",
       "  <tbody>\n",
       "    <tr>\n",
       "      <th>0</th>\n",
       "      <td>1</td>\n",
       "      <td>196</td>\n",
       "      <td>9</td>\n",
       "      <td>1.0</td>\n",
       "    </tr>\n",
       "  </tbody>\n",
       "</table>\n",
       "</div>"
      ],
      "text/plain": [
       "   user_id  product_id  user_product_reordered_past  reordered\n",
       "0        1         196                            9        1.0"
      ]
     },
     "execution_count": 16,
     "metadata": {},
     "output_type": "execute_result"
    }
   ],
   "source": [
    "df.head(1)"
   ]
  },
  {
   "cell_type": "code",
   "execution_count": 17,
   "metadata": {},
   "outputs": [],
   "source": [
    "df['reordered'].fillna(0,inplace=True)"
   ]
  },
  {
   "cell_type": "markdown",
   "metadata": {},
   "source": [
    "#### Add user-features.\n",
    "**1. total_order **  \n",
    "**2. total_product **  \n",
    "**2. ave_cart_size **    \n",
    "**3. how likely the customer shops at weekend vs during the week(convert weekend to 1, weekdays 1, and take average) - user_likely_dow**  \n",
    "**5. ave_days_since_prior_order(tried median, doesnt work as well as mean)**    \n",
    "**6. total unique product - user_total_uniq_product**  \n",
    "**7. percentage of total product that purchased only once - total_uniq_over_total_product**"
   ]
  },
  {
   "cell_type": "code",
   "execution_count": 2,
   "metadata": {},
   "outputs": [],
   "source": [
    "# with open('processing/0806m.pkl', 'rb') as f:\n",
    "#     _, _, prior_details = pickle.load(f)"
   ]
  },
  {
   "cell_type": "code",
   "execution_count": 3,
   "metadata": {},
   "outputs": [],
   "source": [
    "#convert dow to weekend 1(0,1), weekday 0(2-6), then take average\n",
    "prior_details_feature = prior_details.copy()\n",
    "prior_details_feature['dow_binary'] = (prior_details_feature.order_dow < 2 ).astype(int)"
   ]
  },
  {
   "cell_type": "code",
   "execution_count": 42,
   "metadata": {},
   "outputs": [],
   "source": [
    "user_feature_temp = (prior_details_feature.groupby(['user_id', 'order_id'], as_index=False)\n",
    "                .agg(OrderedDict([('product_id', 'count'), ('days_since_prior_order', 'first'), \n",
    "                                  ('dow_binary', 'first')])))"
   ]
  },
  {
   "cell_type": "code",
   "execution_count": 43,
   "metadata": {},
   "outputs": [],
   "source": [
    "user_feature_temp.rename(columns={'product_id': 'total_product'}, inplace=True)"
   ]
  },
  {
   "cell_type": "code",
   "execution_count": 22,
   "metadata": {},
   "outputs": [],
   "source": [
    "user_feature = (user_feature_temp.groupby(['user_id'], as_index=False)\n",
    "                .agg(OrderedDict([('order_id','count'), ('total_product', ['mean', 'sum']), ('days_since_prior_order', 'mean'), \n",
    "                                 ('dow_binary', 'mean')])))"
   ]
  },
  {
   "cell_type": "code",
   "execution_count": 23,
   "metadata": {},
   "outputs": [],
   "source": [
    "user_feature_colname = ['user_id', 'user_total_order', 'user_cart_size', 'user_total_product','user_ave_days_since_last_order', \n",
    "                        'user_likely_dow']\n",
    "user_feature.columns = user_feature_colname"
   ]
  },
  {
   "cell_type": "code",
   "execution_count": 24,
   "metadata": {},
   "outputs": [
    {
     "data": {
      "text/html": [
       "<div>\n",
       "<style scoped>\n",
       "    .dataframe tbody tr th:only-of-type {\n",
       "        vertical-align: middle;\n",
       "    }\n",
       "\n",
       "    .dataframe tbody tr th {\n",
       "        vertical-align: top;\n",
       "    }\n",
       "\n",
       "    .dataframe thead th {\n",
       "        text-align: right;\n",
       "    }\n",
       "</style>\n",
       "<table border=\"1\" class=\"dataframe\">\n",
       "  <thead>\n",
       "    <tr style=\"text-align: right;\">\n",
       "      <th></th>\n",
       "      <th>user_id</th>\n",
       "      <th>user_total_order</th>\n",
       "      <th>user_cart_size</th>\n",
       "      <th>user_total_product</th>\n",
       "      <th>user_ave_days_since_last_order</th>\n",
       "      <th>user_likely_dow</th>\n",
       "    </tr>\n",
       "  </thead>\n",
       "  <tbody>\n",
       "    <tr>\n",
       "      <th>0</th>\n",
       "      <td>1</td>\n",
       "      <td>10</td>\n",
       "      <td>5.900000</td>\n",
       "      <td>59</td>\n",
       "      <td>19.555556</td>\n",
       "      <td>0.300000</td>\n",
       "    </tr>\n",
       "    <tr>\n",
       "      <th>1</th>\n",
       "      <td>2</td>\n",
       "      <td>14</td>\n",
       "      <td>13.928571</td>\n",
       "      <td>195</td>\n",
       "      <td>15.230769</td>\n",
       "      <td>0.357143</td>\n",
       "    </tr>\n",
       "    <tr>\n",
       "      <th>2</th>\n",
       "      <td>3</td>\n",
       "      <td>12</td>\n",
       "      <td>7.333333</td>\n",
       "      <td>88</td>\n",
       "      <td>12.090909</td>\n",
       "      <td>0.666667</td>\n",
       "    </tr>\n",
       "    <tr>\n",
       "      <th>3</th>\n",
       "      <td>4</td>\n",
       "      <td>5</td>\n",
       "      <td>3.600000</td>\n",
       "      <td>18</td>\n",
       "      <td>13.750000</td>\n",
       "      <td>0.000000</td>\n",
       "    </tr>\n",
       "    <tr>\n",
       "      <th>4</th>\n",
       "      <td>5</td>\n",
       "      <td>4</td>\n",
       "      <td>9.250000</td>\n",
       "      <td>37</td>\n",
       "      <td>13.333333</td>\n",
       "      <td>0.500000</td>\n",
       "    </tr>\n",
       "  </tbody>\n",
       "</table>\n",
       "</div>"
      ],
      "text/plain": [
       "   user_id  user_total_order  user_cart_size  user_total_product  \\\n",
       "0        1                10        5.900000                  59   \n",
       "1        2                14       13.928571                 195   \n",
       "2        3                12        7.333333                  88   \n",
       "3        4                 5        3.600000                  18   \n",
       "4        5                 4        9.250000                  37   \n",
       "\n",
       "   user_ave_days_since_last_order  user_likely_dow  \n",
       "0                       19.555556         0.300000  \n",
       "1                       15.230769         0.357143  \n",
       "2                       12.090909         0.666667  \n",
       "3                       13.750000         0.000000  \n",
       "4                       13.333333         0.500000  "
      ]
     },
     "execution_count": 24,
     "metadata": {},
     "output_type": "execute_result"
    }
   ],
   "source": [
    "user_feature.head()"
   ]
  },
  {
   "cell_type": "code",
   "execution_count": 25,
   "metadata": {},
   "outputs": [],
   "source": [
    "user_uniq_product = prior_details.groupby('user_id')['product_id'].nunique()\n",
    "user_feature = pd.merge(user_feature, user_uniq_product.to_frame(), left_on ='user_id', \n",
    "                        right_index=True, how='left')\n",
    "user_feature.rename(columns={'product_id': 'user_total_uniq_product'}, inplace=True)"
   ]
  },
  {
   "cell_type": "code",
   "execution_count": 26,
   "metadata": {},
   "outputs": [],
   "source": [
    "del user_uniq_product"
   ]
  },
  {
   "cell_type": "code",
   "execution_count": 27,
   "metadata": {},
   "outputs": [],
   "source": [
    "user_feature['user_uniq_prod_over_total_prod'] = \\\n",
    "user_feature['user_total_uniq_product']/user_feature['user_total_product']"
   ]
  },
  {
   "cell_type": "code",
   "execution_count": 28,
   "metadata": {},
   "outputs": [
    {
     "data": {
      "text/html": [
       "<div>\n",
       "<style scoped>\n",
       "    .dataframe tbody tr th:only-of-type {\n",
       "        vertical-align: middle;\n",
       "    }\n",
       "\n",
       "    .dataframe tbody tr th {\n",
       "        vertical-align: top;\n",
       "    }\n",
       "\n",
       "    .dataframe thead th {\n",
       "        text-align: right;\n",
       "    }\n",
       "</style>\n",
       "<table border=\"1\" class=\"dataframe\">\n",
       "  <thead>\n",
       "    <tr style=\"text-align: right;\">\n",
       "      <th></th>\n",
       "      <th>user_id</th>\n",
       "      <th>user_total_order</th>\n",
       "      <th>user_cart_size</th>\n",
       "      <th>user_total_product</th>\n",
       "      <th>user_ave_days_since_last_order</th>\n",
       "      <th>user_likely_dow</th>\n",
       "      <th>user_total_uniq_product</th>\n",
       "      <th>user_uniq_prod_over_total_prod</th>\n",
       "    </tr>\n",
       "  </thead>\n",
       "  <tbody>\n",
       "    <tr>\n",
       "      <th>0</th>\n",
       "      <td>1</td>\n",
       "      <td>10</td>\n",
       "      <td>5.900000</td>\n",
       "      <td>59</td>\n",
       "      <td>19.555556</td>\n",
       "      <td>0.300000</td>\n",
       "      <td>18</td>\n",
       "      <td>0.305085</td>\n",
       "    </tr>\n",
       "    <tr>\n",
       "      <th>1</th>\n",
       "      <td>2</td>\n",
       "      <td>14</td>\n",
       "      <td>13.928571</td>\n",
       "      <td>195</td>\n",
       "      <td>15.230769</td>\n",
       "      <td>0.357143</td>\n",
       "      <td>102</td>\n",
       "      <td>0.523077</td>\n",
       "    </tr>\n",
       "    <tr>\n",
       "      <th>2</th>\n",
       "      <td>3</td>\n",
       "      <td>12</td>\n",
       "      <td>7.333333</td>\n",
       "      <td>88</td>\n",
       "      <td>12.090909</td>\n",
       "      <td>0.666667</td>\n",
       "      <td>33</td>\n",
       "      <td>0.375000</td>\n",
       "    </tr>\n",
       "  </tbody>\n",
       "</table>\n",
       "</div>"
      ],
      "text/plain": [
       "   user_id  user_total_order  user_cart_size  user_total_product  \\\n",
       "0        1                10        5.900000                  59   \n",
       "1        2                14       13.928571                 195   \n",
       "2        3                12        7.333333                  88   \n",
       "\n",
       "   user_ave_days_since_last_order  user_likely_dow  user_total_uniq_product  \\\n",
       "0                       19.555556         0.300000                       18   \n",
       "1                       15.230769         0.357143                      102   \n",
       "2                       12.090909         0.666667                       33   \n",
       "\n",
       "   user_uniq_prod_over_total_prod  \n",
       "0                        0.305085  \n",
       "1                        0.523077  \n",
       "2                        0.375000  "
      ]
     },
     "execution_count": 28,
     "metadata": {},
     "output_type": "execute_result"
    }
   ],
   "source": [
    "user_feature.head(3)"
   ]
  },
  {
   "cell_type": "code",
   "execution_count": 29,
   "metadata": {},
   "outputs": [],
   "source": [
    "df_user = pd.merge(df, user_feature, on='user_id', how='left')"
   ]
  },
  {
   "cell_type": "code",
   "execution_count": 31,
   "metadata": {},
   "outputs": [
    {
     "data": {
      "text/html": [
       "<div>\n",
       "<style scoped>\n",
       "    .dataframe tbody tr th:only-of-type {\n",
       "        vertical-align: middle;\n",
       "    }\n",
       "\n",
       "    .dataframe tbody tr th {\n",
       "        vertical-align: top;\n",
       "    }\n",
       "\n",
       "    .dataframe thead th {\n",
       "        text-align: right;\n",
       "    }\n",
       "</style>\n",
       "<table border=\"1\" class=\"dataframe\">\n",
       "  <thead>\n",
       "    <tr style=\"text-align: right;\">\n",
       "      <th></th>\n",
       "      <th>user_id</th>\n",
       "      <th>product_id</th>\n",
       "      <th>user_product_reordered_past</th>\n",
       "      <th>reordered</th>\n",
       "      <th>user_total_order</th>\n",
       "      <th>user_cart_size</th>\n",
       "      <th>user_total_product</th>\n",
       "      <th>user_ave_days_since_last_order</th>\n",
       "      <th>user_likely_dow</th>\n",
       "      <th>user_total_uniq_product</th>\n",
       "      <th>user_uniq_prod_over_total_prod</th>\n",
       "    </tr>\n",
       "  </thead>\n",
       "  <tbody>\n",
       "    <tr>\n",
       "      <th>0</th>\n",
       "      <td>1</td>\n",
       "      <td>196</td>\n",
       "      <td>9</td>\n",
       "      <td>1.0</td>\n",
       "      <td>10</td>\n",
       "      <td>5.9</td>\n",
       "      <td>59</td>\n",
       "      <td>19.555556</td>\n",
       "      <td>0.3</td>\n",
       "      <td>18</td>\n",
       "      <td>0.305085</td>\n",
       "    </tr>\n",
       "  </tbody>\n",
       "</table>\n",
       "</div>"
      ],
      "text/plain": [
       "   user_id  product_id  user_product_reordered_past  reordered  \\\n",
       "0        1         196                            9        1.0   \n",
       "\n",
       "   user_total_order  user_cart_size  user_total_product  \\\n",
       "0                10             5.9                  59   \n",
       "\n",
       "   user_ave_days_since_last_order  user_likely_dow  user_total_uniq_product  \\\n",
       "0                       19.555556              0.3                       18   \n",
       "\n",
       "   user_uniq_prod_over_total_prod  \n",
       "0                        0.305085  "
      ]
     },
     "execution_count": 31,
     "metadata": {},
     "output_type": "execute_result"
    }
   ],
   "source": [
    "df_user.head(1)"
   ]
  },
  {
   "cell_type": "code",
   "execution_count": 30,
   "metadata": {},
   "outputs": [],
   "source": [
    "with open('processing/0806_1pm_df.pkl', 'wb') as f:\n",
    "    pickle.dump(df, f)"
   ]
  },
  {
   "cell_type": "code",
   "execution_count": 34,
   "metadata": {},
   "outputs": [],
   "source": [
    "with open('processing/0806_1pm_df_user.pkl', 'wb') as f:\n",
    "    pickle.dump(df_user, f)"
   ]
  },
  {
   "cell_type": "code",
   "execution_count": 32,
   "metadata": {},
   "outputs": [],
   "source": [
    "del df"
   ]
  },
  {
   "cell_type": "markdown",
   "metadata": {},
   "source": [
    "### Add Product Features\n",
    "**1. Product total reordered count - product_total_reorders**  \n",
    "**2. Total counts of the product were ordered in the past - product_total_orders**   \n",
    "**3. Averge product add to cart order - product_avg_add_to_cart_order**      \n",
    "**4. Percentage of reorder in total product - product_percent_reordered_past** \n",
    "\n",
    "(department and aisle are categorical, need to convert to dummie variables, add later)\n",
    "  - department\n",
    "  - aisle"
   ]
  },
  {
   "cell_type": "code",
   "execution_count": 33,
   "metadata": {},
   "outputs": [
    {
     "data": {
      "text/html": [
       "<div>\n",
       "<style scoped>\n",
       "    .dataframe tbody tr th:only-of-type {\n",
       "        vertical-align: middle;\n",
       "    }\n",
       "\n",
       "    .dataframe tbody tr th {\n",
       "        vertical-align: top;\n",
       "    }\n",
       "\n",
       "    .dataframe thead th {\n",
       "        text-align: right;\n",
       "    }\n",
       "</style>\n",
       "<table border=\"1\" class=\"dataframe\">\n",
       "  <thead>\n",
       "    <tr style=\"text-align: right;\">\n",
       "      <th></th>\n",
       "      <th>product_id</th>\n",
       "      <th>product_total_orders</th>\n",
       "      <th>product_avg_add_to_cart_order</th>\n",
       "    </tr>\n",
       "  </thead>\n",
       "  <tbody>\n",
       "    <tr>\n",
       "      <th>0</th>\n",
       "      <td>1</td>\n",
       "      <td>1852</td>\n",
       "      <td>5.801836</td>\n",
       "    </tr>\n",
       "    <tr>\n",
       "      <th>1</th>\n",
       "      <td>2</td>\n",
       "      <td>90</td>\n",
       "      <td>9.888889</td>\n",
       "    </tr>\n",
       "    <tr>\n",
       "      <th>2</th>\n",
       "      <td>3</td>\n",
       "      <td>277</td>\n",
       "      <td>6.415162</td>\n",
       "    </tr>\n",
       "    <tr>\n",
       "      <th>3</th>\n",
       "      <td>4</td>\n",
       "      <td>329</td>\n",
       "      <td>9.507599</td>\n",
       "    </tr>\n",
       "    <tr>\n",
       "      <th>4</th>\n",
       "      <td>5</td>\n",
       "      <td>15</td>\n",
       "      <td>6.466667</td>\n",
       "    </tr>\n",
       "  </tbody>\n",
       "</table>\n",
       "</div>"
      ],
      "text/plain": [
       "   product_id  product_total_orders  product_avg_add_to_cart_order\n",
       "0           1                  1852                       5.801836\n",
       "1           2                    90                       9.888889\n",
       "2           3                   277                       6.415162\n",
       "3           4                   329                       9.507599\n",
       "4           5                    15                       6.466667"
      ]
     },
     "execution_count": 33,
     "metadata": {},
     "output_type": "execute_result"
    }
   ],
   "source": [
    "prod_feature = ['product_total_orders', 'product_avg_add_to_cart_order']\n",
    "prod_features_df = prior_details.groupby('product_id', as_index=False).agg(OrderedDict([('order_id','count'), \n",
    "                                                                     ('add_to_cart_order', 'mean')]))\n",
    "prod_features_df.columns = ['product_id'] + prod_feature\n",
    "prod_features_df.head()"
   ]
  },
  {
   "cell_type": "code",
   "execution_count": 35,
   "metadata": {},
   "outputs": [],
   "source": [
    "df_prod = pd.merge(df_user, prod_features_df, on='product_id', how='left')"
   ]
  },
  {
   "cell_type": "code",
   "execution_count": 36,
   "metadata": {},
   "outputs": [
    {
     "data": {
      "text/html": [
       "<div>\n",
       "<style scoped>\n",
       "    .dataframe tbody tr th:only-of-type {\n",
       "        vertical-align: middle;\n",
       "    }\n",
       "\n",
       "    .dataframe tbody tr th {\n",
       "        vertical-align: top;\n",
       "    }\n",
       "\n",
       "    .dataframe thead th {\n",
       "        text-align: right;\n",
       "    }\n",
       "</style>\n",
       "<table border=\"1\" class=\"dataframe\">\n",
       "  <thead>\n",
       "    <tr style=\"text-align: right;\">\n",
       "      <th></th>\n",
       "      <th>user_id</th>\n",
       "      <th>product_id</th>\n",
       "      <th>user_product_reordered_past</th>\n",
       "      <th>reordered</th>\n",
       "      <th>user_total_order</th>\n",
       "      <th>user_cart_size</th>\n",
       "      <th>user_total_product</th>\n",
       "      <th>user_ave_days_since_last_order</th>\n",
       "      <th>user_likely_dow</th>\n",
       "      <th>user_total_uniq_product</th>\n",
       "      <th>user_uniq_prod_over_total_prod</th>\n",
       "      <th>product_total_orders</th>\n",
       "      <th>product_avg_add_to_cart_order</th>\n",
       "    </tr>\n",
       "  </thead>\n",
       "  <tbody>\n",
       "    <tr>\n",
       "      <th>0</th>\n",
       "      <td>1</td>\n",
       "      <td>196</td>\n",
       "      <td>9</td>\n",
       "      <td>1.0</td>\n",
       "      <td>10</td>\n",
       "      <td>5.9</td>\n",
       "      <td>59</td>\n",
       "      <td>19.555556</td>\n",
       "      <td>0.3</td>\n",
       "      <td>18</td>\n",
       "      <td>0.305085</td>\n",
       "      <td>35791</td>\n",
       "      <td>3.721774</td>\n",
       "    </tr>\n",
       "    <tr>\n",
       "      <th>1</th>\n",
       "      <td>1</td>\n",
       "      <td>10258</td>\n",
       "      <td>8</td>\n",
       "      <td>1.0</td>\n",
       "      <td>10</td>\n",
       "      <td>5.9</td>\n",
       "      <td>59</td>\n",
       "      <td>19.555556</td>\n",
       "      <td>0.3</td>\n",
       "      <td>18</td>\n",
       "      <td>0.305085</td>\n",
       "      <td>1946</td>\n",
       "      <td>4.277492</td>\n",
       "    </tr>\n",
       "  </tbody>\n",
       "</table>\n",
       "</div>"
      ],
      "text/plain": [
       "   user_id  product_id  user_product_reordered_past  reordered  \\\n",
       "0        1         196                            9        1.0   \n",
       "1        1       10258                            8        1.0   \n",
       "\n",
       "   user_total_order  user_cart_size  user_total_product  \\\n",
       "0                10             5.9                  59   \n",
       "1                10             5.9                  59   \n",
       "\n",
       "   user_ave_days_since_last_order  user_likely_dow  user_total_uniq_product  \\\n",
       "0                       19.555556              0.3                       18   \n",
       "1                       19.555556              0.3                       18   \n",
       "\n",
       "   user_uniq_prod_over_total_prod  product_total_orders  \\\n",
       "0                        0.305085                 35791   \n",
       "1                        0.305085                  1946   \n",
       "\n",
       "   product_avg_add_to_cart_order  \n",
       "0                       3.721774  \n",
       "1                       4.277492  "
      ]
     },
     "execution_count": 36,
     "metadata": {},
     "output_type": "execute_result"
    }
   ],
   "source": [
    "df_prod.head(2)"
   ]
  },
  {
   "cell_type": "code",
   "execution_count": 37,
   "metadata": {},
   "outputs": [],
   "source": [
    "prod_reordered=df_prod.groupby('product_id', as_index=False)['user_product_reordered_past'].sum()\n",
    "df_prod_temp=pd.merge(df_prod, prod_reordered, on='product_id', how='left')\n",
    "df_prod_temp.rename(columns={'user_product_reordered_past_x':'user_product_reordered_past', \n",
    "                             'user_product_reordered_past_y':'product_past_reordered_count'}, inplace=True)"
   ]
  },
  {
   "cell_type": "code",
   "execution_count": 39,
   "metadata": {},
   "outputs": [],
   "source": [
    "del user_feature_temp"
   ]
  },
  {
   "cell_type": "code",
   "execution_count": 40,
   "metadata": {},
   "outputs": [],
   "source": [
    "del f"
   ]
  },
  {
   "cell_type": "code",
   "execution_count": 41,
   "metadata": {},
   "outputs": [],
   "source": [
    "df_prod_temp['product_percent_reordered_past'] = (df_prod_temp['product_past_reordered_count']/  #no 0 total product(chedked) \n",
    "                                                  df_prod_temp['product_total_orders']*100)"
   ]
  },
  {
   "cell_type": "code",
   "execution_count": 42,
   "metadata": {},
   "outputs": [],
   "source": [
    "df_prod=df_prod_temp.copy()\n",
    "del df_prod_temp"
   ]
  },
  {
   "cell_type": "code",
   "execution_count": 44,
   "metadata": {},
   "outputs": [
    {
     "data": {
      "text/plain": [
       "(7685556, 15)"
      ]
     },
     "execution_count": 44,
     "metadata": {},
     "output_type": "execute_result"
    }
   ],
   "source": [
    "df_prod.shape"
   ]
  },
  {
   "cell_type": "code",
   "execution_count": 46,
   "metadata": {},
   "outputs": [],
   "source": [
    "with open('processing/essing/0806_1pm_df_prod.pkl', 'wb') as f:\n",
    "    pickle.dump(df_prod, f)"
   ]
  },
  {
   "cell_type": "markdown",
   "metadata": {},
   "source": [
    "### Add user-product feature.\n",
    "**1. ave_add_to_cart_order**   \n",
    "**2. user_product_ordered_last_n_order - how many orders ago is the last time the user ordered that product**   \n",
    "**3. user_product_ave_days_since_prior_order**  \n",
    "**4. ave_days_between_product_order (product_order_interval)**  \n",
    "**5. user_product_ave_add_to_cart_order_scale(average of add to cart over scaled within each user)**   \n",
    "**6. user_product_ave_add_to_cart_order (not scaled)**  \n",
    "**7. user_product_percent_order_containing_product** \n",
    "**8. user_product_days_since_last_product_order**\n",
    "**9. on average how many days between the user ordered the product - user_product_ave_day_per_product_order**  \n",
    "**11. user_product_ave_day_between_product_order_versus_current_day_since_prior - ratio between average days the user purchase a product vs days since last order**  \n",
    "**12. user_product_ordered_same_day - has the user order the same product that day.**   \n",
    "**13. ave_add_to_cart_order_scale_x_reorder_count (for logistic regression)**  \n",
    "  "
   ]
  },
  {
   "cell_type": "markdown",
   "metadata": {},
   "source": [
    "Scale the add to cart order and then take the average"
   ]
  },
  {
   "cell_type": "code",
   "execution_count": 4,
   "metadata": {},
   "outputs": [],
   "source": [
    "prior_details_feature['user_product_add_to_cart_order_scale']=(prior_details_feature.groupby('order_id')['add_to_cart_order']\n",
    "                                                               .transform(lambda x: x/max(x)))"
   ]
  },
  {
   "cell_type": "code",
   "execution_count": 6,
   "metadata": {},
   "outputs": [],
   "source": [
    "with open('processing/0806_1pm_prior_details_feature.pkl', 'wb') as f:\n",
    "    pickle.dump(prior_details_feature, f)"
   ]
  },
  {
   "cell_type": "code",
   "execution_count": 7,
   "metadata": {},
   "outputs": [
    {
     "data": {
      "text/html": [
       "<div>\n",
       "<style scoped>\n",
       "    .dataframe tbody tr th:only-of-type {\n",
       "        vertical-align: middle;\n",
       "    }\n",
       "\n",
       "    .dataframe tbody tr th {\n",
       "        vertical-align: top;\n",
       "    }\n",
       "\n",
       "    .dataframe thead th {\n",
       "        text-align: right;\n",
       "    }\n",
       "</style>\n",
       "<table border=\"1\" class=\"dataframe\">\n",
       "  <thead>\n",
       "    <tr style=\"text-align: right;\">\n",
       "      <th></th>\n",
       "      <th>order_id</th>\n",
       "      <th>product_id</th>\n",
       "      <th>add_to_cart_order</th>\n",
       "      <th>reordered</th>\n",
       "      <th>user_id</th>\n",
       "      <th>eval_set</th>\n",
       "      <th>order_number</th>\n",
       "      <th>order_dow</th>\n",
       "      <th>order_hour_of_day</th>\n",
       "      <th>days_since_prior_order</th>\n",
       "      <th>dow_binary</th>\n",
       "      <th>user_product_add_to_cart_order_scale</th>\n",
       "    </tr>\n",
       "  </thead>\n",
       "  <tbody>\n",
       "    <tr>\n",
       "      <th>0</th>\n",
       "      <td>2</td>\n",
       "      <td>33120</td>\n",
       "      <td>1</td>\n",
       "      <td>1</td>\n",
       "      <td>202279</td>\n",
       "      <td>prior</td>\n",
       "      <td>3</td>\n",
       "      <td>5</td>\n",
       "      <td>9</td>\n",
       "      <td>8.0</td>\n",
       "      <td>0</td>\n",
       "      <td>0.111111</td>\n",
       "    </tr>\n",
       "  </tbody>\n",
       "</table>\n",
       "</div>"
      ],
      "text/plain": [
       "   order_id  product_id  add_to_cart_order  reordered  user_id eval_set  \\\n",
       "0         2       33120                  1          1   202279    prior   \n",
       "\n",
       "   order_number  order_dow  order_hour_of_day  days_since_prior_order  \\\n",
       "0             3          5                  9                     8.0   \n",
       "\n",
       "   dow_binary  user_product_add_to_cart_order_scale  \n",
       "0           0                              0.111111  "
      ]
     },
     "execution_count": 7,
     "metadata": {},
     "output_type": "execute_result"
    }
   ],
   "source": [
    "prior_details_feature.head(1)"
   ]
  },
  {
   "cell_type": "code",
   "execution_count": 8,
   "metadata": {},
   "outputs": [],
   "source": [
    "user_product_feature = (prior_details_feature.groupby(['user_id', 'product_id'], as_index=False)\n",
    "                       .agg(OrderedDict([('add_to_cart_order', 'mean'), ('user_product_add_to_cart_order_scale', 'mean'),('days_since_prior_order', 'mean'),\n",
    "                                        ('order_number', 'max')])))\n",
    "user_product_feature.rename(columns={'add_to_cart_order': 'user_product_ave_add_to_cart_order', \n",
    "                                     'user_product_add_to_cart_order_scale':'user_product_ave_add_to_cart_order_scale',\n",
    "                                    'days_since_prior_order':'user_product_ave_days_since_prior_order',\n",
    "                                    'order_number':'user_product_most_recent_order'}, inplace=True)"
   ]
  },
  {
   "cell_type": "code",
   "execution_count": 9,
   "metadata": {},
   "outputs": [],
   "source": [
    "user_product_feature_bk = user_product_feature"
   ]
  },
  {
   "cell_type": "code",
   "execution_count": 10,
   "metadata": {},
   "outputs": [],
   "source": [
    "with open('processing/0806_1pm_user_product_feature_bk.pkl', 'wb') as f:\n",
    "    pickle.dump(user_product_feature_bk, f)"
   ]
  },
  {
   "cell_type": "code",
   "execution_count": 54,
   "metadata": {},
   "outputs": [
    {
     "data": {
      "text/html": [
       "<div>\n",
       "<style scoped>\n",
       "    .dataframe tbody tr th:only-of-type {\n",
       "        vertical-align: middle;\n",
       "    }\n",
       "\n",
       "    .dataframe tbody tr th {\n",
       "        vertical-align: top;\n",
       "    }\n",
       "\n",
       "    .dataframe thead th {\n",
       "        text-align: right;\n",
       "    }\n",
       "</style>\n",
       "<table border=\"1\" class=\"dataframe\">\n",
       "  <thead>\n",
       "    <tr style=\"text-align: right;\">\n",
       "      <th></th>\n",
       "      <th>user_id</th>\n",
       "      <th>product_id</th>\n",
       "      <th>user_product_ave_add_to_cart_order</th>\n",
       "      <th>user_product_ave_add_to_cart_order_scale</th>\n",
       "      <th>user_product_ave_days_since_prior_order</th>\n",
       "      <th>user_product_most_recent_order</th>\n",
       "    </tr>\n",
       "  </thead>\n",
       "  <tbody>\n",
       "    <tr>\n",
       "      <th>0</th>\n",
       "      <td>1</td>\n",
       "      <td>196</td>\n",
       "      <td>1.400000</td>\n",
       "      <td>0.245278</td>\n",
       "      <td>19.555556</td>\n",
       "      <td>10</td>\n",
       "    </tr>\n",
       "    <tr>\n",
       "      <th>1</th>\n",
       "      <td>1</td>\n",
       "      <td>10258</td>\n",
       "      <td>3.333333</td>\n",
       "      <td>0.562037</td>\n",
       "      <td>19.555556</td>\n",
       "      <td>10</td>\n",
       "    </tr>\n",
       "    <tr>\n",
       "      <th>2</th>\n",
       "      <td>1</td>\n",
       "      <td>10326</td>\n",
       "      <td>5.000000</td>\n",
       "      <td>0.625000</td>\n",
       "      <td>28.000000</td>\n",
       "      <td>5</td>\n",
       "    </tr>\n",
       "  </tbody>\n",
       "</table>\n",
       "</div>"
      ],
      "text/plain": [
       "   user_id  product_id  user_product_ave_add_to_cart_order  \\\n",
       "0        1         196                            1.400000   \n",
       "1        1       10258                            3.333333   \n",
       "2        1       10326                            5.000000   \n",
       "\n",
       "   user_product_ave_add_to_cart_order_scale  \\\n",
       "0                                  0.245278   \n",
       "1                                  0.562037   \n",
       "2                                  0.625000   \n",
       "\n",
       "   user_product_ave_days_since_prior_order  user_product_most_recent_order  \n",
       "0                                19.555556                              10  \n",
       "1                                19.555556                              10  \n",
       "2                                28.000000                               5  "
      ]
     },
     "execution_count": 54,
     "metadata": {},
     "output_type": "execute_result"
    }
   ],
   "source": [
    "user_product_feature.head(3)"
   ]
  },
  {
   "cell_type": "code",
   "execution_count": 55,
   "metadata": {},
   "outputs": [],
   "source": [
    "upf = pd.merge(user_product_feature, user_feature[['user_id', 'user_total_order']], \n",
    "               on='user_id', how='left')\n",
    "upf['user_product_ordered_last_n_order'] = (upf['user_total_order']\n",
    "                                            -upf['user_product_most_recent_order'])\n",
    "upf.drop(columns='user_total_order', inplace=True)"
   ]
  },
  {
   "cell_type": "code",
   "execution_count": 56,
   "metadata": {},
   "outputs": [
    {
     "data": {
      "text/html": [
       "<div>\n",
       "<style scoped>\n",
       "    .dataframe tbody tr th:only-of-type {\n",
       "        vertical-align: middle;\n",
       "    }\n",
       "\n",
       "    .dataframe tbody tr th {\n",
       "        vertical-align: top;\n",
       "    }\n",
       "\n",
       "    .dataframe thead th {\n",
       "        text-align: right;\n",
       "    }\n",
       "</style>\n",
       "<table border=\"1\" class=\"dataframe\">\n",
       "  <thead>\n",
       "    <tr style=\"text-align: right;\">\n",
       "      <th></th>\n",
       "      <th>user_id</th>\n",
       "      <th>product_id</th>\n",
       "      <th>user_product_ave_add_to_cart_order</th>\n",
       "      <th>user_product_ave_add_to_cart_order_scale</th>\n",
       "      <th>user_product_ave_days_since_prior_order</th>\n",
       "      <th>user_product_most_recent_order</th>\n",
       "      <th>user_product_ordered_last_n_order</th>\n",
       "    </tr>\n",
       "  </thead>\n",
       "  <tbody>\n",
       "    <tr>\n",
       "      <th>0</th>\n",
       "      <td>1</td>\n",
       "      <td>196</td>\n",
       "      <td>1.400000</td>\n",
       "      <td>0.245278</td>\n",
       "      <td>19.555556</td>\n",
       "      <td>10</td>\n",
       "      <td>0</td>\n",
       "    </tr>\n",
       "    <tr>\n",
       "      <th>1</th>\n",
       "      <td>1</td>\n",
       "      <td>10258</td>\n",
       "      <td>3.333333</td>\n",
       "      <td>0.562037</td>\n",
       "      <td>19.555556</td>\n",
       "      <td>10</td>\n",
       "      <td>0</td>\n",
       "    </tr>\n",
       "    <tr>\n",
       "      <th>2</th>\n",
       "      <td>1</td>\n",
       "      <td>10326</td>\n",
       "      <td>5.000000</td>\n",
       "      <td>0.625000</td>\n",
       "      <td>28.000000</td>\n",
       "      <td>5</td>\n",
       "      <td>5</td>\n",
       "    </tr>\n",
       "  </tbody>\n",
       "</table>\n",
       "</div>"
      ],
      "text/plain": [
       "   user_id  product_id  user_product_ave_add_to_cart_order  \\\n",
       "0        1         196                            1.400000   \n",
       "1        1       10258                            3.333333   \n",
       "2        1       10326                            5.000000   \n",
       "\n",
       "   user_product_ave_add_to_cart_order_scale  \\\n",
       "0                                  0.245278   \n",
       "1                                  0.562037   \n",
       "2                                  0.625000   \n",
       "\n",
       "   user_product_ave_days_since_prior_order  user_product_most_recent_order  \\\n",
       "0                                19.555556                              10   \n",
       "1                                19.555556                              10   \n",
       "2                                28.000000                               5   \n",
       "\n",
       "   user_product_ordered_last_n_order  \n",
       "0                                  0  \n",
       "1                                  0  \n",
       "2                                  5  "
      ]
     },
     "execution_count": 56,
     "metadata": {},
     "output_type": "execute_result"
    }
   ],
   "source": [
    "upf.head(3)"
   ]
  },
  {
   "cell_type": "markdown",
   "metadata": {},
   "source": [
    "Calculate days since last time the user ordered the product."
   ]
  },
  {
   "cell_type": "code",
   "execution_count": 57,
   "metadata": {},
   "outputs": [],
   "source": [
    "#prior_order\n",
    "df_temp=(prior_details.groupby(['user_id', 'order_number'], as_index=False)\n",
    ".agg(OrderedDict([('order_id', 'first'),('days_since_prior_order', 'first')]))\n",
    ".sort_values(['user_id', 'order_number'], ascending=[True, False]))\n",
    "df_temp['cumulative_days_since_nth_order'] = (df_temp.groupby('user_id', as_index=False)['days_since_prior_order']\n",
    "                                              .cumsum())"
   ]
  },
  {
   "cell_type": "markdown",
   "metadata": {},
   "source": [
    "**The prior days of the first order is null. fill NA with ffill with addtional 7 days (a week). The rational to use short period versus long period for the cases that the user is new to Instacart.**"
   ]
  },
  {
   "cell_type": "code",
   "execution_count": 58,
   "metadata": {},
   "outputs": [],
   "source": [
    "a = df_temp['cumulative_days_since_nth_order'].fillna(method='ffill').copy()\n",
    "a[df_temp['cumulative_days_since_nth_order'].isnull()] +=7"
   ]
  },
  {
   "cell_type": "code",
   "execution_count": 59,
   "metadata": {},
   "outputs": [],
   "source": [
    "df_temp['cumulative_days_since_nth_order']=a.copy()"
   ]
  },
  {
   "cell_type": "code",
   "execution_count": 60,
   "metadata": {},
   "outputs": [],
   "source": [
    "user_product_feature = pd.merge(upf, df_temp.drop(columns=['order_id', 'days_since_prior_order']), \n",
    "                    left_on=['user_id', 'user_product_most_recent_order'], right_on = ['user_id', 'order_number'],\n",
    "                    how='left')\n",
    "user_product_feature.drop(columns=['user_product_most_recent_order','order_number'],inplace=True)"
   ]
  },
  {
   "cell_type": "code",
   "execution_count": 61,
   "metadata": {},
   "outputs": [],
   "source": [
    "user_product_feature.rename(columns={'cumulative_days_since_nth_order'\n",
    "                                     :'user_product_days_since_last_product_order'}, inplace=True)"
   ]
  },
  {
   "cell_type": "code",
   "execution_count": 62,
   "metadata": {},
   "outputs": [],
   "source": [
    "user_product_feature['user_product_ave_days_since_prior_order'].fillna(user_product_feature['user_product_days_since_last_product_order'], inplace=True)"
   ]
  },
  {
   "cell_type": "code",
   "execution_count": 63,
   "metadata": {},
   "outputs": [
    {
     "data": {
      "text/html": [
       "<div>\n",
       "<style scoped>\n",
       "    .dataframe tbody tr th:only-of-type {\n",
       "        vertical-align: middle;\n",
       "    }\n",
       "\n",
       "    .dataframe tbody tr th {\n",
       "        vertical-align: top;\n",
       "    }\n",
       "\n",
       "    .dataframe thead th {\n",
       "        text-align: right;\n",
       "    }\n",
       "</style>\n",
       "<table border=\"1\" class=\"dataframe\">\n",
       "  <thead>\n",
       "    <tr style=\"text-align: right;\">\n",
       "      <th></th>\n",
       "      <th>user_id</th>\n",
       "      <th>product_id</th>\n",
       "      <th>user_product_ave_add_to_cart_order</th>\n",
       "      <th>user_product_ave_add_to_cart_order_scale</th>\n",
       "      <th>user_product_ave_days_since_prior_order</th>\n",
       "      <th>user_product_ordered_last_n_order</th>\n",
       "      <th>user_product_days_since_last_product_order</th>\n",
       "    </tr>\n",
       "  </thead>\n",
       "  <tbody>\n",
       "    <tr>\n",
       "      <th>0</th>\n",
       "      <td>1</td>\n",
       "      <td>196</td>\n",
       "      <td>1.400000</td>\n",
       "      <td>0.245278</td>\n",
       "      <td>19.555556</td>\n",
       "      <td>0</td>\n",
       "      <td>30.0</td>\n",
       "    </tr>\n",
       "    <tr>\n",
       "      <th>1</th>\n",
       "      <td>1</td>\n",
       "      <td>10258</td>\n",
       "      <td>3.333333</td>\n",
       "      <td>0.562037</td>\n",
       "      <td>19.555556</td>\n",
       "      <td>0</td>\n",
       "      <td>30.0</td>\n",
       "    </tr>\n",
       "  </tbody>\n",
       "</table>\n",
       "</div>"
      ],
      "text/plain": [
       "   user_id  product_id  user_product_ave_add_to_cart_order  \\\n",
       "0        1         196                            1.400000   \n",
       "1        1       10258                            3.333333   \n",
       "\n",
       "   user_product_ave_add_to_cart_order_scale  \\\n",
       "0                                  0.245278   \n",
       "1                                  0.562037   \n",
       "\n",
       "   user_product_ave_days_since_prior_order  user_product_ordered_last_n_order  \\\n",
       "0                                19.555556                                  0   \n",
       "1                                19.555556                                  0   \n",
       "\n",
       "   user_product_days_since_last_product_order  \n",
       "0                                        30.0  \n",
       "1                                        30.0  "
      ]
     },
     "execution_count": 63,
     "metadata": {},
     "output_type": "execute_result"
    }
   ],
   "source": [
    "user_product_feature.head(2)"
   ]
  },
  {
   "cell_type": "markdown",
   "metadata": {},
   "source": [
    "Add feature 'user_product_percent_order_containing_product' "
   ]
  },
  {
   "cell_type": "code",
   "execution_count": 64,
   "metadata": {},
   "outputs": [],
   "source": [
    "df_up = pd.merge(df_prod, user_product_feature, on=['user_id', 'product_id'], how='left')\n",
    "df_up['user_product_percent_order_containing_product'] = ((df_up['user_product_reordered_past'] + 1)\n",
    "                                                        / df_up['user_total_order'])"
   ]
  },
  {
   "cell_type": "code",
   "execution_count": 67,
   "metadata": {},
   "outputs": [],
   "source": [
    "# with open('processing/0806_1pm_df_up.pkl', 'wb') as f:\n",
    "#     pickle.dump(df_up, f)"
   ]
  },
  {
   "cell_type": "markdown",
   "metadata": {},
   "source": [
    "Add on average how many days between the user ordered the product"
   ]
  },
  {
   "cell_type": "code",
   "execution_count": 68,
   "metadata": {},
   "outputs": [],
   "source": [
    "days_since_first_order = (prior_details.groupby(['user_id','order_id'], as_index=False)\n",
    "                          .agg(OrderedDict([('days_since_prior_order', 'first')]))\n",
    " .groupby('user_id', as_index=False)['days_since_prior_order'].sum())"
   ]
  },
  {
   "cell_type": "code",
   "execution_count": 69,
   "metadata": {},
   "outputs": [],
   "source": [
    "days_since_first_order.rename(columns={'days_since_prior_order':'days_since_first_order'}, inplace=True)"
   ]
  },
  {
   "cell_type": "code",
   "execution_count": 70,
   "metadata": {},
   "outputs": [
    {
     "data": {
      "text/html": [
       "<div>\n",
       "<style scoped>\n",
       "    .dataframe tbody tr th:only-of-type {\n",
       "        vertical-align: middle;\n",
       "    }\n",
       "\n",
       "    .dataframe tbody tr th {\n",
       "        vertical-align: top;\n",
       "    }\n",
       "\n",
       "    .dataframe thead th {\n",
       "        text-align: right;\n",
       "    }\n",
       "</style>\n",
       "<table border=\"1\" class=\"dataframe\">\n",
       "  <thead>\n",
       "    <tr style=\"text-align: right;\">\n",
       "      <th></th>\n",
       "      <th>user_id</th>\n",
       "      <th>days_since_first_order</th>\n",
       "    </tr>\n",
       "  </thead>\n",
       "  <tbody>\n",
       "    <tr>\n",
       "      <th>0</th>\n",
       "      <td>1</td>\n",
       "      <td>176.0</td>\n",
       "    </tr>\n",
       "    <tr>\n",
       "      <th>1</th>\n",
       "      <td>2</td>\n",
       "      <td>198.0</td>\n",
       "    </tr>\n",
       "  </tbody>\n",
       "</table>\n",
       "</div>"
      ],
      "text/plain": [
       "   user_id  days_since_first_order\n",
       "0        1                   176.0\n",
       "1        2                   198.0"
      ]
     },
     "execution_count": 70,
     "metadata": {},
     "output_type": "execute_result"
    }
   ],
   "source": [
    "days_since_first_order.head(2)"
   ]
  },
  {
   "cell_type": "code",
   "execution_count": 71,
   "metadata": {},
   "outputs": [],
   "source": [
    "df_up1 = pd.merge(df_up, days_since_first_order, on='user_id', how='left')\n",
    "df_up1['user_product_ave_day_per_product_order'] = df_up1['days_since_first_order']/(df_up1['user_product_reordered_past']+1)"
   ]
  },
  {
   "cell_type": "code",
   "execution_count": 72,
   "metadata": {},
   "outputs": [],
   "source": [
    "df_up1.drop(columns='days_since_first_order', inplace=True)"
   ]
  },
  {
   "cell_type": "code",
   "execution_count": 20,
   "metadata": {},
   "outputs": [],
   "source": [
    "# with open('processing/0806_1pm_df_up1.pkl', 'wb') as f:\n",
    "#     pickle.dump(df_up1, f)\n",
    "with open('processing/0806_1pm_df_up1.pkl','rb') as f:\n",
    "    df_up1 = pickle.load(f)"
   ]
  },
  {
   "cell_type": "code",
   "execution_count": 21,
   "metadata": {},
   "outputs": [
    {
     "data": {
      "text/plain": [
       "(7685556, 22)"
      ]
     },
     "execution_count": 21,
     "metadata": {},
     "output_type": "execute_result"
    }
   ],
   "source": [
    "df_up1.shape"
   ]
  },
  {
   "cell_type": "code",
   "execution_count": 23,
   "metadata": {},
   "outputs": [
    {
     "data": {
      "text/html": [
       "<div>\n",
       "<style scoped>\n",
       "    .dataframe tbody tr th:only-of-type {\n",
       "        vertical-align: middle;\n",
       "    }\n",
       "\n",
       "    .dataframe tbody tr th {\n",
       "        vertical-align: top;\n",
       "    }\n",
       "\n",
       "    .dataframe thead th {\n",
       "        text-align: right;\n",
       "    }\n",
       "</style>\n",
       "<table border=\"1\" class=\"dataframe\">\n",
       "  <thead>\n",
       "    <tr style=\"text-align: right;\">\n",
       "      <th></th>\n",
       "      <th>user_id</th>\n",
       "      <th>product_id</th>\n",
       "      <th>user_product_reordered_past</th>\n",
       "      <th>reordered</th>\n",
       "      <th>user_total_order</th>\n",
       "      <th>user_cart_size</th>\n",
       "      <th>user_total_product</th>\n",
       "      <th>user_ave_days_since_last_order</th>\n",
       "      <th>user_likely_dow</th>\n",
       "      <th>user_total_uniq_product</th>\n",
       "      <th>...</th>\n",
       "      <th>product_avg_add_to_cart_order</th>\n",
       "      <th>product_past_reordered_count</th>\n",
       "      <th>product_percent_reordered_past</th>\n",
       "      <th>user_product_ave_add_to_cart_order</th>\n",
       "      <th>user_product_ave_add_to_cart_order_scale</th>\n",
       "      <th>user_product_ave_days_since_prior_order</th>\n",
       "      <th>user_product_ordered_last_n_order</th>\n",
       "      <th>user_product_days_since_last_product_order</th>\n",
       "      <th>user_product_percent_order_containing_product</th>\n",
       "      <th>user_product_ave_day_per_product_order</th>\n",
       "    </tr>\n",
       "  </thead>\n",
       "  <tbody>\n",
       "    <tr>\n",
       "      <th>0</th>\n",
       "      <td>1</td>\n",
       "      <td>196</td>\n",
       "      <td>9</td>\n",
       "      <td>1.0</td>\n",
       "      <td>10</td>\n",
       "      <td>5.9</td>\n",
       "      <td>59</td>\n",
       "      <td>19.555556</td>\n",
       "      <td>0.3</td>\n",
       "      <td>18</td>\n",
       "      <td>...</td>\n",
       "      <td>3.721774</td>\n",
       "      <td>16163</td>\n",
       "      <td>45.159398</td>\n",
       "      <td>1.400000</td>\n",
       "      <td>0.245278</td>\n",
       "      <td>19.555556</td>\n",
       "      <td>0</td>\n",
       "      <td>30.0</td>\n",
       "      <td>1.0</td>\n",
       "      <td>17.600000</td>\n",
       "    </tr>\n",
       "    <tr>\n",
       "      <th>1</th>\n",
       "      <td>1</td>\n",
       "      <td>10258</td>\n",
       "      <td>8</td>\n",
       "      <td>1.0</td>\n",
       "      <td>10</td>\n",
       "      <td>5.9</td>\n",
       "      <td>59</td>\n",
       "      <td>19.555556</td>\n",
       "      <td>0.3</td>\n",
       "      <td>18</td>\n",
       "      <td>...</td>\n",
       "      <td>4.277492</td>\n",
       "      <td>796</td>\n",
       "      <td>40.904419</td>\n",
       "      <td>3.333333</td>\n",
       "      <td>0.562037</td>\n",
       "      <td>19.555556</td>\n",
       "      <td>0</td>\n",
       "      <td>30.0</td>\n",
       "      <td>0.9</td>\n",
       "      <td>19.555556</td>\n",
       "    </tr>\n",
       "  </tbody>\n",
       "</table>\n",
       "<p>2 rows × 22 columns</p>\n",
       "</div>"
      ],
      "text/plain": [
       "   user_id  product_id  user_product_reordered_past  reordered  \\\n",
       "0        1         196                            9        1.0   \n",
       "1        1       10258                            8        1.0   \n",
       "\n",
       "   user_total_order  user_cart_size  user_total_product  \\\n",
       "0                10             5.9                  59   \n",
       "1                10             5.9                  59   \n",
       "\n",
       "   user_ave_days_since_last_order  user_likely_dow  user_total_uniq_product  \\\n",
       "0                       19.555556              0.3                       18   \n",
       "1                       19.555556              0.3                       18   \n",
       "\n",
       "                    ...                    product_avg_add_to_cart_order  \\\n",
       "0                   ...                                         3.721774   \n",
       "1                   ...                                         4.277492   \n",
       "\n",
       "   product_past_reordered_count  product_percent_reordered_past  \\\n",
       "0                         16163                       45.159398   \n",
       "1                           796                       40.904419   \n",
       "\n",
       "   user_product_ave_add_to_cart_order  \\\n",
       "0                            1.400000   \n",
       "1                            3.333333   \n",
       "\n",
       "   user_product_ave_add_to_cart_order_scale  \\\n",
       "0                                  0.245278   \n",
       "1                                  0.562037   \n",
       "\n",
       "   user_product_ave_days_since_prior_order  user_product_ordered_last_n_order  \\\n",
       "0                                19.555556                                  0   \n",
       "1                                19.555556                                  0   \n",
       "\n",
       "   user_product_days_since_last_product_order  \\\n",
       "0                                        30.0   \n",
       "1                                        30.0   \n",
       "\n",
       "   user_product_percent_order_containing_product  \\\n",
       "0                                            1.0   \n",
       "1                                            0.9   \n",
       "\n",
       "   user_product_ave_day_per_product_order  \n",
       "0                               17.600000  \n",
       "1                               19.555556  \n",
       "\n",
       "[2 rows x 22 columns]"
      ]
     },
     "execution_count": 23,
     "metadata": {},
     "output_type": "execute_result"
    }
   ],
   "source": [
    "df_up1.head(2)"
   ]
  },
  {
   "cell_type": "code",
   "execution_count": 24,
   "metadata": {},
   "outputs": [
    {
     "data": {
      "text/plain": [
       "(1257273, 9)"
      ]
     },
     "execution_count": 24,
     "metadata": {},
     "output_type": "execute_result"
    }
   ],
   "source": [
    "recent_order_train.shape"
   ]
  },
  {
   "cell_type": "code",
   "execution_count": 25,
   "metadata": {},
   "outputs": [
    {
     "data": {
      "text/html": [
       "<div>\n",
       "<style scoped>\n",
       "    .dataframe tbody tr th:only-of-type {\n",
       "        vertical-align: middle;\n",
       "    }\n",
       "\n",
       "    .dataframe tbody tr th {\n",
       "        vertical-align: top;\n",
       "    }\n",
       "\n",
       "    .dataframe thead th {\n",
       "        text-align: right;\n",
       "    }\n",
       "</style>\n",
       "<table border=\"1\" class=\"dataframe\">\n",
       "  <thead>\n",
       "    <tr style=\"text-align: right;\">\n",
       "      <th></th>\n",
       "      <th>order_id</th>\n",
       "      <th>product_id</th>\n",
       "      <th>add_to_cart_order</th>\n",
       "      <th>reordered</th>\n",
       "      <th>user_id</th>\n",
       "      <th>order_number</th>\n",
       "      <th>order_dow</th>\n",
       "      <th>order_hour_of_day</th>\n",
       "      <th>days_since_prior_order</th>\n",
       "    </tr>\n",
       "  </thead>\n",
       "  <tbody>\n",
       "    <tr>\n",
       "      <th>0</th>\n",
       "      <td>1</td>\n",
       "      <td>49302</td>\n",
       "      <td>1</td>\n",
       "      <td>1</td>\n",
       "      <td>112108</td>\n",
       "      <td>4</td>\n",
       "      <td>4</td>\n",
       "      <td>10</td>\n",
       "      <td>9.0</td>\n",
       "    </tr>\n",
       "    <tr>\n",
       "      <th>1</th>\n",
       "      <td>1</td>\n",
       "      <td>11109</td>\n",
       "      <td>2</td>\n",
       "      <td>1</td>\n",
       "      <td>112108</td>\n",
       "      <td>4</td>\n",
       "      <td>4</td>\n",
       "      <td>10</td>\n",
       "      <td>9.0</td>\n",
       "    </tr>\n",
       "  </tbody>\n",
       "</table>\n",
       "</div>"
      ],
      "text/plain": [
       "   order_id  product_id  add_to_cart_order  reordered  user_id  order_number  \\\n",
       "0         1       49302                  1          1   112108             4   \n",
       "1         1       11109                  2          1   112108             4   \n",
       "\n",
       "   order_dow  order_hour_of_day  days_since_prior_order  \n",
       "0          4                 10                     9.0  \n",
       "1          4                 10                     9.0  "
      ]
     },
     "execution_count": 25,
     "metadata": {},
     "output_type": "execute_result"
    }
   ],
   "source": [
    "recent_order_train.head(2)"
   ]
  },
  {
   "cell_type": "code",
   "execution_count": 71,
   "metadata": {},
   "outputs": [
    {
     "data": {
      "text/html": [
       "<div>\n",
       "<style scoped>\n",
       "    .dataframe tbody tr th:only-of-type {\n",
       "        vertical-align: middle;\n",
       "    }\n",
       "\n",
       "    .dataframe tbody tr th {\n",
       "        vertical-align: top;\n",
       "    }\n",
       "\n",
       "    .dataframe thead th {\n",
       "        text-align: right;\n",
       "    }\n",
       "</style>\n",
       "<table border=\"1\" class=\"dataframe\">\n",
       "  <thead>\n",
       "    <tr style=\"text-align: right;\">\n",
       "      <th></th>\n",
       "      <th>order_id</th>\n",
       "      <th>user_id</th>\n",
       "      <th>eval_set</th>\n",
       "      <th>order_number</th>\n",
       "      <th>order_dow</th>\n",
       "      <th>order_hour_of_day</th>\n",
       "      <th>days_since_prior_order</th>\n",
       "    </tr>\n",
       "  </thead>\n",
       "  <tbody>\n",
       "    <tr>\n",
       "      <th>10</th>\n",
       "      <td>1187899</td>\n",
       "      <td>1</td>\n",
       "      <td>train</td>\n",
       "      <td>11</td>\n",
       "      <td>4</td>\n",
       "      <td>8</td>\n",
       "      <td>14.0</td>\n",
       "    </tr>\n",
       "    <tr>\n",
       "      <th>25</th>\n",
       "      <td>1492625</td>\n",
       "      <td>2</td>\n",
       "      <td>train</td>\n",
       "      <td>15</td>\n",
       "      <td>1</td>\n",
       "      <td>11</td>\n",
       "      <td>30.0</td>\n",
       "    </tr>\n",
       "  </tbody>\n",
       "</table>\n",
       "</div>"
      ],
      "text/plain": [
       "    order_id  user_id eval_set  order_number  order_dow  order_hour_of_day  \\\n",
       "10   1187899        1    train            11          4                  8   \n",
       "25   1492625        2    train            15          1                 11   \n",
       "\n",
       "    days_since_prior_order  \n",
       "10                    14.0  \n",
       "25                    30.0  "
      ]
     },
     "execution_count": 71,
     "metadata": {},
     "output_type": "execute_result"
    }
   ],
   "source": [
    "train_recent_order.head(2)"
   ]
  },
  {
   "cell_type": "code",
   "execution_count": 72,
   "metadata": {},
   "outputs": [],
   "source": [
    "with open('processing/0806_1pm_df_up1.pkl', 'rb') as f:\n",
    "    df_up1 = pickle.load(f)"
   ]
  },
  {
   "cell_type": "code",
   "execution_count": 78,
   "metadata": {},
   "outputs": [],
   "source": [
    "df_up2 = pd.merge(df_up1, train_recent_order[['user_id', 'order_dow', 'order_hour_of_day', 'days_since_prior_order']],\n",
    "                  on = ['user_id'], how='left')"
   ]
  },
  {
   "cell_type": "code",
   "execution_count": 79,
   "metadata": {},
   "outputs": [
    {
     "data": {
      "text/plain": [
       "(7685556, 25)"
      ]
     },
     "execution_count": 79,
     "metadata": {},
     "output_type": "execute_result"
    }
   ],
   "source": [
    "df_up2.shape"
   ]
  },
  {
   "cell_type": "code",
   "execution_count": 85,
   "metadata": {},
   "outputs": [],
   "source": [
    "df_up2.rename(columns={'days_since_prior_order':'current_days_since_prior_order'},inplace=True)"
   ]
  },
  {
   "cell_type": "code",
   "execution_count": 11,
   "metadata": {},
   "outputs": [],
   "source": [
    "# with open('processing/0806_1pm_df_up2.pkl', 'rb') as f:\n",
    "#     df_up2 = pickle.load(f)"
   ]
  },
  {
   "cell_type": "code",
   "execution_count": 88,
   "metadata": {},
   "outputs": [
    {
     "data": {
      "text/plain": [
       "((7685556, 25), (7685556, 22))"
      ]
     },
     "execution_count": 88,
     "metadata": {},
     "output_type": "execute_result"
    }
   ],
   "source": [
    "df_up2.shape, df_up1.shape"
   ]
  },
  {
   "cell_type": "code",
   "execution_count": 89,
   "metadata": {},
   "outputs": [],
   "source": [
    "def get_ratio(row):\n",
    "    a = row['user_product_ave_day_per_product_order']\n",
    "    b = row['current_days_since_prior_order']\n",
    "    if a == 0:\n",
    "        a+=0.5\n",
    "    if b == 0:\n",
    "        b+=0.5\n",
    "    return a/b        "
   ]
  },
  {
   "cell_type": "code",
   "execution_count": 90,
   "metadata": {},
   "outputs": [],
   "source": [
    "df_up2['user_product_ave_day_between_product_order_versus_current_day_since_prior']=\\\n",
    "df_up2.apply(get_ratio, axis=1)"
   ]
  },
  {
   "cell_type": "code",
   "execution_count": 91,
   "metadata": {},
   "outputs": [],
   "source": [
    "with open('processing/0806_1pm_df_up2.pkl', 'wb') as f:\n",
    "    pickle.dump(df_up2, f)"
   ]
  },
  {
   "cell_type": "markdown",
   "metadata": {},
   "source": [
    "Add feature - if the user order the item the same day."
   ]
  },
  {
   "cell_type": "code",
   "execution_count": 92,
   "metadata": {},
   "outputs": [],
   "source": [
    "df_up3 = pd.merge(df_up2, user_product_feature_bk[['user_id', 'product_id', 'user_product_most_recent_order']],\n",
    "                 on=['user_id', 'product_id'], how='left')"
   ]
  },
  {
   "cell_type": "code",
   "execution_count": 94,
   "metadata": {},
   "outputs": [],
   "source": [
    "def order_same_day(row):\n",
    "    if row['current_days_since_prior_order'] == 0 and \\\n",
    "    row['user_total_order'] == row['user_product_most_recent_order']:\n",
    "        return 1\n",
    "    else:\n",
    "        return 0"
   ]
  },
  {
   "cell_type": "code",
   "execution_count": 95,
   "metadata": {},
   "outputs": [],
   "source": [
    "df_up3['user_product_ordered_same_day']=df_up3.apply(order_same_day, axis=1)"
   ]
  },
  {
   "cell_type": "code",
   "execution_count": 96,
   "metadata": {},
   "outputs": [
    {
     "data": {
      "text/plain": [
       "(7685556, 28)"
      ]
     },
     "execution_count": 96,
     "metadata": {},
     "output_type": "execute_result"
    }
   ],
   "source": [
    "df_up3.shape"
   ]
  },
  {
   "cell_type": "code",
   "execution_count": 97,
   "metadata": {},
   "outputs": [],
   "source": [
    "df_up3.drop(columns='user_product_most_recent_order', inplace=True)"
   ]
  },
  {
   "cell_type": "code",
   "execution_count": 98,
   "metadata": {},
   "outputs": [],
   "source": [
    "# with open('processing/0806_1pm_df_up3.pkl', 'wb') as f:\n",
    "#     pickle.dump(df_up3, f)"
   ]
  },
  {
   "cell_type": "markdown",
   "metadata": {},
   "source": [
    "Add dummie variable (bin categories)"
   ]
  },
  {
   "cell_type": "code",
   "execution_count": null,
   "metadata": {},
   "outputs": [],
   "source": [
    "product_df=pd.read_csv('../data/products.csv')"
   ]
  },
  {
   "cell_type": "code",
   "execution_count": 99,
   "metadata": {},
   "outputs": [],
   "source": [
    "df_dept=pd.merge(df_up3, product_df, on='product_id', how='left')"
   ]
  },
  {
   "cell_type": "code",
   "execution_count": 100,
   "metadata": {},
   "outputs": [],
   "source": [
    "df_dept.drop(columns='product_name', inplace=True)"
   ]
  },
  {
   "cell_type": "code",
   "execution_count": 101,
   "metadata": {},
   "outputs": [],
   "source": [
    "no = df_dept.loc[df_dept['reordered']==0,'department_id'].value_counts().sort_index()/\\\n",
    "df_dept.loc[df_dept['reordered']==0,'department_id'].count()\n",
    "re = df_dept.loc[df_dept['reordered']==1,'department_id'].value_counts().sort_index()/\\\n",
    "df_dept.loc[df_dept['reordered']==1,'department_id'].count()"
   ]
  },
  {
   "cell_type": "code",
   "execution_count": 102,
   "metadata": {},
   "outputs": [
    {
     "data": {
      "image/png": "[encoded data removed]",
      "text/plain": [
       "<Figure size 576x432 with 1 Axes>"
      ]
     },
     "metadata": {},
     "output_type": "display_data"
    }
   ],
   "source": [
    "x = np.arange(0,len(no))\n",
    "plt.figure(figsize=(8,6))\n",
    "plt.bar(x, no, width=0.4, label='0')\n",
    "plt.bar(x+0.4, re, width=0.4, label = '1')\n",
    "plt.legend();\n",
    "#plt.xticks(np.arange(0,len(no)),department_df.sort_values('department_id')['department'], rotation=90);"
   ]
  },
  {
   "cell_type": "code",
   "execution_count": 103,
   "metadata": {},
   "outputs": [],
   "source": [
    "dept_freq = pd.DataFrame(no)\n",
    "dept_freq.columns = ['no_reordered']\n",
    "dept_freq = pd.concat([dept_freq, re.to_frame()], axis=1)\n",
    "dept_freq.rename(columns={'department_id':'reordered'}, inplace=True)"
   ]
  },
  {
   "cell_type": "code",
   "execution_count": 104,
   "metadata": {},
   "outputs": [],
   "source": [
    "dept_freq['diff'] = dept_freq['reordered']-dept_freq['no_reordered']"
   ]
  },
  {
   "cell_type": "code",
   "execution_count": 105,
   "metadata": {},
   "outputs": [],
   "source": [
    "dept_freq['dept_bin']=0\n",
    "dept_freq.loc[(dept_freq['diff']>=0.02), 'dept_bin'] = 2\n",
    "dept_freq.loc[(dept_freq['diff']<0.02) & (dept_freq['diff']>= 0 ),  'dept_bin'] = 1\n",
    "dept_freq.loc[(dept_freq['diff']<0) & (dept_freq['diff']>= -0.01 ),  'dept_bin'] = -1\n",
    "dept_freq.loc[(dept_freq['diff']<-0.01) & (dept_freq['diff']>= -0.02 ),  'dept_bin'] = -2\n",
    "dept_freq.loc[(dept_freq['diff']<-0.02),  'dept_bin'] = -3"
   ]
  },
  {
   "cell_type": "code",
   "execution_count": 106,
   "metadata": {},
   "outputs": [],
   "source": [
    "dept_map= dept_freq['dept_bin']"
   ]
  },
  {
   "cell_type": "code",
   "execution_count": 107,
   "metadata": {},
   "outputs": [],
   "source": [
    "df_dept['product_dept_bin'] = df_dept['department_id'].map(dept_map)"
   ]
  },
  {
   "cell_type": "code",
   "execution_count": 108,
   "metadata": {},
   "outputs": [],
   "source": [
    "df_dept.drop(columns='department_id', inplace=True)"
   ]
  },
  {
   "cell_type": "code",
   "execution_count": 110,
   "metadata": {},
   "outputs": [
    {
     "data": {
      "text/plain": [
       "-1    8\n",
       "-2    5\n",
       " 1    4\n",
       " 2    3\n",
       "-3    1\n",
       "Name: dept_bin, dtype: int64"
      ]
     },
     "execution_count": 110,
     "metadata": {},
     "output_type": "execute_result"
    }
   ],
   "source": [
    "dept_map.value_counts()"
   ]
  },
  {
   "cell_type": "code",
   "execution_count": 109,
   "metadata": {},
   "outputs": [],
   "source": [
    "# with open('processing/0806_1pm_df_dept.pkl', 'wb') as f:\n",
    "#     pickle.dump(df_dept, f)"
   ]
  },
  {
   "cell_type": "markdown",
   "metadata": {},
   "source": [
    "Bin aisle"
   ]
  },
  {
   "cell_type": "code",
   "execution_count": 111,
   "metadata": {},
   "outputs": [],
   "source": [
    "no = df_dept.loc[df_dept['reordered']==0,'aisle_id'].value_counts().sort_index()/\\\n",
    "df_dept.loc[df_dept['reordered']==0,'aisle_id'].count()\n",
    "re = df_dept.loc[df_dept['reordered']==1,'aisle_id'].value_counts().sort_index()/\\\n",
    "df_dept.loc[df_dept['reordered']==1,'aisle_id'].count()"
   ]
  },
  {
   "cell_type": "code",
   "execution_count": 112,
   "metadata": {},
   "outputs": [
    {
     "data": {
      "image/png": "[encoded data removed]",
      "text/plain": [
       "<Figure size 576x432 with 1 Axes>"
      ]
     },
     "metadata": {},
     "output_type": "display_data"
    }
   ],
   "source": [
    "x1 = np.arange(0,len(no))\n",
    "x2 = np.arange(0, len(re))\n",
    "plt.figure(figsize=(8,6))\n",
    "plt.bar(x1, no, width=0.4, label='0')\n",
    "plt.bar(x2+0.4, re, width=0.4, label = '1')\n",
    "plt.legend();"
   ]
  },
  {
   "cell_type": "code",
   "execution_count": 113,
   "metadata": {},
   "outputs": [],
   "source": [
    "aisle_freq  = pd.DataFrame(no)\n",
    "aisle_freq.columns=['no_reorder']\n",
    "aisle_freq = pd.merge(aisle_freq, re.to_frame(), left_index=True, right_index=True, how='outer')"
   ]
  },
  {
   "cell_type": "code",
   "execution_count": 114,
   "metadata": {},
   "outputs": [],
   "source": [
    "aisle_freq.fillna(0, inplace=True)\n",
    "aisle_freq.rename(columns={'aisle_id':'reordered'}, inplace =True)\n",
    "aisle_freq['diff'] = aisle_freq['reordered'] - aisle_freq['no_reorder']"
   ]
  },
  {
   "cell_type": "code",
   "execution_count": 115,
   "metadata": {},
   "outputs": [],
   "source": [
    "aisle_freq['product_aisle_bin'] = 0\n",
    "\n",
    "aisle_freq.loc[aisle_freq['diff']>=0.001, 'product_aisle_bin'] = 2\n",
    "\n",
    "aisle_freq.loc[aisle_freq['diff']<=-0.001, 'product_aisle_bin'] = -2\n",
    "\n",
    "aisle_freq.loc[(aisle_freq['diff']<0.001) & (aisle_freq['diff']>=0), 'product_aisle_bin'] = 1\n",
    "\n",
    "aisle_freq.loc[(aisle_freq['diff']>-0.001) & (aisle_freq['diff']<0), 'product_aisle_bin'] = -1"
   ]
  },
  {
   "cell_type": "code",
   "execution_count": 116,
   "metadata": {},
   "outputs": [
    {
     "data": {
      "text/plain": [
       "-1    54\n",
       "-2    46\n",
       " 1    18\n",
       " 2    16\n",
       "Name: product_aisle_bin, dtype: int64"
      ]
     },
     "execution_count": 116,
     "metadata": {},
     "output_type": "execute_result"
    }
   ],
   "source": [
    "aisle_freq.product_aisle_bin.value_counts()"
   ]
  },
  {
   "cell_type": "code",
   "execution_count": 117,
   "metadata": {},
   "outputs": [],
   "source": [
    "aisle_map = aisle_freq['product_aisle_bin']"
   ]
  },
  {
   "cell_type": "code",
   "execution_count": 49,
   "metadata": {},
   "outputs": [],
   "source": [
    "# maps = (dept_map, aisle_map)  #indices are the id\n",
    "# with open('processing/0806_1pm_maps,pkl', 'wb') as f:\n",
    "#     pickle.dump(maps, f)"
   ]
  },
  {
   "cell_type": "code",
   "execution_count": 118,
   "metadata": {},
   "outputs": [],
   "source": [
    "df_aisle=df_dept.copy()"
   ]
  },
  {
   "cell_type": "code",
   "execution_count": 119,
   "metadata": {},
   "outputs": [],
   "source": [
    "df_aisle['product_aisle_bin'] = df_aisle['aisle_id'].map(aisle_map)\n",
    "df_aisle.drop(columns='aisle_id', inplace=True)"
   ]
  },
  {
   "cell_type": "code",
   "execution_count": 120,
   "metadata": {},
   "outputs": [],
   "source": [
    "# with open('processing/0806_1pm_df_aisle.pkl', 'wb') as f:\n",
    "#     pickle.dump(df_aisle, f)"
   ]
  },
  {
   "cell_type": "markdown",
   "metadata": {},
   "source": [
    "Bin hour of day in the current order"
   ]
  },
  {
   "cell_type": "code",
   "execution_count": 4,
   "metadata": {},
   "outputs": [],
   "source": [
    "with open('processing/0806_1pm_df_aisle.pkl', 'rb') as f:\n",
    "    df_aisle = pickle.load(f)"
   ]
  },
  {
   "cell_type": "code",
   "execution_count": 5,
   "metadata": {},
   "outputs": [],
   "source": [
    "no = df_aisle.loc[df_aisle['reordered']==0,'order_hour_of_day'].value_counts().sort_index()/\\\n",
    "df_aisle.loc[df_aisle['reordered']==0,'order_hour_of_day'].count()\n",
    "re =df_aisle.loc[df_aisle['reordered']==1,'order_hour_of_day'].value_counts().sort_index()/\\\n",
    "df_aisle.loc[df_aisle['reordered']==1,'order_hour_of_day'].count()"
   ]
  },
  {
   "cell_type": "code",
   "execution_count": 6,
   "metadata": {},
   "outputs": [
    {
     "data": {
      "image/png": "[encoded data removed]",
      "text/plain": [
       "<Figure size 576x432 with 1 Axes>"
      ]
     },
     "metadata": {},
     "output_type": "display_data"
    }
   ],
   "source": [
    "x1=np.arange(len(no))\n",
    "x2= np.arange(len(re))\n",
    "plt.figure(figsize=(8,6))\n",
    "plt.bar(x1, no, width=0.4, label='0')\n",
    "plt.bar(x2+0.4, re, width=0.4, label = '1')\n",
    "plt.legend();\n",
    "plt.xticks(np.arange(0,len(no)),no.index, rotation=90);"
   ]
  },
  {
   "cell_type": "code",
   "execution_count": 7,
   "metadata": {},
   "outputs": [],
   "source": [
    "product_hod_freq = pd.DataFrame(no)\n",
    "product_hod_freq.columns=['no_reorder']\n",
    "product_hod_freq = pd.concat([product_hod_freq, re.to_frame()], axis=1)\n",
    "product_hod_freq.rename(columns={'order_hour_of_day':'reordered'}, inplace=True)\n",
    "product_hod_freq['diff'] = product_hod_freq['reordered'] - product_hod_freq['no_reorder']"
   ]
  },
  {
   "cell_type": "code",
   "execution_count": 8,
   "metadata": {},
   "outputs": [],
   "source": [
    "product_hod_freq['user_current_hod_bin'] = 0\n",
    "product_hod_freq.loc[(product_hod_freq['diff']>=0), 'user_current_hod_bin']=1\n",
    "product_hod_freq.loc[(product_hod_freq['diff']<0), 'user_current_hod_bin']=-1"
   ]
  },
  {
   "cell_type": "code",
   "execution_count": 126,
   "metadata": {},
   "outputs": [],
   "source": [
    "df_hod= df_aisle.copy()"
   ]
  },
  {
   "cell_type": "code",
   "execution_count": 9,
   "metadata": {},
   "outputs": [
    {
     "data": {
      "text/plain": [
       "count    24.000000\n",
       "mean      0.250000\n",
       "std       0.989071\n",
       "min      -1.000000\n",
       "25%      -1.000000\n",
       "50%       1.000000\n",
       "75%       1.000000\n",
       "max       1.000000\n",
       "Name: user_current_hod_bin, dtype: float64"
      ]
     },
     "execution_count": 9,
     "metadata": {},
     "output_type": "execute_result"
    }
   ],
   "source": [
    "product_hod_freq['user_current_hod_bin'].describe()"
   ]
  },
  {
   "cell_type": "code",
   "execution_count": 10,
   "metadata": {},
   "outputs": [
    {
     "data": {
      "text/plain": [
       " 1    15\n",
       "-1     9\n",
       "Name: user_current_hod_bin, dtype: int64"
      ]
     },
     "execution_count": 10,
     "metadata": {},
     "output_type": "execute_result"
    }
   ],
   "source": [
    "product_hod_freq['user_current_hod_bin'].value_counts()"
   ]
  },
  {
   "cell_type": "code",
   "execution_count": 11,
   "metadata": {},
   "outputs": [],
   "source": [
    "prod_hod_map = product_hod_freq['user_current_hod_bin']"
   ]
  },
  {
   "cell_type": "code",
   "execution_count": 12,
   "metadata": {},
   "outputs": [],
   "source": [
    "with open('processing/0806_5pm_product_hod_map.pkl', 'wb') as f:\n",
    "    pickle.dump(prod_hod_map, f)"
   ]
  },
  {
   "cell_type": "code",
   "execution_count": 128,
   "metadata": {},
   "outputs": [],
   "source": [
    "df_hod['current_order_hod'] = (df_hod['order_hour_of_day']\n",
    "                               .map(product_hod_freq['user_current_hod_bin']))"
   ]
  },
  {
   "cell_type": "code",
   "execution_count": 129,
   "metadata": {},
   "outputs": [],
   "source": [
    "df_hod.drop(columns='order_hour_of_day', inplace=True)"
   ]
  },
  {
   "cell_type": "code",
   "execution_count": 130,
   "metadata": {},
   "outputs": [
    {
     "data": {
      "text/plain": [
       "(7685556, 29)"
      ]
     },
     "execution_count": 130,
     "metadata": {},
     "output_type": "execute_result"
    }
   ],
   "source": [
    "df_hod.shape"
   ]
  },
  {
   "cell_type": "markdown",
   "metadata": {},
   "source": [
    "Final training data set df_hod."
   ]
  },
  {
   "cell_type": "code",
   "execution_count": 131,
   "metadata": {},
   "outputs": [],
   "source": [
    "with open('processing/0806_1pm_df_hod.pkl', 'wb') as f:\n",
    "    pickle.dump(df_hod, f)"
   ]
  },
  {
   "cell_type": "code",
   "execution_count": null,
   "metadata": {},
   "outputs": [],
   "source": []
  },
  {
   "cell_type": "code",
   "execution_count": null,
   "metadata": {},
   "outputs": [],
   "source": []
  }
 ],
 "metadata": {
  "kernelspec": {
   "display_name": "Python 3",
   "language": "python",
   "name": "python3"
  },
  "language_info": {
   "codemirror_mode": {
    "name": "ipython",
    "version": 3
   },
   "file_extension": ".py",
   "mimetype": "text/x-python",
   "name": "python",
   "nbconvert_exporter": "python",
   "pygments_lexer": "ipython3",
   "version": "3.6.4"
  }
 },
 "nbformat": 4,
 "nbformat_minor": 2
}
